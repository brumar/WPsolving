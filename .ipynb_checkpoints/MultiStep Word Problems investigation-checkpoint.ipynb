{
 "metadata": {
  "celltoolbar": "Slideshow",
  "name": "",
  "signature": "sha256:970caa96d98af5f1041d9c618a91b33c405acf86a6e059498d2a63a7b356b3bf"
 },
 "nbformat": 3,
 "nbformat_minor": 0,
 "worksheets": [
  {
   "cells": [
    {
     "cell_type": "markdown",
     "metadata": {
      "slideshow": {
       "slide_type": "-"
      }
     },
     "source": [
      "#### IMPORTS\n",
      "we import all the python files needed"
     ]
    },
    {
     "cell_type": "code",
     "collapsed": false,
     "input": [
      "import lib.operations as operations # basic variables concerning operations\n",
      "from lib.schemas import * # related to the mathematical structure of the problem\n",
      "from lib.textRepresentations import * # related to the propositions constituting the problem\n",
      "\n",
      "from lib.subjectRepresentations import * # related to the problem state of a subject (representations and quantities)\n",
      "from lib.paths import * # related to the solving process and its storing and analysis\n",
      "from lib.dataManager import * # related to the final steps in the process gathering and printing results of simulation"
     ],
     "language": "python",
     "metadata": {
      "slideshow": {
       "slide_type": "-"
      }
     },
     "outputs": [],
     "prompt_number": 1
    },
    {
     "cell_type": "markdown",
     "metadata": {
      "slideshow": {
       "slide_type": "-"
      }
     },
     "source": [
      "#Declare the problem"
     ]
    },
    {
     "cell_type": "markdown",
     "metadata": {
      "slideshow": {
       "slide_type": "-"
      }
     },
     "source": [
      "## Declare the mathematical structure of the problem"
     ]
    },
    {
     "cell_type": "markdown",
     "metadata": {},
     "source": [
      "Two schema describing the first relationships between the quantities are **created**"
     ]
    },
    {
     "cell_type": "code",
     "collapsed": false,
     "input": [
      "schema1=Schema(\"PoissonEF\",\"PoissonEI\",operations.addition,\"PoissonGAIN\",\"change\")\n",
      "schema2=Schema(\"ViandeEF\",\"ViandeEI\",operations.addition,\"ViandeGAIN\",\"change\")\n",
      "print(schema1.objects)\n",
      "print(schema2.objects)"
     ],
     "language": "python",
     "metadata": {},
     "outputs": [
      {
       "output_type": "stream",
       "stream": "stdout",
       "text": [
        "{'q1': 'PoissonEI', 'q2': 'PoissonGAIN', 'qf': 'PoissonEF'}\n",
        "{'q1': 'ViandeEI', 'q2': 'ViandeGAIN', 'qf': 'ViandeEF'}\n"
       ]
      }
     ],
     "prompt_number": 2
    },
    {
     "cell_type": "markdown",
     "metadata": {},
     "source": [
      "We then create the problem structure and **add** the schemas"
     ]
    },
    {
     "cell_type": "code",
     "collapsed": false,
     "input": [
      "struct=ProblemStructure()\n",
      "struct.addSchema(schema1)\n",
      "struct.addSchema(schema2)\n",
      "struct.schemas"
     ],
     "language": "python",
     "metadata": {},
     "outputs": [
      {
       "metadata": {},
       "output_type": "pyout",
       "prompt_number": 3,
       "text": [
        "[<lib.schemas.Schema instance at 0x000000000A3AB9C8>,\n",
        " <lib.schemas.Schema instance at 0x000000000A3AB948>]"
       ]
      }
     ],
     "prompt_number": 3
    },
    {
     "cell_type": "markdown",
     "metadata": {},
     "source": [
      "And we create the schemas in order to create all the correspondances between the first two schemas"
     ]
    },
    {
     "cell_type": "code",
     "collapsed": false,
     "input": [
      "struct.addBridgingSchemas(schema1,schema2)"
     ],
     "language": "python",
     "metadata": {},
     "outputs": [],
     "prompt_number": 4
    },
    {
     "cell_type": "code",
     "collapsed": false,
     "input": [
      "ls=struct.schemas\n",
      "for schem in ls:\n",
      "    print(schem.objects)"
     ],
     "language": "python",
     "metadata": {},
     "outputs": [
      {
       "output_type": "stream",
       "stream": "stdout",
       "text": [
        "{'q1': 'PoissonEI', 'q2': 'PoissonGAIN', 'qf': 'PoissonEF'}\n",
        "{'q1': 'ViandeEI', 'q2': 'ViandeGAIN', 'qf': 'ViandeEF'}\n",
        "{'q1': 'PoissonEI', 'q2': 'ViandeEI', 'qf': 'PoissonEIminusViandeEI'}\n",
        "{'q1': 'PoissonGAIN', 'q2': 'ViandeGAIN', 'qf': 'PoissonGAINminusViandeGAIN'}\n",
        "{'q1': 'PoissonEF', 'q2': 'ViandeEF', 'qf': 'PoissonEFminusViandeEF'}\n",
        "{'q1': 'PoissonEIminusViandeEI', 'q2': 'PoissonGAINminusViandeGAIN', 'qf': 'PoissonEFminusViandeEF'}\n"
       ]
      }
     ],
     "prompt_number": 5
    },
    {
     "cell_type": "markdown",
     "metadata": {},
     "source": [
      "We then update the field corresponding to set of the object in the problem"
     ]
    },
    {
     "cell_type": "code",
     "collapsed": false,
     "input": [
      "print(struct.objectSet)# before\n",
      "struct.updateObjectSet() \n",
      "print(struct.objectSet) #after"
     ],
     "language": "python",
     "metadata": {},
     "outputs": [
      {
       "output_type": "stream",
       "stream": "stdout",
       "text": [
        "set([])\n",
        "set(['PoissonEI', 'PoissonEF', 'PoissonEIminusViandeEI', 'PoissonGAINminusViandeGAIN', 'ViandeEF', 'ViandeGAIN', 'ViandeEI', 'PoissonEFminusViandeEF', 'PoissonGAIN'])\n"
       ]
      }
     ],
     "prompt_number": 6
    },
    {
     "cell_type": "code",
     "collapsed": false,
     "input": [
      "print(struct.objectSet)"
     ],
     "language": "python",
     "metadata": {},
     "outputs": []
    },
    {
     "cell_type": "markdown",
     "metadata": {},
     "source": [
      "## Declare the text informations provided in the problem\n",
      "#### The sentences"
     ]
    },
    {
     "cell_type": "code",
     "collapsed": false,
     "input": [
      "text=Text()\n",
      "text.addTextInformation(TextInformation(Representation(Quantity(\"PoissonGAIN\",\"P1\"),'Au supermarch\u00e9, le kilo de poisson a augment\u00e9 de 5 euros cette ann\u00e9e')))\n",
      "text.addTextInformation(TextInformation(Representation(Quantity(\"PoissonEF\",\"T1\"),'Un kilo de poisson coute maintenant 12 euros.')))\n",
      "text.addTextInformation(TextInformation(Representation(Quantity(\"PoissonEIminusViandeEI\",\"dEI\"),'Au d\u00e9but de l\\'ann\u00e9e, le kilo de viande coutait le m\u00eame prix que le kilo de poisson.')))\n",
      "text.addTextInformation(TextInformation(Representation(Quantity(\"PoissonGAINminusViandeGAIN\",\"d\"),'Le kilo de viande a augment\u00e9 de 3 euros de moins que le kilo de poisson')))"
     ],
     "language": "python",
     "metadata": {},
     "outputs": [],
     "prompt_number": 7
    },
    {
     "cell_type": "code",
     "collapsed": false,
     "input": [
      "for info in text.textInformations:\n",
      "    q=info.representations[0].quantity\n",
      "    print(q.object, q.value)"
     ],
     "language": "python",
     "metadata": {},
     "outputs": [
      {
       "ename": "AttributeError",
       "evalue": "TextInformation instance has no attribute 'value'",
       "output_type": "pyerr",
       "traceback": [
        "\u001b[1;31m---------------------------------------------------------------------------\u001b[0m\n\u001b[1;31mAttributeError\u001b[0m                            Traceback (most recent call last)",
        "\u001b[1;32m<ipython-input-10-e38055225e8a>\u001b[0m in \u001b[0;36m<module>\u001b[1;34m()\u001b[0m\n\u001b[0;32m      1\u001b[0m \u001b[1;32mfor\u001b[0m \u001b[0minfo\u001b[0m \u001b[1;32min\u001b[0m \u001b[0mtext\u001b[0m\u001b[1;33m.\u001b[0m\u001b[0mtextInformations\u001b[0m\u001b[1;33m:\u001b[0m\u001b[1;33m\u001b[0m\u001b[0m\n\u001b[1;32m----> 2\u001b[1;33m     \u001b[1;32mprint\u001b[0m\u001b[1;33m(\u001b[0m\u001b[0minfo\u001b[0m\u001b[1;33m.\u001b[0m\u001b[0mvalue\u001b[0m\u001b[1;33m)\u001b[0m\u001b[1;33m\u001b[0m\u001b[0m\n\u001b[0m",
        "\u001b[1;31mAttributeError\u001b[0m: TextInformation instance has no attribute 'value'"
       ]
      }
     ],
     "prompt_number": 10
    },
    {
     "cell_type": "markdown",
     "metadata": {},
     "source": [
      "#### The Goal"
     ]
    },
    {
     "cell_type": "code",
     "collapsed": false,
     "input": [
      "text.setGoal(TextGoal(Goal('ViandeEF','Combien coute le kilo de viande maintenant?')))"
     ],
     "language": "python",
     "metadata": {},
     "outputs": []
    },
    {
     "cell_type": "markdown",
     "metadata": {},
     "source": [
      "#### The alternative representations"
     ]
    },
    {
     "cell_type": "code",
     "collapsed": true,
     "input": [
      "text.getTextInformation(0).addAlternativeRepresentation(Representation(Quantity(\"PoissonEI\",\"P1\"),'Au supermarch\u00e9, le kilo de poisson \u00e9tait de 5 euros'))\n",
      "text.getTextInformation(0).addAlternativeRepresentation(Representation(Quantity(\"PoissonEF\",\"P1\"),'Au supermarch\u00e9, le kilo de poisson coute 5 euros'))\n",
      "text.getTextInformation(1).addAlternativeRepresentation(Representation(Quantity(\"PoissonEI\",\"T1\"),'Un kilo de poisson \u00e9tait de 12 euros.'))\n",
      "text.getTextInformation(2).addAlternativeRepresentation(Representation(Quantity(\"PoissonEFminusViandeEF\",\"dEI\"),'Au la fin de l\\'ann\u00e9e, le kilo de viande coute le m\u00eame prix que le kilo de poisson.'))\n",
      "text.getTextInformation(2).addAlternativeRepresentation(Representation(Quantity(\"PoissonGAINminusViandeGAIN\",\"dEI\"),'Le kilo de viande a augment\u00e9 du m\u00eame prix que le kilo de poisson.'))\n",
      "text.getTextInformation(3).addAlternativeRepresentation(Representation(Quantity(\"ViandeGAIN\",\"d\"),'Le kilo de viande a augment\u00e9 de 3 euros'))\n",
      "text.getTextInformation(3).addAlternativeRepresentation(Representation(Quantity(\"ViandeGAIN\",\"-d\"),'Le kilo de viande a diminu\u00e9 de 3 euros'))\n",
      "text.getTextInformation(3).addAlternativeRepresentation(Representation(Quantity(\"PoissonEFminusViandeEF\",\"d\"),'Le kilo de viande vaut 3 euross de moins que le kilo de poisson'))\n",
      "text.getTextInformation(3).addAlternativeRepresentation(Representation(Quantity(\"ViandeEF\",\"d\"),'Le kilo coute 3 euros \u00e0 la fin'))"
     ],
     "language": "python",
     "metadata": {},
     "outputs": []
    },
    {
     "cell_type": "code",
     "collapsed": false,
     "input": [
      "textInfo=text.textInformations[3]\n",
      "for representation in textInfo.representations:\n",
      "    print(representation.quantity.object,representation.quantity.value)"
     ],
     "language": "python",
     "metadata": {},
     "outputs": []
    },
    {
     "cell_type": "markdown",
     "metadata": {},
     "source": [
      "### Create the problem"
     ]
    },
    {
     "cell_type": "code",
     "collapsed": false,
     "input": [
      "probleme1=Problem(struct,text)"
     ],
     "language": "python",
     "metadata": {},
     "outputs": []
    },
    {
     "cell_type": "markdown",
     "metadata": {},
     "source": [
      "Set the initial values"
     ]
    },
    {
     "cell_type": "code",
     "collapsed": false,
     "input": [
      "probleme1.setInitialValues({\"P1\":5,\"T1\":12,\"dEI\":0,\"d\":3,\"-d\":-3})"
     ],
     "language": "python",
     "metadata": {},
     "outputs": []
    },
    {
     "cell_type": "markdown",
     "metadata": {},
     "source": [
      "## Declare the solver"
     ]
    },
    {
     "cell_type": "markdown",
     "metadata": {},
     "source": [
      "Init the representation of the problem"
     ]
    },
    {
     "cell_type": "code",
     "collapsed": false,
     "input": [
      "upD=Updater(probleme1) # create the problem state\n",
      "upD.startAsUnderstood() # init the problem state"
     ],
     "language": "python",
     "metadata": {},
     "outputs": []
    },
    {
     "cell_type": "markdown",
     "metadata": {},
     "source": [
      "Define the behavioral constraint of the solvers"
     ]
    },
    {
     "cell_type": "code",
     "collapsed": false,
     "input": [
      "c1=IntervalConstraint(['EF','EI'],operations.superiorOrEqualTo0)\n",
      "c2=BehavioralConstraint(breakTheOldOne=True)\n",
      "constraints=[c1,c2]"
     ],
     "language": "python",
     "metadata": {},
     "outputs": []
    },
    {
     "cell_type": "markdown",
     "metadata": {},
     "source": [
      "Create the solvers"
     ]
    },
    {
     "cell_type": "code",
     "collapsed": false,
     "input": [
      "solver1=Solver(upD,constraints)\n",
      "listOfActions1=[solver1.SOLVER]# the solver is only asked to apply schemas until the problem is solved\n",
      "solver1.generalSequentialSolver(listOfActions1)"
     ],
     "language": "python",
     "metadata": {},
     "outputs": []
    },
    {
     "cell_type": "markdown",
     "metadata": {},
     "source": [
      "### generate the solution space"
     ]
    },
    {
     "cell_type": "code",
     "collapsed": false,
     "input": [
      "solver1.TreePaths.scanTree()\n",
      "print(solver1.TreePaths.treeOutput)"
     ],
     "language": "python",
     "metadata": {},
     "outputs": []
    },
    {
     "cell_type": "code",
     "collapsed": false,
     "input": [
      "print(str(solver1.TreePaths.pathsCount)+\" different paths have been discovered\" )"
     ],
     "language": "python",
     "metadata": {},
     "outputs": []
    },
    {
     "cell_type": "markdown",
     "metadata": {},
     "source": [
      "### Inspect the datas "
     ]
    },
    {
     "cell_type": "code",
     "collapsed": false,
     "input": [
      "simulatedDatas=SimulatedDatas()\n",
      "simulatedDatas.addDataSet(solver1.TreePaths.pathList,\"problem1\",\"True Solver\")"
     ],
     "language": "python",
     "metadata": {},
     "outputs": []
    },
    {
     "cell_type": "markdown",
     "metadata": {},
     "source": [
      "### Declare another solver and add it to the simulated Datas"
     ]
    },
    {
     "cell_type": "code",
     "collapsed": false,
     "input": [
      "c2=BehavioralConstraint(breakTheOldOne=False)\n",
      "constraints=[c1,c2]\n",
      "solver=Solver(upD,constraints)\n",
      "solver.generalSequentialSolver(listOfActions=[solver.SCHEMA,solver.INTERP,solver.SCHEMA,solver.INTERP,solver.SOLVER])\n",
      "solver.TreePaths.scanTree()\n",
      "simulatedDatas.addDataSet(solver.TreePaths.pathList,\"Tc4t\",\"Schem+Int+Schem+Int+Solve_NOBREAK\")"
     ],
     "language": "python",
     "metadata": {},
     "outputs": []
    }
   ],
   "metadata": {}
  }
 ]
}