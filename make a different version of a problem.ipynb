{
 "metadata": {
  "name": "",
  "signature": "sha256:85b9904b38689dfb012beac7930b9c904651dbdbc769358c02618ee8f6bf501e"
 },
 "nbformat": 3,
 "nbformat_minor": 0,
 "worksheets": [
  {
   "cells": [
    {
     "cell_type": "markdown",
     "metadata": {},
     "source": [
      "## create a new problem starting with a old one"
     ]
    },
    {
     "cell_type": "markdown",
     "metadata": {},
     "source": [
      "###imports"
     ]
    },
    {
     "cell_type": "code",
     "collapsed": false,
     "input": [
      "import lib.operations as operations\n",
      "from lib.schemas import *\n",
      "from lib.subjectRepresentations import *\n",
      "from lib.textRepresentations import *\n",
      "from lib.paths import *\n",
      "from lib.dataManager import *\n",
      "from lib.optionsFactory import *"
     ],
     "language": "python",
     "metadata": {},
     "outputs": [],
     "prompt_number": 18
    },
    {
     "cell_type": "markdown",
     "metadata": {},
     "source": [
      "### create the problem1"
     ]
    },
    {
     "cell_type": "code",
     "collapsed": false,
     "input": [
      "schema1=Schema(\"PoissonEF\",\"PoissonEI\",operations.addition,\"PoissonGAIN\",\"change\")\n",
      "schema2=Schema(\"ViandeEF\",\"ViandeEI\",operations.addition,\"ViandeGAIN\",\"change\")\n",
      "struct=ProblemStructure()\n",
      "struct.addSchema(schema1)\n",
      "struct.addSchema(schema2)\n",
      "struct.addBridgingSchemas(schema1,schema2)\n",
      "struct.updateObjectSet()\n",
      "\n",
      "text=Text()\n",
      "text.addTextInformation(TextInformation(Representation(Quantity(\"PoissonGAIN\",\"P1\"),'Au supermarch\u00e9, le kilo de poisson a augment\u00e9 de 5 euros cette ann\u00e9e')))\n",
      "text.addTextInformation(TextInformation(Representation(Quantity(\"PoissonEF\",\"T1\"),'Un kilo de poisson coute maintenant 12 euros.')))\n",
      "text.addTextInformation(TextInformation(Representation(Quantity(\"PoissonEIminusViandeEI\",\"dEI\"),'Au d\u00e9but de l\\'ann\u00e9e, le kilo de viande coutait le m\u00eame prix que le kilo de poisson.')))\n",
      "text.addTextInformation(TextInformation(Representation(Quantity(\"PoissonGAINminusViandeGAIN\",\"d\"),'Le kilo de viande a augment\u00e9 de 3 euros de moins que le kilo de poisson')))\n",
      "text.setGoal(TextGoal(Goal('ViandeEF','Combien coute le kilo de viande maintenant?')))\n",
      "\n",
      "text.getTextInformation(0).addAlternativeRepresentation(Representation(Quantity(\"PoissonEI\",\"P1\"),'Au supermarch\u00e9, le kilo de poisson \u00e9tait de 5 euros'))\n",
      "text.getTextInformation(0).addAlternativeRepresentation(Representation(Quantity(\"PoissonEF\",\"P1\"),'Au supermarch\u00e9, le kilo de poisson coute 5 euros'))\n",
      "text.getTextInformation(1).addAlternativeRepresentation(Representation(Quantity(\"PoissonEI\",\"T1\"),'Un kilo de poisson \u00e9tait de 12 euros.'))\n",
      "text.getTextInformation(2).addAlternativeRepresentation(Representation(Quantity(\"PoissonEFminusViandeEF\",\"dEI\"),'Au la fin de l\\'ann\u00e9e, le kilo de viande coute le m\u00eame prix que le kilo de poisson.'))\n",
      "text.getTextInformation(2).addAlternativeRepresentation(Representation(Quantity(\"PoissonGAINminusViandeGAIN\",\"dEI\"),'Le kilo de viande a augment\u00e9 du m\u00eame prix que le kilo de poisson.'))\n",
      "text.getTextInformation(3).addAlternativeRepresentation(Representation(Quantity(\"ViandeGAIN\",\"d\"),'Le kilo de viande a augment\u00e9 de 3 euros'))\n",
      "text.getTextInformation(3).addAlternativeRepresentation(Representation(Quantity(\"ViandeGAIN\",\"-d\"),'Le kilo de viande a diminu\u00e9 de 3 euros'))\n",
      "text.getTextInformation(3).addAlternativeRepresentation(Representation(Quantity(\"PoissonGAINminusViandeGAIN\",\"-d\"),'Le kilo de viande a augment\u00e9 de 3 euros de plus que le kilo de poisson'))\n",
      "text.getTextInformation(3).addAlternativeRepresentation(Representation(Quantity(\"PoissonEFminusViandeEF\",\"d\"),'Le kilo de viande vaut 3 euros de moins que le kilo de poisson'))\n",
      "text.getTextInformation(3).addAlternativeRepresentation(Representation(Quantity(\"PoissonEFminusViandeEF\",\"-d\"),'Le kilo de viande vaut 3 euros de plus que le kilo de poisson'))\n",
      "text.getTextInformation(3).addAlternativeRepresentation(Representation(Quantity(\"ViandeEF\",\"d\"),'Le kilo coute 3 euros \u00e0 la fin'))\n",
      "probleme1=Problem(struct,text)"
     ],
     "language": "python",
     "metadata": {},
     "outputs": [],
     "prompt_number": 19
    },
    {
     "cell_type": "markdown",
     "metadata": {},
     "source": [
      "### Deep copy of problem1"
     ]
    },
    {
     "cell_type": "code",
     "collapsed": false,
     "input": [
      "problem2=copy.deepcopy(probleme1)"
     ],
     "language": "python",
     "metadata": {},
     "outputs": [],
     "prompt_number": 20
    },
    {
     "cell_type": "markdown",
     "metadata": {},
     "source": [
      "- **The third text information differs, we create a new one**"
     ]
    },
    {
     "cell_type": "code",
     "collapsed": false,
     "input": [
      "info3_prime=TextInformation(Representation(Quantity(\"PoissonEFminusViandeEF\",\"d\"),'Le kilo de viande vaut 3 euros de moins que le kilo de poisson'))"
     ],
     "language": "python",
     "metadata": {},
     "outputs": [],
     "prompt_number": 21
    },
    {
     "cell_type": "code",
     "collapsed": false,
     "input": [
      "info3_prime.addAlternativeRepresentation(Representation(Quantity(\"ViandeGAIN\",\"d\"),'Le kilo de viande a augment\u00e9 de 3 euros'))\n",
      "info3_prime.addAlternativeRepresentation(Representation(Quantity(\"ViandeGAIN\",\"-d\"),'Le kilo de viande a diminu\u00e9 de 3 euros'))\n",
      "info3_prime.addAlternativeRepresentation(Representation(Quantity(\"PoissonGAINminusViandeGAIN\",\"-d\"),'Le kilo de viande a augment\u00e9 de 3 euros de plus que le kilo de poisson'))\n",
      "info3_prime.addAlternativeRepresentation(Representation(Quantity(\"PoissonGAINminusViandeGAIN\",\"d\"),'Le kilo de viande a augment\u00e9 de 3 euros de moins que le kilo de poisson'))\n",
      "info3_prime.addAlternativeRepresentation(Representation(Quantity(\"PoissonEFminusViandeEF\",\"-d\"),'Le kilo de viande vaut 3 euros de plus que le kilo de poisson'))\n",
      "info3_prime.addAlternativeRepresentation(Representation(Quantity(\"ViandeEF\",\"d\"),'Le kilo coute 3 euros \u00e0 la fin'))\n",
      "\n",
      "problem2.text.textInformations[3]=info3_prime"
     ],
     "language": "python",
     "metadata": {},
     "outputs": [],
     "prompt_number": 22
    },
    {
     "cell_type": "markdown",
     "metadata": {},
     "source": [
      "- **The goal is not the same, we change it**"
     ]
    },
    {
     "cell_type": "code",
     "collapsed": false,
     "input": [
      "problem2.text.setGoal(TextGoal(Goal('ViandeGAIN','De combien le kilo de viande a t-il augment\u00e9 ?')))"
     ],
     "language": "python",
     "metadata": {},
     "outputs": [],
     "prompt_number": 23
    },
    {
     "cell_type": "markdown",
     "metadata": {},
     "source": [
      "Last steps : set initial values,and name it"
     ]
    },
    {
     "cell_type": "code",
     "collapsed": false,
     "input": [
      "problem2.setInitialValues({\"P1\":5,\"T1\":12,\"dEI\":0,\"d\":3,\"-d\":-3})\n",
      "problem2.name=\"Tc4p\""
     ],
     "language": "python",
     "metadata": {},
     "outputs": [],
     "prompt_number": 24
    },
    {
     "cell_type": "code",
     "collapsed": false,
     "input": [
      "upD=Updater(problem2) \n",
      "upD.startAsUnderstood() \n",
      "c1=IntervalConstraint(['EF','EI'],operations.superiorOrEqualTo0) \n",
      "c2=BehavioralConstraint(breakTheOldOne=True)\n",
      "constraints=[c1,c2]\n",
      "autoSolver=Solver(upD,constraints)\n",
      "l=[autoSolver.SOLVER]\n",
      "autoSolver.generalSequentialSolver(listOfActions=l)\n",
      "autoSolver.TreePaths.scanTree()\n",
      "print(autoSolver.TreePaths.treeOutput)"
     ],
     "language": "python",
     "metadata": {},
     "outputs": [
      {
       "output_type": "stream",
       "stream": "stdout",
       "text": [
        " 12 - 5 = 7  (PoissonEI)\r\n",
        "\t 7 - 0 = 7  (ViandeEI)\r\n",
        "\t\t 12 - 3 = 9  (ViandeEF)\r\n",
        "\t\t\t 9 - 7 = 2  (ViandeGAIN)\r\n",
        "\t\t\t\t(T1-d)-(T1-P1) : interpretation -> (PoissonEF-PoissonEFminusViandeEF)-((PoissonEF-PoissonGAIN)-PoissonEIminusViandeEI)=ViandeGAIN\r\n",
        "\t\t\t 3 - 0 = 3  (PoissonGAINminusViandeGAIN)\r\n",
        "\t\t\t\t 9 - 7 = 2  (ViandeGAIN)\r\n",
        "\t\t\t\t\t(T1-d)-(T1-P1) : interpretation -> (PoissonEF-PoissonEFminusViandeEF)-((PoissonEF-PoissonGAIN)-PoissonEIminusViandeEI)=ViandeGAIN\r\n",
        "\t\t\t\t 5 - 3 = 2  (ViandeGAIN)\r\n",
        "\t\t\t\t\tP1-d : interpretation -> PoissonGAIN-(PoissonEFminusViandeEF-PoissonEIminusViandeEI)=ViandeGAIN\r\n",
        "\t\t 3 - 0 = 3  (PoissonGAINminusViandeGAIN)\r\n",
        "\t\t\t 5 - 3 = 2  (ViandeGAIN)\r\n",
        "\t\t\t\tP1-d : interpretation -> PoissonGAIN-(PoissonEFminusViandeEF-PoissonEIminusViandeEI)=ViandeGAIN\r\n",
        "\t\t\t 12 - 3 = 9  (ViandeEF)\r\n",
        "\t\t\t\t 9 - 7 = 2  (ViandeGAIN)\r\n",
        "\t\t\t\t\t(T1-d)-(T1-P1) : interpretation -> (PoissonEF-PoissonEFminusViandeEF)-((PoissonEF-PoissonGAIN)-PoissonEIminusViandeEI)=ViandeGAIN\r\n",
        "\t\t\t\t 5 - 3 = 2  (ViandeGAIN)\r\n",
        "\t\t\t\t\tP1-d : interpretation -> PoissonGAIN-(PoissonEFminusViandeEF-PoissonEIminusViandeEI)=ViandeGAIN\r\n",
        "\t 12 - 3 = 9  (ViandeEF)\r\n",
        "\t\t 7 - 0 = 7  (ViandeEI)\r\n",
        "\t\t\t 9 - 7 = 2  (ViandeGAIN)\r\n",
        "\t\t\t\t(T1-d)-(T1-P1) : interpretation -> (PoissonEF-PoissonEFminusViandeEF)-((PoissonEF-PoissonGAIN)-PoissonEIminusViandeEI)=ViandeGAIN\r\n",
        "\t\t\t 3 - 0 = 3  (PoissonGAINminusViandeGAIN)\r\n",
        "\t\t\t\t 9 - 7 = 2  (ViandeGAIN)\r\n",
        "\t\t\t\t\t(T1-d)-(T1-P1) : interpretation -> (PoissonEF-PoissonEFminusViandeEF)-((PoissonEF-PoissonGAIN)-PoissonEIminusViandeEI)=ViandeGAIN\r\n",
        "\t\t\t\t 5 - 3 = 2  (ViandeGAIN)\r\n",
        "\t\t\t\t\tP1-d : interpretation -> PoissonGAIN-(PoissonEFminusViandeEF-PoissonEIminusViandeEI)=ViandeGAIN\r\n",
        "\t\t 3 - 0 = 3  (PoissonGAINminusViandeGAIN)\r\n",
        "\t\t\t 7 - 0 = 7  (ViandeEI)\r\n",
        "\t\t\t\t 9 - 7 = 2  (ViandeGAIN)\r\n",
        "\t\t\t\t\t(T1-d)-(T1-P1) : interpretation -> (PoissonEF-PoissonEFminusViandeEF)-((PoissonEF-PoissonGAIN)-PoissonEIminusViandeEI)=ViandeGAIN\r\n",
        "\t\t\t\t 5 - 3 = 2  (ViandeGAIN)\r\n",
        "\t\t\t\t\tP1-d : interpretation -> PoissonGAIN-(PoissonEFminusViandeEF-PoissonEIminusViandeEI)=ViandeGAIN\r\n",
        "\t\t\t 5 - 3 = 2  (ViandeGAIN)\r\n",
        "\t\t\t\tP1-d : interpretation -> PoissonGAIN-(PoissonEFminusViandeEF-PoissonEIminusViandeEI)=ViandeGAIN\r\n",
        "\t 3 - 0 = 3  (PoissonGAINminusViandeGAIN)\r\n",
        "\t\t 7 - 0 = 7  (ViandeEI)\r\n",
        "\t\t\t 5 - 3 = 2  (ViandeGAIN)\r\n",
        "\t\t\t\tP1-d : interpretation -> PoissonGAIN-(PoissonEFminusViandeEF-PoissonEIminusViandeEI)=ViandeGAIN\r\n",
        "\t\t\t 12 - 3 = 9  (ViandeEF)\r\n",
        "\t\t\t\t 9 - 7 = 2  (ViandeGAIN)\r\n",
        "\t\t\t\t\t(T1-d)-(T1-P1) : interpretation -> (PoissonEF-PoissonEFminusViandeEF)-((PoissonEF-PoissonGAIN)-PoissonEIminusViandeEI)=ViandeGAIN\r\n",
        "\t\t\t\t 5 - 3 = 2  (ViandeGAIN)\r\n",
        "\t\t\t\t\tP1-d : interpretation -> PoissonGAIN-(PoissonEFminusViandeEF-PoissonEIminusViandeEI)=ViandeGAIN\r\n",
        "\t\t 5 - 3 = 2  (ViandeGAIN)\r\n",
        "\t\t\tP1-d : interpretation -> PoissonGAIN-(PoissonEFminusViandeEF-PoissonEIminusViandeEI)=ViandeGAIN\r\n",
        "\t\t 12 - 3 = 9  (ViandeEF)\r\n",
        "\t\t\t 7 - 0 = 7  (ViandeEI)\r\n",
        "\t\t\t\t 9 - 7 = 2  (ViandeGAIN)\r\n",
        "\t\t\t\t\t(T1-d)-(T1-P1) : interpretation -> (PoissonEF-PoissonEFminusViandeEF)-((PoissonEF-PoissonGAIN)-PoissonEIminusViandeEI)=ViandeGAIN\r\n",
        "\t\t\t\t 5 - 3 = 2  (ViandeGAIN)\r\n",
        "\t\t\t\t\tP1-d : interpretation -> PoissonGAIN-(PoissonEFminusViandeEF-PoissonEIminusViandeEI)=ViandeGAIN\r\n",
        "\t\t\t 5 - 3 = 2  (ViandeGAIN)\r\n",
        "\t\t\t\tP1-d : interpretation -> PoissonGAIN-(PoissonEFminusViandeEF-PoissonEIminusViandeEI)=ViandeGAIN\r\n",
        " 12 - 3 = 9  (ViandeEF)\r\n",
        "\t 12 - 5 = 7  (PoissonEI)\r\n",
        "\t\t 7 - 0 = 7  (ViandeEI)\r\n",
        "\t\t\t 9 - 7 = 2  (ViandeGAIN)\r\n",
        "\t\t\t\t(T1-d)-(T1-P1) : interpretation -> (PoissonEF-PoissonEFminusViandeEF)-((PoissonEF-PoissonGAIN)-PoissonEIminusViandeEI)=ViandeGAIN\r\n",
        "\t\t\t 3 - 0 = 3  (PoissonGAINminusViandeGAIN)\r\n",
        "\t\t\t\t 9 - 7 = 2  (ViandeGAIN)\r\n",
        "\t\t\t\t\t(T1-d)-(T1-P1) : interpretation -> (PoissonEF-PoissonEFminusViandeEF)-((PoissonEF-PoissonGAIN)-PoissonEIminusViandeEI)=ViandeGAIN\r\n",
        "\t\t\t\t 5 - 3 = 2  (ViandeGAIN)\r\n",
        "\t\t\t\t\tP1-d : interpretation -> PoissonGAIN-(PoissonEFminusViandeEF-PoissonEIminusViandeEI)=ViandeGAIN\r\n",
        "\t\t 3 - 0 = 3  (PoissonGAINminusViandeGAIN)\r\n",
        "\t\t\t 7 - 0 = 7  (ViandeEI)\r\n",
        "\t\t\t\t 9 - 7 = 2  (ViandeGAIN)\r\n",
        "\t\t\t\t\t(T1-d)-(T1-P1) : interpretation -> (PoissonEF-PoissonEFminusViandeEF)-((PoissonEF-PoissonGAIN)-PoissonEIminusViandeEI)=ViandeGAIN\r\n",
        "\t\t\t\t 5 - 3 = 2  (ViandeGAIN)\r\n",
        "\t\t\t\t\tP1-d : interpretation -> PoissonGAIN-(PoissonEFminusViandeEF-PoissonEIminusViandeEI)=ViandeGAIN\r\n",
        "\t\t\t 5 - 3 = 2  (ViandeGAIN)\r\n",
        "\t\t\t\tP1-d : interpretation -> PoissonGAIN-(PoissonEFminusViandeEF-PoissonEIminusViandeEI)=ViandeGAIN\r\n",
        "\t 3 - 0 = 3  (PoissonGAINminusViandeGAIN)\r\n",
        "\t\t 12 - 5 = 7  (PoissonEI)\r\n",
        "\t\t\t 7 - 0 = 7  (ViandeEI)\r\n",
        "\t\t\t\t 9 - 7 = 2  (ViandeGAIN)\r\n",
        "\t\t\t\t\t(T1-d)-(T1-P1) : interpretation -> (PoissonEF-PoissonEFminusViandeEF)-((PoissonEF-PoissonGAIN)-PoissonEIminusViandeEI)=ViandeGAIN\r\n",
        "\t\t\t\t 5 - 3 = 2  (ViandeGAIN)\r\n",
        "\t\t\t\t\tP1-d : interpretation -> PoissonGAIN-(PoissonEFminusViandeEF-PoissonEIminusViandeEI)=ViandeGAIN\r\n",
        "\t\t\t 5 - 3 = 2  (ViandeGAIN)\r\n",
        "\t\t\t\tP1-d : interpretation -> PoissonGAIN-(PoissonEFminusViandeEF-PoissonEIminusViandeEI)=ViandeGAIN\r\n",
        "\t\t 5 - 3 = 2  (ViandeGAIN)\r\n",
        "\t\t\tP1-d : interpretation -> PoissonGAIN-(PoissonEFminusViandeEF-PoissonEIminusViandeEI)=ViandeGAIN\r\n",
        " 3 - 0 = 3  (PoissonGAINminusViandeGAIN)\r\n",
        "\t 12 - 5 = 7  (PoissonEI)\r\n",
        "\t\t 7 - 0 = 7  (ViandeEI)\r\n",
        "\t\t\t 5 - 3 = 2  (ViandeGAIN)\r\n",
        "\t\t\t\tP1-d : interpretation -> PoissonGAIN-(PoissonEFminusViandeEF-PoissonEIminusViandeEI)=ViandeGAIN\r\n",
        "\t\t\t 12 - 3 = 9  (ViandeEF)\r\n",
        "\t\t\t\t 9 - 7 = 2  (ViandeGAIN)\r\n",
        "\t\t\t\t\t(T1-d)-(T1-P1) : interpretation -> (PoissonEF-PoissonEFminusViandeEF)-((PoissonEF-PoissonGAIN)-PoissonEIminusViandeEI)=ViandeGAIN\r\n",
        "\t\t\t\t 5 - 3 = 2  (ViandeGAIN)\r\n",
        "\t\t\t\t\tP1-d : interpretation -> PoissonGAIN-(PoissonEFminusViandeEF-PoissonEIminusViandeEI)=ViandeGAIN\r\n",
        "\t\t 5 - 3 = 2  (ViandeGAIN)\r\n",
        "\t\t\tP1-d : interpretation -> PoissonGAIN-(PoissonEFminusViandeEF-PoissonEIminusViandeEI)=ViandeGAIN\r\n",
        "\t\t 12 - 3 = 9  (ViandeEF)\r\n",
        "\t\t\t 7 - 0 = 7  (ViandeEI)\r\n",
        "\t\t\t\t 9 - 7 = 2  (ViandeGAIN)\r\n",
        "\t\t\t\t\t(T1-d)-(T1-P1) : interpretation -> (PoissonEF-PoissonEFminusViandeEF)-((PoissonEF-PoissonGAIN)-PoissonEIminusViandeEI)=ViandeGAIN\r\n",
        "\t\t\t\t 5 - 3 = 2  (ViandeGAIN)\r\n",
        "\t\t\t\t\tP1-d : interpretation -> PoissonGAIN-(PoissonEFminusViandeEF-PoissonEIminusViandeEI)=ViandeGAIN\r\n",
        "\t\t\t 5 - 3 = 2  (ViandeGAIN)\r\n",
        "\t\t\t\tP1-d : interpretation -> PoissonGAIN-(PoissonEFminusViandeEF-PoissonEIminusViandeEI)=ViandeGAIN\r\n",
        "\t 5 - 3 = 2  (ViandeGAIN)\r\n",
        "\t\tP1-d : interpretation -> PoissonGAIN-(PoissonEFminusViandeEF-PoissonEIminusViandeEI)=ViandeGAIN\r\n",
        "\t 12 - 3 = 9  (ViandeEF)\r\n",
        "\t\t 12 - 5 = 7  (PoissonEI)\r\n",
        "\t\t\t 7 - 0 = 7  (ViandeEI)\r\n",
        "\t\t\t\t 9 - 7 = 2  (ViandeGAIN)\r\n",
        "\t\t\t\t\t(T1-d)-(T1-P1) : interpretation -> (PoissonEF-PoissonEFminusViandeEF)-((PoissonEF-PoissonGAIN)-PoissonEIminusViandeEI)=ViandeGAIN\r\n",
        "\t\t\t\t 5 - 3 = 2  (ViandeGAIN)\r\n",
        "\t\t\t\t\tP1-d : interpretation -> PoissonGAIN-(PoissonEFminusViandeEF-PoissonEIminusViandeEI)=ViandeGAIN\r\n",
        "\t\t\t 5 - 3 = 2  (ViandeGAIN)\r\n",
        "\t\t\t\tP1-d : interpretation -> PoissonGAIN-(PoissonEFminusViandeEF-PoissonEIminusViandeEI)=ViandeGAIN\r\n",
        "\t\t 5 - 3 = 2  (ViandeGAIN)\r\n",
        "\t\t\tP1-d : interpretation -> PoissonGAIN-(PoissonEFminusViandeEF-PoissonEIminusViandeEI)=ViandeGAIN\r\n",
        "\n"
       ]
      }
     ],
     "prompt_number": 25
    }
   ],
   "metadata": {}
  }
 ]
}