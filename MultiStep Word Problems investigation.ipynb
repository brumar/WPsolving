{
 "metadata": {
  "celltoolbar": "Slideshow",
  "name": "",
  "signature": "sha256:1729934c176d3f9e9df35bdd85d59c60b268145ce1d049d2920ef1224ef21262"
 },
 "nbformat": 3,
 "nbformat_minor": 0,
 "worksheets": [
  {
   "cells": [
    {
     "cell_type": "markdown",
     "metadata": {
      "slideshow": {
       "slide_type": "-"
      }
     },
     "source": [
      "#### (0) IMPORTS\n",
      "we import all the python files needed"
     ]
    },
    {
     "cell_type": "code",
     "collapsed": false,
     "input": [
      "import lib.operations as operations # basic variables concerning operations\n",
      "from lib.schemas import * # related to the mathematical structure of the problem\n",
      "from lib.textRepresentations import * # related to the propositions constituting the problem\n",
      "\n",
      "from lib.subjectRepresentations import * # related to the problem state of a subject (representations and quantities)\n",
      "from lib.paths import * # related to the solving process and its storing and analysis\n",
      "from lib.dataManager import * # related to the final steps in the process gathering and printing results of simulation"
     ],
     "language": "python",
     "metadata": {
      "slideshow": {
       "slide_type": "-"
      }
     },
     "outputs": [],
     "prompt_number": 33
    },
    {
     "cell_type": "markdown",
     "metadata": {
      "slideshow": {
       "slide_type": "-"
      }
     },
     "source": [
      "# [1] Create a problem"
     ]
    },
    {
     "cell_type": "markdown",
     "metadata": {
      "slideshow": {
       "slide_type": "-"
      }
     },
     "source": [
      "## 1.1 Declare the mathematical structure of the problem"
     ]
    },
    {
     "cell_type": "markdown",
     "metadata": {},
     "source": [
      "Two schema describing the first relationships between the quantities are **created**"
     ]
    },
    {
     "cell_type": "code",
     "collapsed": false,
     "input": [
      "schema1=Schema(\"PoissonEF\",\"PoissonEI\",operations.addition,\"PoissonGAIN\",\"change\")\n",
      "schema2=Schema(\"ViandeEF\",\"ViandeEI\",operations.addition,\"ViandeGAIN\",\"change\")\n",
      "print(schema1.objects)\n",
      "print(schema2.objects)"
     ],
     "language": "python",
     "metadata": {},
     "outputs": [
      {
       "output_type": "stream",
       "stream": "stdout",
       "text": [
        "{'q1': 'PoissonEI', 'q2': 'PoissonGAIN', 'qf': 'PoissonEF'}\n",
        "{'q1': 'ViandeEI', 'q2': 'ViandeGAIN', 'qf': 'ViandeEF'}\n"
       ]
      }
     ],
     "prompt_number": 34
    },
    {
     "cell_type": "markdown",
     "metadata": {},
     "source": [
      "We then create the problem structure and **add** the schemas"
     ]
    },
    {
     "cell_type": "code",
     "collapsed": false,
     "input": [
      "struct=ProblemStructure()\n",
      "struct.addSchema(schema1)\n",
      "struct.addSchema(schema2)\n",
      "struct.schemas"
     ],
     "language": "python",
     "metadata": {},
     "outputs": [
      {
       "metadata": {},
       "output_type": "pyout",
       "prompt_number": 35,
       "text": [
        "[<lib.schemas.Schema instance at 0x000000000A83DCC8>,\n",
        " <lib.schemas.Schema instance at 0x000000000A83DE08>]"
       ]
      }
     ],
     "prompt_number": 35
    },
    {
     "cell_type": "markdown",
     "metadata": {},
     "source": [
      "And we create the schemas in order to create all the correspondances between the first two schemas"
     ]
    },
    {
     "cell_type": "code",
     "collapsed": false,
     "input": [
      "struct.addBridgingSchemas(schema1,schema2)"
     ],
     "language": "python",
     "metadata": {},
     "outputs": [],
     "prompt_number": 36
    },
    {
     "cell_type": "code",
     "collapsed": false,
     "input": [
      "ls=struct.schemas\n",
      "for schem in ls:\n",
      "    print(schem.objects)"
     ],
     "language": "python",
     "metadata": {},
     "outputs": [
      {
       "output_type": "stream",
       "stream": "stdout",
       "text": [
        "{'q1': 'PoissonEI', 'q2': 'PoissonGAIN', 'qf': 'PoissonEF'}\n",
        "{'q1': 'ViandeEI', 'q2': 'ViandeGAIN', 'qf': 'ViandeEF'}\n",
        "{'q1': 'PoissonEI', 'q2': 'ViandeEI', 'qf': 'PoissonEIminusViandeEI'}\n",
        "{'q1': 'PoissonGAIN', 'q2': 'ViandeGAIN', 'qf': 'PoissonGAINminusViandeGAIN'}\n",
        "{'q1': 'PoissonEF', 'q2': 'ViandeEF', 'qf': 'PoissonEFminusViandeEF'}\n",
        "{'q1': 'PoissonEIminusViandeEI', 'q2': 'PoissonGAINminusViandeGAIN', 'qf': 'PoissonEFminusViandeEF'}\n"
       ]
      }
     ],
     "prompt_number": 37
    },
    {
     "cell_type": "markdown",
     "metadata": {},
     "source": [
      "We then update the field corresponding to set of the object in the problem"
     ]
    },
    {
     "cell_type": "code",
     "collapsed": false,
     "input": [
      "print(struct.objectSet)# before\n",
      "struct.updateObjectSet() \n",
      "print(struct.objectSet) #after"
     ],
     "language": "python",
     "metadata": {},
     "outputs": [
      {
       "output_type": "stream",
       "stream": "stdout",
       "text": [
        "set([])\n",
        "set(['PoissonEI', 'PoissonEF', 'PoissonEIminusViandeEI', 'PoissonGAINminusViandeGAIN', 'ViandeEF', 'ViandeGAIN', 'ViandeEI', 'PoissonEFminusViandeEF', 'PoissonGAIN'])\n"
       ]
      }
     ],
     "prompt_number": 38
    },
    {
     "cell_type": "code",
     "collapsed": false,
     "input": [
      "print(struct.objectSet)"
     ],
     "language": "python",
     "metadata": {},
     "outputs": [
      {
       "output_type": "stream",
       "stream": "stdout",
       "text": [
        "set(['PoissonEI', 'PoissonEF', 'PoissonEIminusViandeEI', 'PoissonGAINminusViandeGAIN', 'ViandeEF', 'ViandeGAIN', 'ViandeEI', 'PoissonEFminusViandeEF', 'PoissonGAIN'])\n"
       ]
      }
     ],
     "prompt_number": 39
    },
    {
     "cell_type": "markdown",
     "metadata": {},
     "source": [
      "## 1.2 Declare the text informations provided in the problem\n",
      "#### The propositions"
     ]
    },
    {
     "cell_type": "markdown",
     "metadata": {},
     "source": [
      "We create a text object"
     ]
    },
    {
     "cell_type": "code",
     "collapsed": false,
     "input": [
      "text=Text()"
     ],
     "language": "python",
     "metadata": {},
     "outputs": [],
     "prompt_number": 40
    },
    {
     "cell_type": "markdown",
     "metadata": {},
     "source": [
      "And we add all the propositions, which are "
     ]
    },
    {
     "cell_type": "code",
     "collapsed": false,
     "input": [
      "text.addTextInformation(TextInformation(Representation(Quantity(\"PoissonGAIN\",\"P1\"),'Au supermarch\u00e9, le kilo de poisson a augment\u00e9 de 5 euros cette ann\u00e9e')))\n",
      "text.addTextInformation(TextInformation(Representation(Quantity(\"PoissonEF\",\"T1\"),'Un kilo de poisson coute maintenant 12 euros.')))\n",
      "text.addTextInformation(TextInformation(Representation(Quantity(\"PoissonEIminusViandeEI\",\"dEI\"),'Au d\u00e9but de l\\'ann\u00e9e, le kilo de viande coutait le m\u00eame prix que le kilo de poisson.')))\n",
      "text.addTextInformation(TextInformation(Representation(Quantity(\"PoissonGAINminusViandeGAIN\",\"d\"),'Le kilo de viande a augment\u00e9 de 3 euros de moins que le kilo de poisson')))"
     ],
     "language": "python",
     "metadata": {},
     "outputs": [],
     "prompt_number": 41
    },
    {
     "cell_type": "code",
     "collapsed": false,
     "input": [
      "for info in text.textInformations:\n",
      "    q=info.representations[0].quantity\n",
      "    print(q.object, q.value)"
     ],
     "language": "python",
     "metadata": {},
     "outputs": [
      {
       "output_type": "stream",
       "stream": "stdout",
       "text": [
        "('PoissonGAIN', 'P1')\n",
        "('PoissonEF', 'T1')\n",
        "('PoissonEIminusViandeEI', 'dEI')\n",
        "('PoissonGAINminusViandeGAIN', 'd')\n"
       ]
      }
     ],
     "prompt_number": 42
    },
    {
     "cell_type": "markdown",
     "metadata": {},
     "source": [
      "#### The Goal"
     ]
    },
    {
     "cell_type": "code",
     "collapsed": false,
     "input": [
      "text.setGoal(TextGoal(Goal('ViandeEF','Combien coute le kilo de viande maintenant?')))"
     ],
     "language": "python",
     "metadata": {},
     "outputs": [],
     "prompt_number": 43
    },
    {
     "cell_type": "markdown",
     "metadata": {},
     "source": [
      "#### The alternative representations"
     ]
    },
    {
     "cell_type": "code",
     "collapsed": true,
     "input": [
      "text.getTextInformation(0).addAlternativeRepresentation(Representation(Quantity(\"PoissonEI\",\"P1\"),'Au supermarch\u00e9, le kilo de poisson \u00e9tait de 5 euros'))\n",
      "text.getTextInformation(0).addAlternativeRepresentation(Representation(Quantity(\"PoissonEF\",\"P1\"),'Au supermarch\u00e9, le kilo de poisson coute 5 euros'))\n",
      "text.getTextInformation(1).addAlternativeRepresentation(Representation(Quantity(\"PoissonEI\",\"T1\"),'Un kilo de poisson \u00e9tait de 12 euros.'))\n",
      "text.getTextInformation(2).addAlternativeRepresentation(Representation(Quantity(\"PoissonEFminusViandeEF\",\"dEI\"),'Au la fin de l\\'ann\u00e9e, le kilo de viande coute le m\u00eame prix que le kilo de poisson.'))\n",
      "text.getTextInformation(2).addAlternativeRepresentation(Representation(Quantity(\"PoissonGAINminusViandeGAIN\",\"dEI\"),'Le kilo de viande a augment\u00e9 du m\u00eame prix que le kilo de poisson.'))\n",
      "text.getTextInformation(3).addAlternativeRepresentation(Representation(Quantity(\"ViandeGAIN\",\"d\"),'Le kilo de viande a augment\u00e9 de 3 euros'))\n",
      "text.getTextInformation(3).addAlternativeRepresentation(Representation(Quantity(\"ViandeGAIN\",\"-d\"),'Le kilo de viande a diminu\u00e9 de 3 euros'))\n",
      "text.getTextInformation(3).addAlternativeRepresentation(Representation(Quantity(\"PoissonEFminusViandeEF\",\"d\"),'Le kilo de viande vaut 3 euross de moins que le kilo de poisson'))\n",
      "text.getTextInformation(3).addAlternativeRepresentation(Representation(Quantity(\"ViandeEF\",\"d\"),'Le kilo coute 3 euros \u00e0 la fin'))"
     ],
     "language": "python",
     "metadata": {},
     "outputs": [],
     "prompt_number": 44
    },
    {
     "cell_type": "markdown",
     "metadata": {},
     "source": [
      "Let's inspect the different alternative representations pertaining to the fourth text proposition"
     ]
    },
    {
     "cell_type": "code",
     "collapsed": false,
     "input": [
      "textInfo=text.textInformations[3]\n",
      "for representation in textInfo.representations:\n",
      "    print(representation.quantity.object,representation.quantity.value)"
     ],
     "language": "python",
     "metadata": {},
     "outputs": [
      {
       "output_type": "stream",
       "stream": "stdout",
       "text": [
        "('PoissonGAINminusViandeGAIN', 'd')\n",
        "('ViandeGAIN', 'd')\n",
        "('ViandeGAIN', '-d')\n",
        "('PoissonEFminusViandeEF', 'd')\n",
        "('ViandeEF', 'd')\n"
       ]
      }
     ],
     "prompt_number": 45
    },
    {
     "cell_type": "markdown",
     "metadata": {},
     "source": [
      "## 1.3 final step to construct the problem\n",
      "A problem is the association of a **structure** and a **text** as defined above"
     ]
    },
    {
     "cell_type": "code",
     "collapsed": false,
     "input": [
      "probleme1=Problem(struct,text)"
     ],
     "language": "python",
     "metadata": {},
     "outputs": [],
     "prompt_number": 46
    },
    {
     "cell_type": "markdown",
     "metadata": {},
     "source": [
      "Set the initial values"
     ]
    },
    {
     "cell_type": "code",
     "collapsed": false,
     "input": [
      "probleme1.setInitialValues({\"P1\":5,\"T1\":12,\"dEI\":0,\"d\":3,\"-d\":-3})"
     ],
     "language": "python",
     "metadata": {},
     "outputs": [],
     "prompt_number": 47
    },
    {
     "cell_type": "markdown",
     "metadata": {},
     "source": [
      "# [2] Handle solver object"
     ]
    },
    {
     "cell_type": "markdown",
     "metadata": {},
     "source": [
      "### 2.1 Init its first problem representation"
     ]
    },
    {
     "cell_type": "code",
     "collapsed": false,
     "input": [
      "upD=Updater(probleme1) # create the problem state\n",
      "upD.startAsUnderstood() # init the problem state, we start with expert representations"
     ],
     "language": "python",
     "metadata": {},
     "outputs": [],
     "prompt_number": 48
    },
    {
     "cell_type": "markdown",
     "metadata": {},
     "source": [
      "Updater has a central role in the program as it :\n",
      "- Check if moves are possible\n",
      "- Apply moves (schemas, reinterpretations) and then update its main attribute **problemState** which is also an important class"
     ]
    },
    {
     "cell_type": "markdown",
     "metadata": {},
     "source": [
      "### 2.2 (side note) about the problem state\n",
      "- The **quantitiesDic** : current object-values association\n",
      "- **representations** which indicates which representations are currently selected"
     ]
    },
    {
     "cell_type": "code",
     "collapsed": false,
     "input": [
      "probState=upD.problemState\n",
      "print \"quantity dic: \", probState.quantitiesDic.dic\n",
      "print \"\\n representations: \",probState.representations"
     ],
     "language": "python",
     "metadata": {},
     "outputs": [
      {
       "output_type": "stream",
       "stream": "stdout",
       "text": [
        "quantity dic:  {'PoissonEI': [], 'PoissonEF': [12], 'PoissonEIminusViandeEI': [0], 'PoissonGAINminusViandeGAIN': [3], 'ViandeEF': [], 'ViandeGAIN': [], 'ViandeEI': [], 'PoissonEFminusViandeEF': [], 'PoissonGAIN': [5]}\n",
        "\n",
        " representations:  [0, 0, 0, 0]\n"
       ]
      }
     ],
     "prompt_number": 49
    },
    {
     "cell_type": "markdown",
     "metadata": {},
     "source": [
      "### 2.3 Define the behavioral constraint of the solvers"
     ]
    },
    {
     "cell_type": "code",
     "collapsed": false,
     "input": [
      "c1=IntervalConstraint(['EF','EI'],operations.superiorOrEqualTo0) "
     ],
     "language": "python",
     "metadata": {},
     "outputs": [],
     "prompt_number": 50
    },
    {
     "cell_type": "markdown",
     "metadata": {},
     "source": [
      "This constraints implies that no negative values can be associated with object which has 'EI' or 'EF' as substring"
     ]
    },
    {
     "cell_type": "code",
     "collapsed": false,
     "input": [
      "c2=BehavioralConstraint(breakTheOldOne=True)"
     ],
     "language": "python",
     "metadata": {},
     "outputs": [],
     "prompt_number": 51
    },
    {
     "cell_type": "markdown",
     "metadata": {},
     "source": [
      "This constraints implies that if there is an alternative representation is selected, then the quantity formed by its prevous state is destroyed. In other terms, only one representation of the the same proposition is active at the same time."
     ]
    },
    {
     "cell_type": "markdown",
     "metadata": {},
     "source": [
      "### 2.4 Create the solvers (final step)"
     ]
    },
    {
     "cell_type": "code",
     "collapsed": false,
     "input": [
      "constraints=[c1,c2]"
     ],
     "language": "python",
     "metadata": {},
     "outputs": [],
     "prompt_number": 52
    },
    {
     "cell_type": "code",
     "collapsed": false,
     "input": [
      "solver1=Solver(upD,constraints)"
     ],
     "language": "python",
     "metadata": {},
     "outputs": [],
     "prompt_number": 53
    },
    {
     "cell_type": "markdown",
     "metadata": {},
     "source": [
      "## 2.5 Manually run the solver"
     ]
    },
    {
     "cell_type": "markdown",
     "metadata": {},
     "source": [
      "### 2.5.1 Apply a schema"
     ]
    },
    {
     "cell_type": "markdown",
     "metadata": {},
     "source": [
      "- check what are the schemas which can be applied."
     ]
    },
    {
     "cell_type": "code",
     "collapsed": false,
     "input": [
      "solver1.updater.updateAppliableSchemas()\n",
      "l=solver1.updater.appliableSchemaList\n",
      "print(l)\n",
      "print (l[0].objects)"
     ],
     "language": "python",
     "metadata": {},
     "outputs": [
      {
       "output_type": "stream",
       "stream": "stdout",
       "text": [
        "[<lib.schemas.Schema instance at 0x000000000A83DCC8>, <lib.schemas.Schema instance at 0x000000000A4AC1C8>, <lib.schemas.Schema instance at 0x000000000A4AC3C8>]\n",
        "{'q1': 'PoissonEI', 'q2': 'PoissonGAIN', 'qf': 'PoissonEF'}\n"
       ]
      }
     ],
     "prompt_number": 54
    },
    {
     "cell_type": "markdown",
     "metadata": {},
     "source": [
      "- apply a schema"
     ]
    },
    {
     "cell_type": "code",
     "collapsed": false,
     "input": [
      "move1=Move(l[0]) # a move is one level more abastract than schema or representation\n",
      "stepInformations1=solver1.updater.applyMove(move1,solver1.constraints) # we can then use the function applyMove for schemas or representation"
     ],
     "language": "python",
     "metadata": {},
     "outputs": [],
     "prompt_number": 55
    },
    {
     "cell_type": "markdown",
     "metadata": {},
     "source": [
      "*stepInformations* is an instance of InfoStep (in *subjectRepresentations.py*) and contains many informations related to the concrete application of the move, and can be used to inspect precisely a solution path.\n",
      "Among others : "
     ]
    },
    {
     "cell_type": "code",
     "collapsed": false,
     "input": [
      "print(stepInformations1.formulaFirstPart,stepInformations.valueToFind,stepInformations.operands,stepInformations.unknow)"
     ],
     "language": "python",
     "metadata": {},
     "outputs": [
      {
       "ename": "NameError",
       "evalue": "name 'stepInformations' is not defined",
       "output_type": "pyerr",
       "traceback": [
        "\u001b[1;31m---------------------------------------------------------------------------\u001b[0m\n\u001b[1;31mNameError\u001b[0m                                 Traceback (most recent call last)",
        "\u001b[1;32m<ipython-input-56-66a183169ce7>\u001b[0m in \u001b[0;36m<module>\u001b[1;34m()\u001b[0m\n\u001b[1;32m----> 1\u001b[1;33m \u001b[1;32mprint\u001b[0m\u001b[1;33m(\u001b[0m\u001b[0mstepInformations1\u001b[0m\u001b[1;33m.\u001b[0m\u001b[0mformulaFirstPart\u001b[0m\u001b[1;33m,\u001b[0m\u001b[0mstepInformations\u001b[0m\u001b[1;33m.\u001b[0m\u001b[0mvalueToFind\u001b[0m\u001b[1;33m,\u001b[0m\u001b[0mstepInformations\u001b[0m\u001b[1;33m.\u001b[0m\u001b[0moperands\u001b[0m\u001b[1;33m,\u001b[0m\u001b[0mstepInformations\u001b[0m\u001b[1;33m.\u001b[0m\u001b[0munknow\u001b[0m\u001b[1;33m)\u001b[0m\u001b[1;33m\u001b[0m\u001b[0m\n\u001b[0m",
        "\u001b[1;31mNameError\u001b[0m: name 'stepInformations' is not defined"
       ]
      }
     ],
     "prompt_number": 56
    },
    {
     "cell_type": "markdown",
     "metadata": {},
     "source": [
      "In this specific case PoissonEI has been found knowing PoissonGAIN and PoissonEF.\n",
      "A new quantity is then now available : "
     ]
    },
    {
     "cell_type": "code",
     "collapsed": false,
     "input": [
      "solver1.updater.problemState.quantitiesDic.dic['PoissonEI']"
     ],
     "language": "python",
     "metadata": {},
     "outputs": [
      {
       "metadata": {},
       "output_type": "pyout",
       "prompt_number": 57,
       "text": [
        "[7]"
       ]
      }
     ],
     "prompt_number": 57
    },
    {
     "cell_type": "markdown",
     "metadata": {},
     "source": [
      "### 2.5.2 Apply a representation change"
     ]
    },
    {
     "cell_type": "markdown",
     "metadata": {},
     "source": [
      "#### informations on representations state and representations change"
     ]
    },
    {
     "cell_type": "code",
     "collapsed": false,
     "input": [
      "solver1.updater.updatePossibleRepresentationChange()\n",
      "print len(solver1.updater.possibleRepresentationChangeList), \"representations change are possible\"\n",
      "print solver1.updater.problemState.representations, \" is the current representations state\"\n",
      "\n",
      "repChange=solver1.updater.possibleRepresentationChangeList[5]\n",
      "print \"\\nindex of the proposition in the text\", repChange.indexTextInformation\n",
      "print \"index of the alternative representation of this proposition\", repChange.indexSelectedRepresentation\n",
      "rep=solver1.updater.problem.text.textInformations[repChange.indexTextInformation].representations[repChange.indexSelectedRepresentation]\n",
      "print(rep.quantity.object, rep.quantity.value)"
     ],
     "language": "python",
     "metadata": {},
     "outputs": [
      {
       "output_type": "stream",
       "stream": "stdout",
       "text": [
        "9 representations change are possible\n",
        "[0, 0, 0, 0]  is the current representations state\n",
        "\n",
        "index of the proposition in the text 3\n",
        "index of the alternative representation of this proposition 1\n",
        "('ViandeGAIN', 3)\n"
       ]
      }
     ],
     "prompt_number": 58
    },
    {
     "cell_type": "markdown",
     "metadata": {},
     "source": [
      "#### Apply a representation change works broadly the same way as applying a Schema :"
     ]
    },
    {
     "cell_type": "code",
     "collapsed": false,
     "input": [
      "move2=Move(repChange)\n",
      "stepInformations2=solver1.updater.applyMove(move2,solver1.constraints)\n",
      "print solver1.updater.problemState.representations, \" is the new representations state\""
     ],
     "language": "python",
     "metadata": {},
     "outputs": [
      {
       "output_type": "stream",
       "stream": "stdout",
       "text": [
        "[0, 0, 0, 1]  is the new representations state\n"
       ]
      }
     ],
     "prompt_number": 59
    },
    {
     "cell_type": "markdown",
     "metadata": {},
     "source": [
      "Let's check that this new value is now in the quantitiesDic"
     ]
    },
    {
     "cell_type": "code",
     "collapsed": false,
     "input": [
      "solver1.updater.problemState.quantitiesDic.dic['ViandeGAIN']"
     ],
     "language": "python",
     "metadata": {},
     "outputs": [
      {
       "metadata": {},
       "output_type": "pyout",
       "prompt_number": 60,
       "text": [
        "[3]"
       ]
      }
     ],
     "prompt_number": 60
    },
    {
     "cell_type": "markdown",
     "metadata": {},
     "source": [
      "As we used the constraint *c2=BehavioralConstraint(breakTheOldOne=True)* we can see that the old representation of this text information is erased."
     ]
    },
    {
     "cell_type": "code",
     "collapsed": false,
     "input": [
      "oldrep=solver1.updater.problem.text.textInformations[3].representations[0]\n",
      "print \"before : \",(oldrep.quantity.object, oldrep.quantity.value)\n",
      "print \"after : \", solver1.updater.problemState.quantitiesDic.dic[oldrep.quantity.object]"
     ],
     "language": "python",
     "metadata": {},
     "outputs": [
      {
       "output_type": "stream",
       "stream": "stdout",
       "text": [
        "before :  ('PoissonGAINminusViandeGAIN', 3)\n",
        "after :  []\n"
       ]
      }
     ],
     "prompt_number": 61
    },
    {
     "cell_type": "markdown",
     "metadata": {},
     "source": [
      "### 2.5.3 Use steps classes to keep records of the path\n",
      "Four classes are involved to keep such record : \n",
      "- StepInfo (explained above)\n",
      "- Step : has step info as attribute but also \n",
      "    - An unique id\n",
      "    - The ids of the step before him (father)\n",
      "    - The ids of the steps after him (children)\n",
      "- TreePaths : designed to store the steps, and the paths (as three and as lines).\n",
      "- Path : give the essential informations of a path"
     ]
    },
    {
     "cell_type": "markdown",
     "metadata": {},
     "source": [
      "#### 2.5.3.1 steps"
     ]
    },
    {
     "cell_type": "markdown",
     "metadata": {},
     "source": [
      "By convention the first step has for father the step with the id=0"
     ]
    },
    {
     "cell_type": "code",
     "collapsed": false,
     "input": [
      "step1=Step(move1,parentId=0, infos=stepInformations1,level=0)\n",
      "step2=Step(move2,parentId=step1.sId, infos=stepInformations2, level=1) #we use the id of step1 to create step2"
     ],
     "language": "python",
     "metadata": {},
     "outputs": [],
     "prompt_number": 62
    },
    {
     "cell_type": "markdown",
     "metadata": {},
     "source": [
      "We can check if the problem is solved by the solved attribute"
     ]
    },
    {
     "cell_type": "code",
     "collapsed": false,
     "input": [
      "print \"is the problem solved: \",step.solved"
     ],
     "language": "python",
     "metadata": {},
     "outputs": [
      {
       "output_type": "stream",
       "stream": "stdout",
       "text": [
        "is the problem solved: "
       ]
      },
      {
       "ename": "AttributeError",
       "evalue": "'function' object has no attribute 'solved'",
       "output_type": "pyerr",
       "traceback": [
        "\u001b[1;31m---------------------------------------------------------------------------\u001b[0m\n\u001b[1;31mAttributeError\u001b[0m                            Traceback (most recent call last)",
        "\u001b[1;32m<ipython-input-63-7bee4d457ec6>\u001b[0m in \u001b[0;36m<module>\u001b[1;34m()\u001b[0m\n\u001b[1;32m----> 1\u001b[1;33m \u001b[1;32mprint\u001b[0m \u001b[1;34m\"is the problem solved: \"\u001b[0m\u001b[1;33m,\u001b[0m\u001b[0mstep\u001b[0m\u001b[1;33m.\u001b[0m\u001b[0msolved\u001b[0m\u001b[1;33m\u001b[0m\u001b[0m\n\u001b[0m",
        "\u001b[1;31mAttributeError\u001b[0m: 'function' object has no attribute 'solved'"
       ]
      }
     ],
     "prompt_number": 63
    },
    {
     "cell_type": "markdown",
     "metadata": {},
     "source": [
      "Updater has no rollback feature for the moment, which means that "
     ]
    },
    {
     "cell_type": "markdown",
     "metadata": {},
     "source": [
      "#### 2.5.3.2 TreePath"
     ]
    },
    {
     "cell_type": "markdown",
     "metadata": {},
     "source": [
      "We can now add the step in the TreePaths"
     ]
    },
    {
     "cell_type": "code",
     "collapsed": false,
     "input": [
      "tp=TreePaths(solver1.updater) # or use the treePath instance tied to the solver : tp=solver1.TreePaths\n",
      "tp.addStep(step1)\n",
      "tp.addStep(step2)"
     ],
     "language": "python",
     "metadata": {},
     "outputs": [
      {
       "output_type": "stream",
       "stream": "stdout",
       "text": [
        "\n"
       ]
      }
     ],
     "prompt_number": 64
    },
    {
     "cell_type": "markdown",
     "metadata": {},
     "source": [
      "TreePath allows many things :\n",
      "- Adding step to a treepaths bind the steps to its children"
     ]
    },
    {
     "cell_type": "code",
     "collapsed": false,
     "input": [
      "id1=step1.childrenIds\n",
      "id1"
     ],
     "language": "python",
     "metadata": {},
     "outputs": [
      {
       "metadata": {},
       "output_type": "pyout",
       "prompt_number": 65,
       "text": [
        "[UUID('80c16715-9296-4b8c-a67e-a8f7b23e75bf')]"
       ]
      }
     ],
     "prompt_number": 65
    },
    {
     "cell_type": "markdown",
     "metadata": {},
     "source": [
      "- TreePaths has a method to generate a tree according the different paths taken"
     ]
    },
    {
     "cell_type": "code",
     "collapsed": false,
     "input": [
      "tp.scanTree()\n",
      "print(tp.treeOutput)"
     ],
     "language": "python",
     "metadata": {},
     "outputs": [
      {
       "output_type": "stream",
       "stream": "stdout",
       "text": [
        " 12 - 5 = 7  (PoissonEI)\r\n",
        "\t3 interpreted as ViandeGAIN\r\n",
        "\t\td : interpretation -> ViandeGAIN\r\n",
        "\n"
       ]
      }
     ],
     "prompt_number": 66
    },
    {
     "cell_type": "markdown",
     "metadata": {},
     "source": [
      "[Note] The last line gives a summary of what happenned. In this specific case we stopped the solving process without finding the solution. A more complex path would give such string :   \n",
      "*T1-d : interpretation -> PoissonEF-(PoissonGAINminusViandeGAIN+PoissonEIminusViandeEI)=ViandeEF*   \n",
      "This line is produced by the TreePath method **trackBack** which traceback the different paths and gives the last line. TrackBack is called in scanTree whenever a path is ended."
     ]
    },
    {
     "cell_type": "code",
     "collapsed": false,
     "input": [
      "print(tp.trackBack(step2.sId))"
     ],
     "language": "python",
     "metadata": {},
     "outputs": [
      {
       "output_type": "stream",
       "stream": "stdout",
       "text": [
        "d : interpretation -> ViandeGAIN\n"
       ]
      }
     ],
     "prompt_number": 67
    },
    {
     "cell_type": "markdown",
     "metadata": {},
     "source": [
      "trackBack is also usefull to store the different paths in lines which can be found in the *pathList* attribute of the updater."
     ]
    },
    {
     "cell_type": "code",
     "collapsed": false,
     "input": [
      "firstPath=tp.pathList[0]\n",
      "print(firstPath.formula)\n",
      "print(firstPath.objectFormula)\n",
      "print(firstPath.interpretationsSummary)\n",
      "print(firstPath.valueFound)\n",
      "print(firstPath.problemSolved)"
     ],
     "language": "python",
     "metadata": {},
     "outputs": [
      {
       "output_type": "stream",
       "stream": "stdout",
       "text": [
        "d\n",
        "ViandeGAIN\n",
        " # d interpreted as ViandeGAIN\n",
        "3\n",
        "False\n"
       ]
      }
     ],
     "prompt_number": 68
    },
    {
     "cell_type": "markdown",
     "metadata": {},
     "source": [
      "## 2.6 Automatic use of solver to generate a solution space"
     ]
    },
    {
     "cell_type": "markdown",
     "metadata": {},
     "source": [
      "### 2.6.1 Simple example : only solve"
     ]
    },
    {
     "cell_type": "markdown",
     "metadata": {},
     "source": [
      "#### 2.6.1.1 solver.SOLVER instruction"
     ]
    },
    {
     "cell_type": "markdown",
     "metadata": {},
     "source": [
      "We create a new solver from start"
     ]
    },
    {
     "cell_type": "code",
     "collapsed": false,
     "input": [
      "upD.startAsUnderstood()\n",
      "autoSolver=Solver(upD,constraints)"
     ],
     "language": "python",
     "metadata": {},
     "outputs": [],
     "prompt_number": 69
    },
    {
     "cell_type": "markdown",
     "metadata": {},
     "source": [
      "Now, we give the pattern of actions the solver has to explore"
     ]
    },
    {
     "cell_type": "code",
     "collapsed": false,
     "input": [
      "l=[autoSolver.SOLVER]\n",
      "autoSolver.generalSequentialSolver(listOfActions=l)"
     ],
     "language": "python",
     "metadata": {},
     "outputs": [],
     "prompt_number": 70
    },
    {
     "cell_type": "markdown",
     "metadata": {},
     "source": [
      "This is the simplest example, the instruction solver.SOLVER means that schemas will be applied until the solution is found. At each step, the research tree has as many branches as schemas which can be applied."
     ]
    },
    {
     "cell_type": "markdown",
     "metadata": {},
     "source": [
      "#### 2.6.1.2 inspect the solution space"
     ]
    },
    {
     "cell_type": "markdown",
     "metadata": {},
     "source": [
      "We can now check what gives treeOutput and pathList with the solver process"
     ]
    },
    {
     "cell_type": "code",
     "collapsed": false,
     "input": [
      "autoSolver.TreePaths.scanTree()\n",
      "print(autoSolver.TreePaths.treeOutput)"
     ],
     "language": "python",
     "metadata": {},
     "outputs": [
      {
       "output_type": "stream",
       "stream": "stdout",
       "text": [
        " 12 - 5 = 7  (PoissonEI)\r\n",
        "\t 7 - 0 = 7  (ViandeEI)\r\n",
        "\t\t 5 - 3 = 2  (ViandeGAIN)\r\n",
        "\t\t\t 7 + 2 = 9  (ViandeEF)\r\n",
        "\t\t\t\t(T1-P1)+(P1-d) : interpretation -> ((PoissonEF-PoissonGAIN)-PoissonEIminusViandeEI)+(PoissonGAIN-PoissonGAINminusViandeGAIN)=ViandeEF\r\n",
        "\t\t\t 3 + 0 = 3  (PoissonEFminusViandeEF)\r\n",
        "\t\t\t\t 7 + 2 = 9  (ViandeEF)\r\n",
        "\t\t\t\t\t(T1-P1)+(P1-d) : interpretation -> ((PoissonEF-PoissonGAIN)-PoissonEIminusViandeEI)+(PoissonGAIN-PoissonGAINminusViandeGAIN)=ViandeEF\r\n",
        "\t\t\t\t 12 - 3 = 9  (ViandeEF)\r\n",
        "\t\t\t\t\tT1-d : interpretation -> PoissonEF-(PoissonGAINminusViandeGAIN+PoissonEIminusViandeEI)=ViandeEF\r\n",
        "\t\t 3 + 0 = 3  (PoissonEFminusViandeEF)\r\n",
        "\t\t\t 5 - 3 = 2  (ViandeGAIN)\r\n",
        "\t\t\t\t 7 + 2 = 9  (ViandeEF)\r\n",
        "\t\t\t\t\t(T1-P1)+(P1-d) : interpretation -> ((PoissonEF-PoissonGAIN)-PoissonEIminusViandeEI)+(PoissonGAIN-PoissonGAINminusViandeGAIN)=ViandeEF\r\n",
        "\t\t\t\t 12 - 3 = 9  (ViandeEF)\r\n",
        "\t\t\t\t\tT1-d : interpretation -> PoissonEF-(PoissonGAINminusViandeGAIN+PoissonEIminusViandeEI)=ViandeEF\r\n",
        "\t\t\t 12 - 3 = 9  (ViandeEF)\r\n",
        "\t\t\t\tT1-d : interpretation -> PoissonEF-(PoissonGAINminusViandeGAIN+PoissonEIminusViandeEI)=ViandeEF\r\n",
        "\t 5 - 3 = 2  (ViandeGAIN)\r\n",
        "\t\t 7 - 0 = 7  (ViandeEI)\r\n",
        "\t\t\t 7 + 2 = 9  (ViandeEF)\r\n",
        "\t\t\t\t(T1-P1)+(P1-d) : interpretation -> ((PoissonEF-PoissonGAIN)-PoissonEIminusViandeEI)+(PoissonGAIN-PoissonGAINminusViandeGAIN)=ViandeEF\r\n",
        "\t\t\t 3 + 0 = 3  (PoissonEFminusViandeEF)\r\n",
        "\t\t\t\t 7 + 2 = 9  (ViandeEF)\r\n",
        "\t\t\t\t\t(T1-P1)+(P1-d) : interpretation -> ((PoissonEF-PoissonGAIN)-PoissonEIminusViandeEI)+(PoissonGAIN-PoissonGAINminusViandeGAIN)=ViandeEF\r\n",
        "\t\t\t\t 12 - 3 = 9  (ViandeEF)\r\n",
        "\t\t\t\t\tT1-d : interpretation -> PoissonEF-(PoissonGAINminusViandeGAIN+PoissonEIminusViandeEI)=ViandeEF\r\n",
        "\t\t 3 + 0 = 3  (PoissonEFminusViandeEF)\r\n",
        "\t\t\t 7 - 0 = 7  (ViandeEI)\r\n",
        "\t\t\t\t 7 + 2 = 9  (ViandeEF)\r\n",
        "\t\t\t\t\t(T1-P1)+(P1-d) : interpretation -> ((PoissonEF-PoissonGAIN)-PoissonEIminusViandeEI)+(PoissonGAIN-PoissonGAINminusViandeGAIN)=ViandeEF\r\n",
        "\t\t\t\t 12 - 3 = 9  (ViandeEF)\r\n",
        "\t\t\t\t\tT1-d : interpretation -> PoissonEF-(PoissonGAINminusViandeGAIN+PoissonEIminusViandeEI)=ViandeEF\r\n",
        "\t\t\t 12 - 3 = 9  (ViandeEF)\r\n",
        "\t\t\t\tT1-d : interpretation -> PoissonEF-(PoissonGAINminusViandeGAIN+PoissonEIminusViandeEI)=ViandeEF\r\n",
        "\t 3 + 0 = 3  (PoissonEFminusViandeEF)\r\n",
        "\t\t 7 - 0 = 7  (ViandeEI)\r\n",
        "\t\t\t 5 - 3 = 2  (ViandeGAIN)\r\n",
        "\t\t\t\t 7 + 2 = 9  (ViandeEF)\r\n",
        "\t\t\t\t\t(T1-P1)+(P1-d) : interpretation -> ((PoissonEF-PoissonGAIN)-PoissonEIminusViandeEI)+(PoissonGAIN-PoissonGAINminusViandeGAIN)=ViandeEF\r\n",
        "\t\t\t\t 12 - 3 = 9  (ViandeEF)\r\n",
        "\t\t\t\t\tT1-d : interpretation -> PoissonEF-(PoissonGAINminusViandeGAIN+PoissonEIminusViandeEI)=ViandeEF\r\n",
        "\t\t\t 12 - 3 = 9  (ViandeEF)\r\n",
        "\t\t\t\tT1-d : interpretation -> PoissonEF-(PoissonGAINminusViandeGAIN+PoissonEIminusViandeEI)=ViandeEF\r\n",
        "\t\t 5 - 3 = 2  (ViandeGAIN)\r\n",
        "\t\t\t 7 - 0 = 7  (ViandeEI)\r\n",
        "\t\t\t\t 7 + 2 = 9  (ViandeEF)\r\n",
        "\t\t\t\t\t(T1-P1)+(P1-d) : interpretation -> ((PoissonEF-PoissonGAIN)-PoissonEIminusViandeEI)+(PoissonGAIN-PoissonGAINminusViandeGAIN)=ViandeEF\r\n",
        "\t\t\t\t 12 - 3 = 9  (ViandeEF)\r\n",
        "\t\t\t\t\tT1-d : interpretation -> PoissonEF-(PoissonGAINminusViandeGAIN+PoissonEIminusViandeEI)=ViandeEF\r\n",
        "\t\t\t 12 - 3 = 9  (ViandeEF)\r\n",
        "\t\t\t\tT1-d : interpretation -> PoissonEF-(PoissonGAINminusViandeGAIN+PoissonEIminusViandeEI)=ViandeEF\r\n",
        "\t\t 12 - 3 = 9  (ViandeEF)\r\n",
        "\t\t\tT1-d : interpretation -> PoissonEF-(PoissonGAINminusViandeGAIN+PoissonEIminusViandeEI)=ViandeEF\r\n",
        " 5 - 3 = 2  (ViandeGAIN)\r\n",
        "\t 12 - 5 = 7  (PoissonEI)\r\n",
        "\t\t 7 - 0 = 7  (ViandeEI)\r\n",
        "\t\t\t 7 + 2 = 9  (ViandeEF)\r\n",
        "\t\t\t\t(T1-P1)+(P1-d) : interpretation -> ((PoissonEF-PoissonGAIN)-PoissonEIminusViandeEI)+(PoissonGAIN-PoissonGAINminusViandeGAIN)=ViandeEF\r\n",
        "\t\t\t 3 + 0 = 3  (PoissonEFminusViandeEF)\r\n",
        "\t\t\t\t 7 + 2 = 9  (ViandeEF)\r\n",
        "\t\t\t\t\t(T1-P1)+(P1-d) : interpretation -> ((PoissonEF-PoissonGAIN)-PoissonEIminusViandeEI)+(PoissonGAIN-PoissonGAINminusViandeGAIN)=ViandeEF\r\n",
        "\t\t\t\t 12 - 3 = 9  (ViandeEF)\r\n",
        "\t\t\t\t\tT1-d : interpretation -> PoissonEF-(PoissonGAINminusViandeGAIN+PoissonEIminusViandeEI)=ViandeEF\r\n",
        "\t\t 3 + 0 = 3  (PoissonEFminusViandeEF)\r\n",
        "\t\t\t 7 - 0 = 7  (ViandeEI)\r\n",
        "\t\t\t\t 7 + 2 = 9  (ViandeEF)\r\n",
        "\t\t\t\t\t(T1-P1)+(P1-d) : interpretation -> ((PoissonEF-PoissonGAIN)-PoissonEIminusViandeEI)+(PoissonGAIN-PoissonGAINminusViandeGAIN)=ViandeEF\r\n",
        "\t\t\t\t 12 - 3 = 9  (ViandeEF)\r\n",
        "\t\t\t\t\tT1-d : interpretation -> PoissonEF-(PoissonGAINminusViandeGAIN+PoissonEIminusViandeEI)=ViandeEF\r\n",
        "\t\t\t 12 - 3 = 9  (ViandeEF)\r\n",
        "\t\t\t\tT1-d : interpretation -> PoissonEF-(PoissonGAINminusViandeGAIN+PoissonEIminusViandeEI)=ViandeEF\r\n",
        "\t 3 + 0 = 3  (PoissonEFminusViandeEF)\r\n",
        "\t\t 12 - 5 = 7  (PoissonEI)\r\n",
        "\t\t\t 7 - 0 = 7  (ViandeEI)\r\n",
        "\t\t\t\t 7 + 2 = 9  (ViandeEF)\r\n",
        "\t\t\t\t\t(T1-P1)+(P1-d) : interpretation -> ((PoissonEF-PoissonGAIN)-PoissonEIminusViandeEI)+(PoissonGAIN-PoissonGAINminusViandeGAIN)=ViandeEF\r\n",
        "\t\t\t\t 12 - 3 = 9  (ViandeEF)\r\n",
        "\t\t\t\t\tT1-d : interpretation -> PoissonEF-(PoissonGAINminusViandeGAIN+PoissonEIminusViandeEI)=ViandeEF\r\n",
        "\t\t\t 12 - 3 = 9  (ViandeEF)\r\n",
        "\t\t\t\tT1-d : interpretation -> PoissonEF-(PoissonGAINminusViandeGAIN+PoissonEIminusViandeEI)=ViandeEF\r\n",
        "\t\t 12 - 3 = 9  (ViandeEF)\r\n",
        "\t\t\tT1-d : interpretation -> PoissonEF-(PoissonGAINminusViandeGAIN+PoissonEIminusViandeEI)=ViandeEF\r\n",
        " 3 + 0 = 3  (PoissonEFminusViandeEF)\r\n",
        "\t 12 - 5 = 7  (PoissonEI)\r\n",
        "\t\t 7 - 0 = 7  (ViandeEI)\r\n",
        "\t\t\t 5 - 3 = 2  (ViandeGAIN)\r\n",
        "\t\t\t\t 7 + 2 = 9  (ViandeEF)\r\n",
        "\t\t\t\t\t(T1-P1)+(P1-d) : interpretation -> ((PoissonEF-PoissonGAIN)-PoissonEIminusViandeEI)+(PoissonGAIN-PoissonGAINminusViandeGAIN)=ViandeEF\r\n",
        "\t\t\t\t 12 - 3 = 9  (ViandeEF)\r\n",
        "\t\t\t\t\tT1-d : interpretation -> PoissonEF-(PoissonGAINminusViandeGAIN+PoissonEIminusViandeEI)=ViandeEF\r\n",
        "\t\t\t 12 - 3 = 9  (ViandeEF)\r\n",
        "\t\t\t\tT1-d : interpretation -> PoissonEF-(PoissonGAINminusViandeGAIN+PoissonEIminusViandeEI)=ViandeEF\r\n",
        "\t\t 5 - 3 = 2  (ViandeGAIN)\r\n",
        "\t\t\t 7 - 0 = 7  (ViandeEI)\r\n",
        "\t\t\t\t 7 + 2 = 9  (ViandeEF)\r\n",
        "\t\t\t\t\t(T1-P1)+(P1-d) : interpretation -> ((PoissonEF-PoissonGAIN)-PoissonEIminusViandeEI)+(PoissonGAIN-PoissonGAINminusViandeGAIN)=ViandeEF\r\n",
        "\t\t\t\t 12 - 3 = 9  (ViandeEF)\r\n",
        "\t\t\t\t\tT1-d : interpretation -> PoissonEF-(PoissonGAINminusViandeGAIN+PoissonEIminusViandeEI)=ViandeEF\r\n",
        "\t\t\t 12 - 3 = 9  (ViandeEF)\r\n",
        "\t\t\t\tT1-d : interpretation -> PoissonEF-(PoissonGAINminusViandeGAIN+PoissonEIminusViandeEI)=ViandeEF\r\n",
        "\t\t 12 - 3 = 9  (ViandeEF)\r\n",
        "\t\t\tT1-d : interpretation -> PoissonEF-(PoissonGAINminusViandeGAIN+PoissonEIminusViandeEI)=ViandeEF\r\n",
        "\t 5 - 3 = 2  (ViandeGAIN)\r\n",
        "\t\t 12 - 5 = 7  (PoissonEI)\r\n",
        "\t\t\t 7 - 0 = 7  (ViandeEI)\r\n",
        "\t\t\t\t 7 + 2 = 9  (ViandeEF)\r\n",
        "\t\t\t\t\t(T1-P1)+(P1-d) : interpretation -> ((PoissonEF-PoissonGAIN)-PoissonEIminusViandeEI)+(PoissonGAIN-PoissonGAINminusViandeGAIN)=ViandeEF\r\n",
        "\t\t\t\t 12 - 3 = 9  (ViandeEF)\r\n",
        "\t\t\t\t\tT1-d : interpretation -> PoissonEF-(PoissonGAINminusViandeGAIN+PoissonEIminusViandeEI)=ViandeEF\r\n",
        "\t\t\t 12 - 3 = 9  (ViandeEF)\r\n",
        "\t\t\t\tT1-d : interpretation -> PoissonEF-(PoissonGAINminusViandeGAIN+PoissonEIminusViandeEI)=ViandeEF\r\n",
        "\t\t 12 - 3 = 9  (ViandeEF)\r\n",
        "\t\t\tT1-d : interpretation -> PoissonEF-(PoissonGAINminusViandeGAIN+PoissonEIminusViandeEI)=ViandeEF\r\n",
        "\t 12 - 3 = 9  (ViandeEF)\r\n",
        "\t\tT1-d : interpretation -> PoissonEF-(PoissonGAINminusViandeGAIN+PoissonEIminusViandeEI)=ViandeEF\r\n",
        "\n"
       ]
      }
     ],
     "prompt_number": 71
    },
    {
     "cell_type": "code",
     "collapsed": false,
     "input": [
      "print(str(autoSolver.TreePaths.pathsCount)+\" different paths have been discovered\" )"
     ],
     "language": "python",
     "metadata": {},
     "outputs": [
      {
       "output_type": "stream",
       "stream": "stdout",
       "text": [
        "41 different paths have been discovered\n"
       ]
      }
     ],
     "prompt_number": 72
    },
    {
     "cell_type": "markdown",
     "metadata": {},
     "source": [
      "Let's inspect the first path recorded in the treePaths"
     ]
    },
    {
     "cell_type": "code",
     "collapsed": false,
     "input": [
      "aPath=autoSolver.TreePaths.pathList[0]\n",
      "print(aPath.formula)\n",
      "print(aPath.objectFormula)\n",
      "print(aPath.interpretationsSummary)\n",
      "print(aPath.valueFound)\n",
      "print(aPath.problemSolved)"
     ],
     "language": "python",
     "metadata": {},
     "outputs": [
      {
       "output_type": "stream",
       "stream": "stdout",
       "text": [
        "(T1-P1)+(P1-d)\n",
        "((PoissonEF-PoissonGAIN)-PoissonEIminusViandeEI)+(PoissonGAIN-PoissonGAINminusViandeGAIN)=ViandeEF\n",
        "\n",
        "9\n",
        "True\n"
       ]
      }
     ],
     "prompt_number": 73
    },
    {
     "cell_type": "markdown",
     "metadata": {},
     "source": [
      "### 2.6.2 Other intructions"
     ]
    },
    {
     "cell_type": "markdown",
     "metadata": {},
     "source": [
      "solver.SCHEMAS and solver.INTERP are two other instructions.\n",
      "For example if the list of actions is [solver.SCHEM,solver.INTERP,solver.SOLVE], then the automatic solver will start with applying a schema, then applying a interpretation change, and finally will finish by a solving process as seen above. \n",
      "This list of instruction will find all the paths which has this kind of pattern."
     ]
    },
    {
     "cell_type": "code",
     "collapsed": false,
     "input": [
      "upD.startAsUnderstood()\n",
      "autoSolver2=Solver(upD,constraints)\n",
      "autoSolver2.generalSequentialSolver(listOfActions=[autoSolver2.SCHEMA,autoSolver2.INTERP,autoSolver2.SOLVER])"
     ],
     "language": "python",
     "metadata": {},
     "outputs": [],
     "prompt_number": 74
    },
    {
     "cell_type": "markdown",
     "metadata": {},
     "source": [
      "Let's inspect a path"
     ]
    },
    {
     "cell_type": "code",
     "collapsed": false,
     "input": [
      "autoSolver2.TreePaths.scanTree()\n",
      "aPath=autoSolver2.TreePaths.pathList[43]\n",
      "print(aPath.formula)\n",
      "print(aPath.objectFormula)\n",
      "print(aPath.interpretationsSummary)\n",
      "print(aPath.valueFound)\n",
      "print(aPath.problemSolved)"
     ],
     "language": "python",
     "metadata": {},
     "outputs": [
      {
       "output_type": "stream",
       "stream": "stdout",
       "text": [
        "P1-d\n",
        "PoissonEF-(PoissonGAINminusViandeGAIN+PoissonEIminusViandeEI)=ViandeEF\n",
        " # P1 interpreted as PoissonEF\n",
        "2\n",
        "True\n"
       ]
      }
     ],
     "prompt_number": 75
    },
    {
     "cell_type": "markdown",
     "metadata": {},
     "source": [
      "# [3] Handle the simulated datas"
     ]
    },
    {
     "cell_type": "markdown",
     "metadata": {},
     "source": [
      "SimulatedDatas is a class used to store different treepath and eventually reduce some redondancies between the different paths."
     ]
    },
    {
     "cell_type": "code",
     "collapsed": false,
     "input": [
      "simulatedDatas=SimulatedDatas()\n",
      "simulatedDatas.addDataSet(solver1.TreePaths.pathList,\"pbm1\",\"Manual Solver\")\n",
      "simulatedDatas.addDataSet(autoSolver.TreePaths.pathList,\"pbm1\",\"Expert Solver\")\n",
      "simulatedDatas.addDataSet(autoSolver2.TreePaths.pathList,\"pbm1\",\"Another Solver\")"
     ],
     "language": "python",
     "metadata": {},
     "outputs": [],
     "prompt_number": 78
    },
    {
     "cell_type": "markdown",
     "metadata": {},
     "source": [
      "simulatedDatas can print its datas in a CSV via **simulatedDatas.printCSV()** or in the console using **simulatedDatas.printLines()**"
     ]
    },
    {
     "cell_type": "code",
     "collapsed": false,
     "input": [
      "simulatedDatas.printLines()"
     ],
     "language": "python",
     "metadata": {},
     "outputs": [
      {
       "output_type": "stream",
       "stream": "stdout",
       "text": [
        "('pbm1', 'Expert Solver', ['T1-d', True, 'PoissonEF-(PoissonGAINminusViandeGAIN+PoissonEIminusViandeEI)=ViandeEF', ''])\n",
        "('pbm1', 'Expert Solver', ['(T1-P1)+(P1-d)', True, '((PoissonEF-PoissonGAIN)-PoissonEIminusViandeEI)+(PoissonGAIN-PoissonGAINminusViandeGAIN)=ViandeEF', ''])\n",
        "('pbm1', 'Another Solver', ['(T1+P1)-d', True, '((PoissonEF-PoissonGAIN)+PoissonGAIN)-(PoissonGAINminusViandeGAIN+PoissonEIminusViandeEI)=ViandeEF', ' # T1 interpreted as PoissonEI'])\n",
        "('pbm1', 'Another Solver', ['(T1+P1)-d', True, '(PoissonEI+PoissonGAIN)-(PoissonGAINminusViandeGAIN+PoissonEIminusViandeEI)=ViandeEF', ' # T1 interpreted as PoissonEI'])\n",
        "('pbm1', 'Another Solver', ['P1', False, 'PoissonGAIN-PoissonGAINminusViandeGAIN=ViandeGAIN', ' # dEI interpreted as PoissonGAINminusViandeGAIN'])\n",
        "('pbm1', 'Another Solver', ['T1-(P1-d)', True, 'PoissonEF-((PoissonGAIN-ViandeGAIN)+PoissonEIminusViandeEI)=ViandeEF', ' # d interpreted as ViandeGAIN'])\n",
        "('pbm1', 'Another Solver', ['T1-(P1-d)', True, 'PoissonEF-((PoissonGAIN-(PoissonGAIN-PoissonGAINminusViandeGAIN))+PoissonEIminusViandeEI)=ViandeEF', ' # d interpreted as ViandeGAIN'])\n",
        "('pbm1', 'Another Solver', ['d', True, 'ViandeEF', ' # d interpreted as ViandeEF'])\n",
        "('pbm1', 'Another Solver', ['(T1-P1)-d', True, '((PoissonEF-PoissonGAIN)-PoissonEIminusViandeEI)+ViandeGAIN=ViandeEF', ' # -d interpreted as ViandeGAIN'])\n",
        "('pbm1', 'Another Solver', ['(T1-P1)-d', True, '((PoissonEF-PoissonGAIN)-PoissonEIminusViandeEI)+(PoissonGAIN-PoissonGAINminusViandeGAIN)=ViandeEF', ' # -d interpreted as ViandeGAIN'])\n",
        "('pbm1', 'Another Solver', ['P1-d', True, 'PoissonEF-(PoissonGAINminusViandeGAIN+PoissonEIminusViandeEI)=ViandeEF', ' # P1 interpreted as PoissonEF'])\n",
        "('pbm1', 'Another Solver', ['P1+(P1-d)', True, '(PoissonEI-PoissonEIminusViandeEI)+(PoissonGAIN-PoissonGAINminusViandeGAIN)=ViandeEF', ' # P1 interpreted as PoissonEI'])\n",
        "('pbm1', 'Another Solver', ['(T1-P1)+d', True, '((PoissonEF-PoissonGAIN)-PoissonEIminusViandeEI)+ViandeGAIN=ViandeEF', ' # d interpreted as ViandeGAIN'])\n",
        "('pbm1', 'Another Solver', ['(T1-P1)+d', True, '((PoissonEF-PoissonGAIN)-PoissonEIminusViandeEI)+(PoissonGAIN-PoissonGAINminusViandeGAIN)=ViandeEF', ' # d interpreted as ViandeGAIN'])\n",
        "('pbm1', 'Another Solver', ['T1+(P1-d)', True, '((PoissonEF-PoissonGAIN)-PoissonEIminusViandeEI)+(PoissonGAIN-PoissonGAINminusViandeGAIN)=ViandeEF', ' # T1 interpreted as PoissonEI'])\n",
        "('pbm1', 'Another Solver', ['T1+(P1-d)', True, '(PoissonEI-PoissonEIminusViandeEI)+(PoissonGAIN-PoissonGAINminusViandeGAIN)=ViandeEF', ' # T1 interpreted as PoissonEI'])\n",
        "('pbm1', 'Another Solver', ['T1', True, 'PoissonEF-PoissonEFminusViandeEF=ViandeEF', ' # dEI interpreted as PoissonEFminusViandeEF'])\n",
        "('pbm1', 'Another Solver', ['T1', True, 'PoissonEF-(PoissonGAINminusViandeGAIN+PoissonEIminusViandeEI)=ViandeEF', ' # dEI interpreted as PoissonEFminusViandeEF'])\n",
        "('pbm1', 'Another Solver', ['P1+((T1-P1)-d)', True, '((PoissonEF-PoissonGAIN)-PoissonEIminusViandeEI)+((PoissonEF-(PoissonEF-PoissonGAIN))-PoissonGAINminusViandeGAIN)=ViandeEF', ' # P1 interpreted as PoissonEI'])\n",
        "('pbm1', 'Another Solver', ['P1+((T1-P1)-d)', True, '(PoissonEI-PoissonEIminusViandeEI)+((PoissonEF-PoissonEI)-PoissonGAINminusViandeGAIN)=ViandeEF', ' # P1 interpreted as PoissonEI'])\n",
        "('pbm1', 'Another Solver', ['P1+((T1-P1)-d)', True, '(PoissonGAIN-PoissonGAINminusViandeGAIN)+((PoissonEF-PoissonGAIN)-((PoissonGAINminusViandeGAIN+PoissonEIminusViandeEI)-PoissonGAINminusViandeGAIN))=ViandeEF', ' # dEI interpreted as PoissonGAINminusViandeGAIN'])\n",
        "('pbm1', 'Another Solver', ['(T1-P1)+(d-((T1-P1)-P1))', True, '((PoissonEF-PoissonGAIN)-PoissonEIminusViandeEI)+(PoissonGAINminusViandeGAIN-((PoissonEF-PoissonGAIN)-PoissonEF))=ViandeEF', ' # P1 interpreted as PoissonEF'])\n",
        "('pbm1', 'Another Solver', ['T1-P1', False, 'PoissonEF-PoissonGAIN=PoissonEI', ''])\n",
        "('pbm1', 'Another Solver', ['T1-(P1+d)', True, 'PoissonEF-((PoissonGAIN-ViandeGAIN)+PoissonEIminusViandeEI)=ViandeEF', ' # -d interpreted as ViandeGAIN'])\n",
        "('pbm1', 'Another Solver', ['T1-(P1+d)', True, 'PoissonEF-((PoissonGAIN-(PoissonGAIN-PoissonGAINminusViandeGAIN))+PoissonEIminusViandeEI)=ViandeEF', ' # -d interpreted as ViandeGAIN'])\n",
        "('pbm1', 'Another Solver', ['((T1-P1)-d)+(P1-d)', True, '((PoissonEF-PoissonGAIN)-(PoissonGAINminusViandeGAIN-PoissonEFminusViandeEF))+(PoissonGAIN-PoissonGAINminusViandeGAIN)=ViandeEF', ' # dEI interpreted as PoissonEFminusViandeEF'])\n",
        "('pbm1', 'Another Solver', ['((T1-P1)-d)+(P1-d)', True, '((PoissonEF-PoissonGAIN)-(PoissonGAINminusViandeGAIN-(PoissonGAINminusViandeGAIN+PoissonEIminusViandeEI)))+(PoissonGAIN-PoissonGAINminusViandeGAIN)=ViandeEF', ' # dEI interpreted as PoissonEFminusViandeEF'])\n",
        "('pbm1', 'Another Solver', ['T1-d', True, 'PoissonEF-(PoissonGAINminusViandeGAIN+PoissonEIminusViandeEI)=ViandeEF', ''])\n",
        "('pbm1', 'Another Solver', ['T1-d', True, 'PoissonEF-PoissonEFminusViandeEF=ViandeEF', ' # d interpreted as PoissonEFminusViandeEF'])\n",
        "('pbm1', 'Another Solver', ['T1-d', True, 'PoissonEF-(PoissonGAINminusViandeGAIN+PoissonEIminusViandeEI)=ViandeEF', ' # d interpreted as PoissonEFminusViandeEF'])\n",
        "('pbm1', 'Another Solver', ['(T1-P1)+(P1-d)', True, '((PoissonEF-PoissonGAIN)-PoissonEIminusViandeEI)+(PoissonGAIN-(PoissonEFminusViandeEF-PoissonEIminusViandeEI))=ViandeEF', ' # d interpreted as PoissonEFminusViandeEF'])\n",
        "('pbm1', 'Another Solver', ['(T1-P1)+(P1-d)', True, '((PoissonEF-PoissonGAIN)-PoissonEIminusViandeEI)+(PoissonGAIN-PoissonGAINminusViandeGAIN)=ViandeEF', ''])\n",
        "('pbm1', 'Another Solver', ['(T1-P1)+(P1-d)', True, '((PoissonEF-PoissonGAIN)-PoissonEIminusViandeEI)+(PoissonGAIN-((PoissonGAINminusViandeGAIN+PoissonEIminusViandeEI)-PoissonEIminusViandeEI))=ViandeEF', ' # d interpreted as PoissonEFminusViandeEF'])\n"
       ]
      }
     ],
     "prompt_number": 79
    }
   ],
   "metadata": {}
  }
 ]
}