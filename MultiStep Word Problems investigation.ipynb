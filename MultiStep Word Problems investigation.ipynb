{
 "cells": [
  {
   "cell_type": "markdown",
   "metadata": {
    "slideshow": {
     "slide_type": "-"
    }
   },
   "source": [
    "#### (0) IMPORTS\n",
    "we import all the python files needed"
   ]
  },
  {
   "cell_type": "code",
   "execution_count": 1,
   "metadata": {
    "collapsed": false,
    "slideshow": {
     "slide_type": "-"
    }
   },
   "outputs": [],
   "source": [
    "import lib.operations as operations # basic variables concerning operations\n",
    "from lib.schemas import * # related to the mathematical structure of the problem\n",
    "from lib.textRepresentations import * # related to the propositions constituting the problem\n",
    "\n",
    "from lib.subjectRepresentations import * # related to the problem state of a subject (representations and quantities)\n",
    "from lib.paths import * # related to the solving process and its storing and analysis\n",
    "from lib.dataManager import * # related to the final steps in the process gathering and printing results of simulation"
   ]
  },
  {
   "cell_type": "markdown",
   "metadata": {
    "slideshow": {
     "slide_type": "-"
    }
   },
   "source": [
    "# [1] Create a problem"
   ]
  },
  {
   "cell_type": "markdown",
   "metadata": {
    "slideshow": {
     "slide_type": "-"
    }
   },
   "source": [
    "## 1.1 Declare the mathematical structure of the problem"
   ]
  },
  {
   "cell_type": "markdown",
   "metadata": {},
   "source": [
    "Two schema describing the first relationships between the quantities are **created**"
   ]
  },
  {
   "cell_type": "code",
   "execution_count": 2,
   "metadata": {
    "collapsed": false
   },
   "outputs": [
    {
     "name": "stdout",
     "output_type": "stream",
     "text": [
      "{'q1': 'PoissonEI', 'q2': 'PoissonGAIN', 'qf': 'PoissonEF'}\n",
      "{'q1': 'ViandeEI', 'q2': 'ViandeGAIN', 'qf': 'ViandeEF'}\n"
     ]
    }
   ],
   "source": [
    "schema1=Schema(\"PoissonEF\",\"PoissonEI\",operations.addition,\"PoissonGAIN\",\"change\")\n",
    "schema2=Schema(\"ViandeEF\",\"ViandeEI\",operations.addition,\"ViandeGAIN\",\"change\")\n",
    "print(schema1.objects)\n",
    "print(schema2.objects)"
   ]
  },
  {
   "cell_type": "markdown",
   "metadata": {},
   "source": [
    "We then create the problem structure and **add** the schemas"
   ]
  },
  {
   "cell_type": "code",
   "execution_count": 3,
   "metadata": {
    "collapsed": false
   },
   "outputs": [
    {
     "data": {
      "text/plain": [
       "[<lib.schemas.Schema instance at 0x000000000396BC48>,\n",
       " <lib.schemas.Schema instance at 0x000000000396BBC8>]"
      ]
     },
     "execution_count": 3,
     "metadata": {},
     "output_type": "execute_result"
    }
   ],
   "source": [
    "struct=ProblemStructure()\n",
    "struct.addSchema(schema1)\n",
    "struct.addSchema(schema2)\n",
    "struct.schemas"
   ]
  },
  {
   "cell_type": "markdown",
   "metadata": {},
   "source": [
    "And we create the schemas in order to create all the correspondances between the first two schemas"
   ]
  },
  {
   "cell_type": "code",
   "execution_count": 4,
   "metadata": {
    "collapsed": false
   },
   "outputs": [],
   "source": [
    "struct.addBridgingSchemas(schema1,schema2)"
   ]
  },
  {
   "cell_type": "code",
   "execution_count": 5,
   "metadata": {
    "collapsed": false
   },
   "outputs": [
    {
     "name": "stdout",
     "output_type": "stream",
     "text": [
      "{'q1': 'PoissonEI', 'q2': 'PoissonGAIN', 'qf': 'PoissonEF'}\n",
      "{'q1': 'ViandeEI', 'q2': 'ViandeGAIN', 'qf': 'ViandeEF'}\n",
      "{'q1': 'PoissonEI', 'q2': 'ViandeEI', 'qf': 'PoissonEIminusViandeEI'}\n",
      "{'q1': 'PoissonGAIN', 'q2': 'ViandeGAIN', 'qf': 'PoissonGAINminusViandeGAIN'}\n",
      "{'q1': 'PoissonEF', 'q2': 'ViandeEF', 'qf': 'PoissonEFminusViandeEF'}\n",
      "{'q1': 'PoissonEIminusViandeEI', 'q2': 'PoissonGAINminusViandeGAIN', 'qf': 'PoissonEFminusViandeEF'}\n"
     ]
    }
   ],
   "source": [
    "ls=struct.schemas\n",
    "for schem in ls:\n",
    "    print(schem.objects)"
   ]
  },
  {
   "cell_type": "markdown",
   "metadata": {},
   "source": [
    "We then update the field corresponding to set of the object in the problem"
   ]
  },
  {
   "cell_type": "code",
   "execution_count": 6,
   "metadata": {
    "collapsed": false
   },
   "outputs": [
    {
     "name": "stdout",
     "output_type": "stream",
     "text": [
      "set([])\n",
      "set(['PoissonEI', 'PoissonEF', 'PoissonEIminusViandeEI', 'PoissonGAINminusViandeGAIN', 'ViandeEF', 'ViandeGAIN', 'ViandeEI', 'PoissonEFminusViandeEF', 'PoissonGAIN'])\n"
     ]
    }
   ],
   "source": [
    "print(struct.objectSet)# before\n",
    "struct.updateObjectSet() \n",
    "print(struct.objectSet) #after"
   ]
  },
  {
   "cell_type": "code",
   "execution_count": 7,
   "metadata": {
    "collapsed": false
   },
   "outputs": [
    {
     "name": "stdout",
     "output_type": "stream",
     "text": [
      "set(['PoissonEI', 'PoissonEF', 'PoissonEIminusViandeEI', 'PoissonGAINminusViandeGAIN', 'ViandeEF', 'ViandeGAIN', 'ViandeEI', 'PoissonEFminusViandeEF', 'PoissonGAIN'])\n"
     ]
    }
   ],
   "source": [
    "print(struct.objectSet)"
   ]
  },
  {
   "cell_type": "markdown",
   "metadata": {},
   "source": [
    "## 1.2 Declare the text informations provided in the problem\n",
    "#### The propositions"
   ]
  },
  {
   "cell_type": "markdown",
   "metadata": {},
   "source": [
    "We create a text object"
   ]
  },
  {
   "cell_type": "code",
   "execution_count": 15,
   "metadata": {
    "collapsed": false
   },
   "outputs": [],
   "source": [
    "text=Text()"
   ]
  },
  {
   "cell_type": "markdown",
   "metadata": {},
   "source": [
    "And we add all the propositions, which are "
   ]
  },
  {
   "cell_type": "code",
   "execution_count": 16,
   "metadata": {
    "collapsed": false
   },
   "outputs": [],
   "source": [
    "t1='Au supermarché, le kilo de poisson a augmenté de 5 euros cette année'\n",
    "t2='Un kilo de poisson coute maintenant 12 euros.'\n",
    "t3='Au début de l\\'année, le kilo de viande coutait le même prix que le kilo de poisson.'\n",
    "t4='Le kilo de viande a augmenté de 3 euros de moins que le kilo de poisson'\n",
    "q1=Representation(Quantity(\"PoissonGAIN\",\"P1\"),t1)\n",
    "q2=Representation(Quantity(\"PoissonEF\",\"T1\"),t2)\n",
    "q3=Representation(Quantity(\"PoissonEIminusViandeEI\",\"dEI\"),t3)\n",
    "q4=Representation(Quantity(\"PoissonGAINminusViandeGAIN\",\"d\"),t4)\n",
    "text.addTextInformation(TextInformation(q1))\n",
    "text.addTextInformation(TextInformation(q2))\n",
    "text.addTextInformation(TextInformation(q3))\n",
    "text.addTextInformation(TextInformation(q4))"
   ]
  },
  {
   "cell_type": "code",
   "execution_count": 11,
   "metadata": {
    "collapsed": false
   },
   "outputs": [
    {
     "name": "stdout",
     "output_type": "stream",
     "text": [
      "('PoissonGAIN', 'P1')\n",
      "('PoissonEF', 'T1')\n",
      "('PoissonEIminusViandeEI', 'dEI')\n",
      "('PoissonGAINminusViandeGAIN', 'd')\n"
     ]
    }
   ],
   "source": [
    "for info in text.textInformations:\n",
    "    q=info.representations[0].quantity\n",
    "    print(q.object, q.value)"
   ]
  },
  {
   "cell_type": "markdown",
   "metadata": {},
   "source": [
    "#### The Goal"
   ]
  },
  {
   "cell_type": "code",
   "execution_count": 12,
   "metadata": {
    "collapsed": false
   },
   "outputs": [],
   "source": [
    "text.setGoal(TextGoal(Goal('ViandeEF','Combien coute le kilo de viande maintenant?')))"
   ]
  },
  {
   "cell_type": "markdown",
   "metadata": {},
   "source": [
    "#### The alternative representations"
   ]
  },
  {
   "cell_type": "code",
   "execution_count": 17,
   "metadata": {
    "collapsed": false
   },
   "outputs": [],
   "source": [
    "t1='Au supermarché, le kilo de poisson était de 5 euros'\n",
    "t2='Au supermarché, le kilo de poisson coute 5 euros'\n",
    "t3='Un kilo de poisson était de 12 euros.'\n",
    "t4='Au la fin de l\\'année, le kilo de viande coute le même prix que le kilo de poisson.'\n",
    "t5='Le kilo de viande a augmenté du même prix que le kilo de poisson.'\n",
    "t6='Le kilo de viande a augmenté de 3 euros'\n",
    "t7='Le kilo de viande a diminué de 3 euros'\n",
    "t8='Le kilo de viande vaut 3 euros de moins que le kilo de poisson'\n",
    "t9='Le kilo coute 3 euros à la fin'\n",
    "\n",
    "a1=Representation(Quantity(\"PoissonEI\",\"P1\"),t1)\n",
    "a2=Representation(Quantity(\"PoissonEF\",\"P1\"),t2)\n",
    "a3=Representation(Quantity(\"PoissonEI\",\"T1\"),t3)\n",
    "a4=Representation(Quantity(\"PoissonEFminusViandeEF\",\"dEI\"),t4)\n",
    "a5=Representation(Quantity(\"PoissonGAINminusViandeGAIN\",\"dEI\"),t5)\n",
    "a6=Representation(Quantity(\"ViandeGAIN\",\"d\"),t6)\n",
    "a7=Representation(Quantity(\"ViandeGAIN\",\"-d\"),t7)\n",
    "a8=Representation(Quantity(\"PoissonEFminusViandeEF\",\"d\"),t8)\n",
    "a9=Representation(Quantity(\"ViandeEF\",\"d\"),t9)\n",
    "\n",
    "text.getTextInformation(0).addAlternativeRepresentation(a1)\n",
    "text.getTextInformation(0).addAlternativeRepresentation(a2)\n",
    "text.getTextInformation(1).addAlternativeRepresentation(a3)\n",
    "text.getTextInformation(2).addAlternativeRepresentation(a4)\n",
    "text.getTextInformation(2).addAlternativeRepresentation(a5)\n",
    "text.getTextInformation(3).addAlternativeRepresentation(a6)\n",
    "text.getTextInformation(3).addAlternativeRepresentation(a7)\n",
    "text.getTextInformation(3).addAlternativeRepresentation(a8)\n",
    "text.getTextInformation(3).addAlternativeRepresentation(a9)"
   ]
  },
  {
   "cell_type": "markdown",
   "metadata": {},
   "source": [
    "Let's inspect the different alternative representations pertaining to the fourth text proposition"
   ]
  },
  {
   "cell_type": "code",
   "execution_count": 116,
   "metadata": {
    "collapsed": false
   },
   "outputs": [
    {
     "name": "stdout",
     "output_type": "stream",
     "text": [
      "('PoissonGAINminusViandeGAIN', 'd')\n",
      "('ViandeGAIN', 'd')\n",
      "('ViandeGAIN', '-d')\n",
      "('PoissonEFminusViandeEF', 'd')\n",
      "('ViandeEF', 'd')\n"
     ]
    }
   ],
   "source": [
    "textInfo=text.textInformations[3]\n",
    "for representation in textInfo.representations:\n",
    "    print(representation.quantity.object,representation.quantity.value)"
   ]
  },
  {
   "cell_type": "markdown",
   "metadata": {},
   "source": [
    "## 1.3 final step to construct the problem\n",
    "A problem is the association of a **structure** and a **text** as defined above"
   ]
  },
  {
   "cell_type": "code",
   "execution_count": 117,
   "metadata": {
    "collapsed": false
   },
   "outputs": [],
   "source": [
    "probleme1=Problem(struct,text)"
   ]
  },
  {
   "cell_type": "markdown",
   "metadata": {},
   "source": [
    "Set the initial values"
   ]
  },
  {
   "cell_type": "code",
   "execution_count": 118,
   "metadata": {
    "collapsed": false
   },
   "outputs": [],
   "source": [
    "probleme1.setInitialValues({\"P1\":5,\"T1\":12,\"dEI\":0,\"d\":3,\"-d\":-3})"
   ]
  },
  {
   "cell_type": "markdown",
   "metadata": {},
   "source": [
    "# [2] Handle solver object"
   ]
  },
  {
   "cell_type": "markdown",
   "metadata": {},
   "source": [
    "### 2.1 Init its first problem representation"
   ]
  },
  {
   "cell_type": "code",
   "execution_count": 119,
   "metadata": {
    "collapsed": false
   },
   "outputs": [],
   "source": [
    "upD=Updater(probleme1) # create the problem state\n",
    "upD.startAsUnderstood() # init the problem state, we start with expert representations"
   ]
  },
  {
   "cell_type": "markdown",
   "metadata": {},
   "source": [
    "Updater has a central role in the program as it :\n",
    "- Check if moves are possible\n",
    "- Apply moves (schemas, reinterpretations) and then update its main attribute **problemState** which is also an important class"
   ]
  },
  {
   "cell_type": "markdown",
   "metadata": {},
   "source": [
    "### 2.2 (side note) about the problem state\n",
    "- The **quantitiesDic** : current object-values association\n",
    "- **representations** which indicates which representations are currently selected"
   ]
  },
  {
   "cell_type": "code",
   "execution_count": 120,
   "metadata": {
    "collapsed": false
   },
   "outputs": [
    {
     "name": "stdout",
     "output_type": "stream",
     "text": [
      "quantity dic:  {'PoissonEI': [], 'PoissonEF': [12], 'PoissonEIminusViandeEI': [0], 'PoissonGAINminusViandeGAIN': [3], 'ViandeEF': [], 'ViandeGAIN': [], 'ViandeEI': [], 'PoissonEFminusViandeEF': [], 'PoissonGAIN': [5]}\n",
      "\n",
      " representations:  [0, 0, 0, 0]\n"
     ]
    }
   ],
   "source": [
    "probState=upD.problemState\n",
    "print \"quantity dic: \", probState.quantitiesDic.dic\n",
    "print \"\\n representations: \",probState.representations"
   ]
  },
  {
   "cell_type": "markdown",
   "metadata": {},
   "source": [
    "### 2.3 Define the behavioral constraint of the solvers"
   ]
  },
  {
   "cell_type": "code",
   "execution_count": 121,
   "metadata": {
    "collapsed": false
   },
   "outputs": [],
   "source": [
    "c1=IntervalConstraint(['EF','EI'],operations.superiorOrEqualTo0) "
   ]
  },
  {
   "cell_type": "markdown",
   "metadata": {},
   "source": [
    "This constraints implies that no negative values can be associated with object which has 'EI' or 'EF' as substring"
   ]
  },
  {
   "cell_type": "code",
   "execution_count": 122,
   "metadata": {
    "collapsed": false
   },
   "outputs": [],
   "source": [
    "c2=BehavioralConstraint(breakTheOldOne=True)"
   ]
  },
  {
   "cell_type": "markdown",
   "metadata": {},
   "source": [
    "This constraints implies that if there is an alternative representation is selected, then the quantity formed by its prevous state is destroyed. In other terms, only one representation of the the same proposition is active at the same time."
   ]
  },
  {
   "cell_type": "markdown",
   "metadata": {},
   "source": [
    "### 2.4 Create the solvers (final step)"
   ]
  },
  {
   "cell_type": "code",
   "execution_count": 123,
   "metadata": {
    "collapsed": false
   },
   "outputs": [],
   "source": [
    "constraints=[c1,c2]"
   ]
  },
  {
   "cell_type": "code",
   "execution_count": 124,
   "metadata": {
    "collapsed": false
   },
   "outputs": [],
   "source": [
    "solver1=Solver(upD,constraints)"
   ]
  },
  {
   "cell_type": "markdown",
   "metadata": {},
   "source": [
    "## 2.5 Manually run the solver"
   ]
  },
  {
   "cell_type": "markdown",
   "metadata": {},
   "source": [
    "### 2.5.1 Apply a schema"
   ]
  },
  {
   "cell_type": "markdown",
   "metadata": {},
   "source": [
    "- check what are the schemas which can be applied."
   ]
  },
  {
   "cell_type": "code",
   "execution_count": 125,
   "metadata": {
    "collapsed": false
   },
   "outputs": [
    {
     "name": "stdout",
     "output_type": "stream",
     "text": [
      "[<lib.schemas.Schema instance at 0x000000000A4AFF48>, <lib.schemas.Schema instance at 0x000000000A4AFCC8>, <lib.schemas.Schema instance at 0x000000000A68E148>]\n",
      "{'q1': 'PoissonEI', 'q2': 'PoissonGAIN', 'qf': 'PoissonEF'}\n"
     ]
    }
   ],
   "source": [
    "solver1.updater.updateAppliableSchemas()\n",
    "l=solver1.updater.appliableSchemaList\n",
    "print(l)\n",
    "print (l[0].objects)"
   ]
  },
  {
   "cell_type": "markdown",
   "metadata": {},
   "source": [
    "- apply a schema"
   ]
  },
  {
   "cell_type": "code",
   "execution_count": 126,
   "metadata": {
    "collapsed": false
   },
   "outputs": [],
   "source": [
    "move1=Move(l[0]) # a move is one level more abastract than schema or representation\n",
    "stepInformations1=solver1.updater.applyMove(move1,solver1.constraints) # we can then use the function applyMove for schemas or representation"
   ]
  },
  {
   "cell_type": "markdown",
   "metadata": {},
   "source": [
    "*stepInformations* is an instance of InfoStep (in *subjectRepresentations.py*) and contains many informations related to the concrete application of the move, and can be used to inspect precisely a solution path.\n",
    "Among others : "
   ]
  },
  {
   "cell_type": "code",
   "execution_count": 127,
   "metadata": {
    "collapsed": false
   },
   "outputs": [
    {
     "name": "stdout",
     "output_type": "stream",
     "text": [
      "(' 12 - 5 ', 7, ['PoissonEF', 'PoissonGAIN'], 'PoissonEI')\n"
     ]
    }
   ],
   "source": [
    "print(stepInformations1.formulaFirstPart,stepInformations1.valueToFind,stepInformations1.operands,stepInformations1.unknow)"
   ]
  },
  {
   "cell_type": "markdown",
   "metadata": {},
   "source": [
    "In this specific case PoissonEI has been found knowing PoissonGAIN and PoissonEF.\n",
    "A new quantity is then now available : "
   ]
  },
  {
   "cell_type": "code",
   "execution_count": 128,
   "metadata": {
    "collapsed": false
   },
   "outputs": [
    {
     "data": {
      "text/plain": [
       "[7]"
      ]
     },
     "execution_count": 128,
     "metadata": {},
     "output_type": "execute_result"
    }
   ],
   "source": [
    "solver1.updater.problemState.quantitiesDic.dic['PoissonEI']"
   ]
  },
  {
   "cell_type": "markdown",
   "metadata": {},
   "source": [
    "### 2.5.2 Apply a representation change"
   ]
  },
  {
   "cell_type": "markdown",
   "metadata": {},
   "source": [
    "#### informations on representations state and representations change"
   ]
  },
  {
   "cell_type": "code",
   "execution_count": 129,
   "metadata": {
    "collapsed": false
   },
   "outputs": [
    {
     "name": "stdout",
     "output_type": "stream",
     "text": [
      "9 representations change are possible\n",
      "[0, 0, 0, 0]  is the current representations state\n",
      "\n",
      "index of the proposition in the text 3\n",
      "index of the alternative representation of this proposition 1\n",
      "('ViandeGAIN', 3)\n"
     ]
    }
   ],
   "source": [
    "solver1.updater.updatePossibleRepresentationChange()\n",
    "print len(solver1.updater.possibleRepresentationChangeList), \"representations change are possible\"\n",
    "print solver1.updater.problemState.representations, \" is the current representations state\"\n",
    "\n",
    "repChange=solver1.updater.possibleRepresentationChangeList[5]\n",
    "print \"\\nindex of the proposition in the text\", repChange.indexTextInformation\n",
    "print \"index of the alternative representation of this proposition\", repChange.indexSelectedRepresentation\n",
    "rep=solver1.updater.problem.text.textInformations[repChange.indexTextInformation].representations[repChange.indexSelectedRepresentation]\n",
    "print(rep.quantity.object, rep.quantity.value)"
   ]
  },
  {
   "cell_type": "markdown",
   "metadata": {},
   "source": [
    "#### Apply a representation change works broadly the same way as applying a Schema :"
   ]
  },
  {
   "cell_type": "code",
   "execution_count": 130,
   "metadata": {
    "collapsed": false
   },
   "outputs": [
    {
     "name": "stdout",
     "output_type": "stream",
     "text": [
      "[0, 0, 0, 1]  is the new representations state\n"
     ]
    }
   ],
   "source": [
    "move2=Move(repChange)\n",
    "stepInformations2=solver1.updater.applyMove(move2,solver1.constraints)\n",
    "print solver1.updater.problemState.representations, \" is the new representations state\""
   ]
  },
  {
   "cell_type": "markdown",
   "metadata": {},
   "source": [
    "Let's check that this new value is now in the quantitiesDic"
   ]
  },
  {
   "cell_type": "code",
   "execution_count": 131,
   "metadata": {
    "collapsed": false
   },
   "outputs": [
    {
     "data": {
      "text/plain": [
       "[3]"
      ]
     },
     "execution_count": 131,
     "metadata": {},
     "output_type": "execute_result"
    }
   ],
   "source": [
    "solver1.updater.problemState.quantitiesDic.dic['ViandeGAIN']"
   ]
  },
  {
   "cell_type": "markdown",
   "metadata": {},
   "source": [
    "As we used the constraint *c2=BehavioralConstraint(breakTheOldOne=True)* we can see that the old representation of this text information is erased."
   ]
  },
  {
   "cell_type": "code",
   "execution_count": 132,
   "metadata": {
    "collapsed": false
   },
   "outputs": [
    {
     "name": "stdout",
     "output_type": "stream",
     "text": [
      "before :  ('PoissonGAINminusViandeGAIN', 3)\n",
      "after :  []\n"
     ]
    }
   ],
   "source": [
    "oldrep=solver1.updater.problem.text.textInformations[3].representations[0]\n",
    "print \"before : \",(oldrep.quantity.object, oldrep.quantity.value)\n",
    "print \"after : \", solver1.updater.problemState.quantitiesDic.dic[oldrep.quantity.object]"
   ]
  },
  {
   "cell_type": "markdown",
   "metadata": {},
   "source": [
    "### 2.5.3 Use steps classes to keep records of the path\n",
    "Four classes are involved to keep such record : \n",
    "- StepInfo (explained above)\n",
    "- Step : has step info as attribute but also \n",
    "    - An unique id\n",
    "    - The ids of the step before him (father)\n",
    "    - The ids of the steps after him (children)\n",
    "- TreePaths : designed to store the steps, and the paths (as three and as lines).\n",
    "- Path : give the essential informations of a path"
   ]
  },
  {
   "cell_type": "markdown",
   "metadata": {},
   "source": [
    "#### 2.5.3.1 steps"
   ]
  },
  {
   "cell_type": "markdown",
   "metadata": {},
   "source": [
    "By convention the first step has for father the step with the id=0"
   ]
  },
  {
   "cell_type": "code",
   "execution_count": 133,
   "metadata": {
    "collapsed": false
   },
   "outputs": [],
   "source": [
    "step1=Step(move1,parentId=0, infos=stepInformations1,level=0)\n",
    "step2=Step(move2,parentId=step1.sId, infos=stepInformations2, level=1) #we use the id of step1 to create step2"
   ]
  },
  {
   "cell_type": "markdown",
   "metadata": {},
   "source": [
    "We can check if the problem is solved by the solved attribute"
   ]
  },
  {
   "cell_type": "code",
   "execution_count": 134,
   "metadata": {
    "collapsed": false
   },
   "outputs": [
    {
     "name": "stdout",
     "output_type": "stream",
     "text": [
      "is the problem solved: "
     ]
    },
    {
     "ename": "AttributeError",
     "evalue": "Step instance has no attribute 'solved'",
     "output_type": "error",
     "traceback": [
      "\u001b[1;31m---------------------------------------------------------------------------\u001b[0m\n\u001b[1;31mAttributeError\u001b[0m                            Traceback (most recent call last)",
      "\u001b[1;32m<ipython-input-134-26f944a831e7>\u001b[0m in \u001b[0;36m<module>\u001b[1;34m()\u001b[0m\n\u001b[1;32m----> 1\u001b[1;33m \u001b[1;32mprint\u001b[0m \u001b[1;34m\"is the problem solved: \"\u001b[0m\u001b[1;33m,\u001b[0m\u001b[0mstep2\u001b[0m\u001b[1;33m.\u001b[0m\u001b[0msolved\u001b[0m\u001b[1;33m\u001b[0m\u001b[0m\n\u001b[0m",
      "\u001b[1;31mAttributeError\u001b[0m: Step instance has no attribute 'solved'"
     ]
    }
   ],
   "source": [
    "print \"is the problem solved: \",step2.solved"
   ]
  },
  {
   "cell_type": "markdown",
   "metadata": {},
   "source": [
    "Updater has no rollback feature for the moment, which means that "
   ]
  },
  {
   "cell_type": "markdown",
   "metadata": {},
   "source": [
    "#### 2.5.3.2 TreePath"
   ]
  },
  {
   "cell_type": "markdown",
   "metadata": {},
   "source": [
    "We can now add the step in the TreePaths"
   ]
  },
  {
   "cell_type": "code",
   "execution_count": 135,
   "metadata": {
    "collapsed": false
   },
   "outputs": [
    {
     "name": "stdout",
     "output_type": "stream",
     "text": [
      "\n"
     ]
    }
   ],
   "source": [
    "tp=TreePaths(solver1.updater) # or use the treePath instance tied to the solver : tp=solver1.TreePaths\n",
    "tp.addStep(step1)\n",
    "tp.addStep(step2)"
   ]
  },
  {
   "cell_type": "markdown",
   "metadata": {},
   "source": [
    "TreePath allows many things :\n",
    "- Adding step to a treepaths bind the steps to its children"
   ]
  },
  {
   "cell_type": "code",
   "execution_count": 136,
   "metadata": {
    "collapsed": false
   },
   "outputs": [
    {
     "data": {
      "text/plain": [
       "[UUID('44c1970a-536a-458a-889d-e6418133f57e')]"
      ]
     },
     "execution_count": 136,
     "metadata": {},
     "output_type": "execute_result"
    }
   ],
   "source": [
    "id1=step1.childrenIds\n",
    "id1"
   ]
  },
  {
   "cell_type": "markdown",
   "metadata": {},
   "source": [
    "- TreePaths has a method to generate a tree according the different paths taken"
   ]
  },
  {
   "cell_type": "code",
   "execution_count": 137,
   "metadata": {
    "collapsed": false
   },
   "outputs": [
    {
     "name": "stdout",
     "output_type": "stream",
     "text": [
      " 12 - 5 = 7  (PoissonEI)\r\n",
      "\t3 interpreted as ViandeGAIN\r\n",
      "\t\td : interpretation -> ViandeGAIN\r\n",
      "\n"
     ]
    }
   ],
   "source": [
    "tp.scanTree()\n",
    "print(tp.treeOutput)"
   ]
  },
  {
   "cell_type": "markdown",
   "metadata": {},
   "source": [
    "[Note] The last line gives a summary of what happenned. In this specific case we stopped the solving process without finding the solution. A more complex path would give such string :   \n",
    "*T1-d : interpretation -> PoissonEF-(PoissonGAINminusViandeGAIN+PoissonEIminusViandeEI)=ViandeEF*   \n",
    "This line is produced by the TreePath method **trackBack** which traceback the different paths and gives the last line. TrackBack is called in scanTree whenever a path is ended."
   ]
  },
  {
   "cell_type": "code",
   "execution_count": 138,
   "metadata": {
    "collapsed": false
   },
   "outputs": [
    {
     "name": "stdout",
     "output_type": "stream",
     "text": [
      "d : interpretation -> ViandeGAIN\n"
     ]
    }
   ],
   "source": [
    "print(tp.trackBack(step2.sId))"
   ]
  },
  {
   "cell_type": "markdown",
   "metadata": {},
   "source": [
    "trackBack is also usefull to store the different paths in lines which can be found in the *pathList* attribute of the updater."
   ]
  },
  {
   "cell_type": "code",
   "execution_count": 139,
   "metadata": {
    "collapsed": false
   },
   "outputs": [
    {
     "name": "stdout",
     "output_type": "stream",
     "text": [
      "d\n",
      "ViandeGAIN\n",
      " # d interpreted as ViandeGAIN\n",
      "3\n",
      "False\n"
     ]
    }
   ],
   "source": [
    "firstPath=tp.pathList[0]\n",
    "print(firstPath.formula)\n",
    "print(firstPath.objectFormula)\n",
    "print(firstPath.interpretationsSummary)\n",
    "print(firstPath.valueFound)\n",
    "print(firstPath.problemSolved)"
   ]
  },
  {
   "cell_type": "markdown",
   "metadata": {},
   "source": [
    "## 2.6 Automatic use of solver to generate a solution space"
   ]
  },
  {
   "cell_type": "markdown",
   "metadata": {},
   "source": [
    "### 2.6.1 Simple example : only solve"
   ]
  },
  {
   "cell_type": "markdown",
   "metadata": {},
   "source": [
    "#### 2.6.1.1 solver.SOLVER instruction"
   ]
  },
  {
   "cell_type": "markdown",
   "metadata": {},
   "source": [
    "We create a new solver from start"
   ]
  },
  {
   "cell_type": "code",
   "execution_count": 140,
   "metadata": {
    "collapsed": false
   },
   "outputs": [],
   "source": [
    "upD.startAsUnderstood()\n",
    "autoSolver=Solver(upD,constraints)"
   ]
  },
  {
   "cell_type": "markdown",
   "metadata": {},
   "source": [
    "Now, we give the pattern of actions the solver has to explore"
   ]
  },
  {
   "cell_type": "code",
   "execution_count": 141,
   "metadata": {
    "collapsed": false
   },
   "outputs": [],
   "source": [
    "l=[autoSolver.SOLVER]\n",
    "autoSolver.generalSequentialSolver(listOfActions=l)"
   ]
  },
  {
   "cell_type": "markdown",
   "metadata": {},
   "source": [
    "This is the simplest example, the instruction solver.SOLVER means that schemas will be applied until the solution is found. At each step, the research tree has as many branches as schemas which can be applied."
   ]
  },
  {
   "cell_type": "markdown",
   "metadata": {},
   "source": [
    "#### 2.6.1.2 inspect the solution space"
   ]
  },
  {
   "cell_type": "markdown",
   "metadata": {},
   "source": [
    "We can now check what gives treeOutput and pathList with the solver process"
   ]
  },
  {
   "cell_type": "code",
   "execution_count": 142,
   "metadata": {
    "collapsed": false
   },
   "outputs": [
    {
     "name": "stdout",
     "output_type": "stream",
     "text": [
      " 12 - 5 = 7  (PoissonEI)\r\n",
      "\t 7 - 0 = 7  (ViandeEI)\r\n",
      "\t\t 5 - 3 = 2  (ViandeGAIN)\r\n",
      "\t\t\t 7 + 2 = 9  (ViandeEF)\r\n",
      "\t\t\t\t(T1-P1)+(P1-d) : interpretation -> ((PoissonEF-PoissonGAIN)-PoissonEIminusViandeEI)+(PoissonGAIN-PoissonGAINminusViandeGAIN)=ViandeEF\r\n",
      "\t\t\t 3 + 0 = 3  (PoissonEFminusViandeEF)\r\n",
      "\t\t\t\t 7 + 2 = 9  (ViandeEF)\r\n",
      "\t\t\t\t\t(T1-P1)+(P1-d) : interpretation -> ((PoissonEF-PoissonGAIN)-PoissonEIminusViandeEI)+(PoissonGAIN-PoissonGAINminusViandeGAIN)=ViandeEF\r\n",
      "\t\t\t\t 12 - 3 = 9  (ViandeEF)\r\n",
      "\t\t\t\t\tT1-d : interpretation -> PoissonEF-(PoissonGAINminusViandeGAIN+PoissonEIminusViandeEI)=ViandeEF\r\n",
      "\t\t 3 + 0 = 3  (PoissonEFminusViandeEF)\r\n",
      "\t\t\t 5 - 3 = 2  (ViandeGAIN)\r\n",
      "\t\t\t\t 7 + 2 = 9  (ViandeEF)\r\n",
      "\t\t\t\t\t(T1-P1)+(P1-d) : interpretation -> ((PoissonEF-PoissonGAIN)-PoissonEIminusViandeEI)+(PoissonGAIN-PoissonGAINminusViandeGAIN)=ViandeEF\r\n",
      "\t\t\t\t 12 - 3 = 9  (ViandeEF)\r\n",
      "\t\t\t\t\tT1-d : interpretation -> PoissonEF-(PoissonGAINminusViandeGAIN+PoissonEIminusViandeEI)=ViandeEF\r\n",
      "\t\t\t 12 - 3 = 9  (ViandeEF)\r\n",
      "\t\t\t\tT1-d : interpretation -> PoissonEF-(PoissonGAINminusViandeGAIN+PoissonEIminusViandeEI)=ViandeEF\r\n",
      "\t 5 - 3 = 2  (ViandeGAIN)\r\n",
      "\t\t 7 - 0 = 7  (ViandeEI)\r\n",
      "\t\t\t 7 + 2 = 9  (ViandeEF)\r\n",
      "\t\t\t\t(T1-P1)+(P1-d) : interpretation -> ((PoissonEF-PoissonGAIN)-PoissonEIminusViandeEI)+(PoissonGAIN-PoissonGAINminusViandeGAIN)=ViandeEF\r\n",
      "\t\t\t 3 + 0 = 3  (PoissonEFminusViandeEF)\r\n",
      "\t\t\t\t 7 + 2 = 9  (ViandeEF)\r\n",
      "\t\t\t\t\t(T1-P1)+(P1-d) : interpretation -> ((PoissonEF-PoissonGAIN)-PoissonEIminusViandeEI)+(PoissonGAIN-PoissonGAINminusViandeGAIN)=ViandeEF\r\n",
      "\t\t\t\t 12 - 3 = 9  (ViandeEF)\r\n",
      "\t\t\t\t\tT1-d : interpretation -> PoissonEF-(PoissonGAINminusViandeGAIN+PoissonEIminusViandeEI)=ViandeEF\r\n",
      "\t\t 3 + 0 = 3  (PoissonEFminusViandeEF)\r\n",
      "\t\t\t 7 - 0 = 7  (ViandeEI)\r\n",
      "\t\t\t\t 7 + 2 = 9  (ViandeEF)\r\n",
      "\t\t\t\t\t(T1-P1)+(P1-d) : interpretation -> ((PoissonEF-PoissonGAIN)-PoissonEIminusViandeEI)+(PoissonGAIN-PoissonGAINminusViandeGAIN)=ViandeEF\r\n",
      "\t\t\t\t 12 - 3 = 9  (ViandeEF)\r\n",
      "\t\t\t\t\tT1-d : interpretation -> PoissonEF-(PoissonGAINminusViandeGAIN+PoissonEIminusViandeEI)=ViandeEF\r\n",
      "\t\t\t 12 - 3 = 9  (ViandeEF)\r\n",
      "\t\t\t\tT1-d : interpretation -> PoissonEF-(PoissonGAINminusViandeGAIN+PoissonEIminusViandeEI)=ViandeEF\r\n",
      "\t 3 + 0 = 3  (PoissonEFminusViandeEF)\r\n",
      "\t\t 7 - 0 = 7  (ViandeEI)\r\n",
      "\t\t\t 5 - 3 = 2  (ViandeGAIN)\r\n",
      "\t\t\t\t 7 + 2 = 9  (ViandeEF)\r\n",
      "\t\t\t\t\t(T1-P1)+(P1-d) : interpretation -> ((PoissonEF-PoissonGAIN)-PoissonEIminusViandeEI)+(PoissonGAIN-PoissonGAINminusViandeGAIN)=ViandeEF\r\n",
      "\t\t\t\t 12 - 3 = 9  (ViandeEF)\r\n",
      "\t\t\t\t\tT1-d : interpretation -> PoissonEF-(PoissonGAINminusViandeGAIN+PoissonEIminusViandeEI)=ViandeEF\r\n",
      "\t\t\t 12 - 3 = 9  (ViandeEF)\r\n",
      "\t\t\t\tT1-d : interpretation -> PoissonEF-(PoissonGAINminusViandeGAIN+PoissonEIminusViandeEI)=ViandeEF\r\n",
      "\t\t 5 - 3 = 2  (ViandeGAIN)\r\n",
      "\t\t\t 7 - 0 = 7  (ViandeEI)\r\n",
      "\t\t\t\t 7 + 2 = 9  (ViandeEF)\r\n",
      "\t\t\t\t\t(T1-P1)+(P1-d) : interpretation -> ((PoissonEF-PoissonGAIN)-PoissonEIminusViandeEI)+(PoissonGAIN-PoissonGAINminusViandeGAIN)=ViandeEF\r\n",
      "\t\t\t\t 12 - 3 = 9  (ViandeEF)\r\n",
      "\t\t\t\t\tT1-d : interpretation -> PoissonEF-(PoissonGAINminusViandeGAIN+PoissonEIminusViandeEI)=ViandeEF\r\n",
      "\t\t\t 12 - 3 = 9  (ViandeEF)\r\n",
      "\t\t\t\tT1-d : interpretation -> PoissonEF-(PoissonGAINminusViandeGAIN+PoissonEIminusViandeEI)=ViandeEF\r\n",
      "\t\t 12 - 3 = 9  (ViandeEF)\r\n",
      "\t\t\tT1-d : interpretation -> PoissonEF-(PoissonGAINminusViandeGAIN+PoissonEIminusViandeEI)=ViandeEF\r\n",
      " 5 - 3 = 2  (ViandeGAIN)\r\n",
      "\t 12 - 5 = 7  (PoissonEI)\r\n",
      "\t\t 7 - 0 = 7  (ViandeEI)\r\n",
      "\t\t\t 7 + 2 = 9  (ViandeEF)\r\n",
      "\t\t\t\t(T1-P1)+(P1-d) : interpretation -> ((PoissonEF-PoissonGAIN)-PoissonEIminusViandeEI)+(PoissonGAIN-PoissonGAINminusViandeGAIN)=ViandeEF\r\n",
      "\t\t\t 3 + 0 = 3  (PoissonEFminusViandeEF)\r\n",
      "\t\t\t\t 7 + 2 = 9  (ViandeEF)\r\n",
      "\t\t\t\t\t(T1-P1)+(P1-d) : interpretation -> ((PoissonEF-PoissonGAIN)-PoissonEIminusViandeEI)+(PoissonGAIN-PoissonGAINminusViandeGAIN)=ViandeEF\r\n",
      "\t\t\t\t 12 - 3 = 9  (ViandeEF)\r\n",
      "\t\t\t\t\tT1-d : interpretation -> PoissonEF-(PoissonGAINminusViandeGAIN+PoissonEIminusViandeEI)=ViandeEF\r\n",
      "\t\t 3 + 0 = 3  (PoissonEFminusViandeEF)\r\n",
      "\t\t\t 7 - 0 = 7  (ViandeEI)\r\n",
      "\t\t\t\t 7 + 2 = 9  (ViandeEF)\r\n",
      "\t\t\t\t\t(T1-P1)+(P1-d) : interpretation -> ((PoissonEF-PoissonGAIN)-PoissonEIminusViandeEI)+(PoissonGAIN-PoissonGAINminusViandeGAIN)=ViandeEF\r\n",
      "\t\t\t\t 12 - 3 = 9  (ViandeEF)\r\n",
      "\t\t\t\t\tT1-d : interpretation -> PoissonEF-(PoissonGAINminusViandeGAIN+PoissonEIminusViandeEI)=ViandeEF\r\n",
      "\t\t\t 12 - 3 = 9  (ViandeEF)\r\n",
      "\t\t\t\tT1-d : interpretation -> PoissonEF-(PoissonGAINminusViandeGAIN+PoissonEIminusViandeEI)=ViandeEF\r\n",
      "\t 3 + 0 = 3  (PoissonEFminusViandeEF)\r\n",
      "\t\t 12 - 5 = 7  (PoissonEI)\r\n",
      "\t\t\t 7 - 0 = 7  (ViandeEI)\r\n",
      "\t\t\t\t 7 + 2 = 9  (ViandeEF)\r\n",
      "\t\t\t\t\t(T1-P1)+(P1-d) : interpretation -> ((PoissonEF-PoissonGAIN)-PoissonEIminusViandeEI)+(PoissonGAIN-PoissonGAINminusViandeGAIN)=ViandeEF\r\n",
      "\t\t\t\t 12 - 3 = 9  (ViandeEF)\r\n",
      "\t\t\t\t\tT1-d : interpretation -> PoissonEF-(PoissonGAINminusViandeGAIN+PoissonEIminusViandeEI)=ViandeEF\r\n",
      "\t\t\t 12 - 3 = 9  (ViandeEF)\r\n",
      "\t\t\t\tT1-d : interpretation -> PoissonEF-(PoissonGAINminusViandeGAIN+PoissonEIminusViandeEI)=ViandeEF\r\n",
      "\t\t 12 - 3 = 9  (ViandeEF)\r\n",
      "\t\t\tT1-d : interpretation -> PoissonEF-(PoissonGAINminusViandeGAIN+PoissonEIminusViandeEI)=ViandeEF\r\n",
      " 3 + 0 = 3  (PoissonEFminusViandeEF)\r\n",
      "\t 12 - 5 = 7  (PoissonEI)\r\n",
      "\t\t 7 - 0 = 7  (ViandeEI)\r\n",
      "\t\t\t 5 - 3 = 2  (ViandeGAIN)\r\n",
      "\t\t\t\t 7 + 2 = 9  (ViandeEF)\r\n",
      "\t\t\t\t\t(T1-P1)+(P1-d) : interpretation -> ((PoissonEF-PoissonGAIN)-PoissonEIminusViandeEI)+(PoissonGAIN-PoissonGAINminusViandeGAIN)=ViandeEF\r\n",
      "\t\t\t\t 12 - 3 = 9  (ViandeEF)\r\n",
      "\t\t\t\t\tT1-d : interpretation -> PoissonEF-(PoissonGAINminusViandeGAIN+PoissonEIminusViandeEI)=ViandeEF\r\n",
      "\t\t\t 12 - 3 = 9  (ViandeEF)\r\n",
      "\t\t\t\tT1-d : interpretation -> PoissonEF-(PoissonGAINminusViandeGAIN+PoissonEIminusViandeEI)=ViandeEF\r\n",
      "\t\t 5 - 3 = 2  (ViandeGAIN)\r\n",
      "\t\t\t 7 - 0 = 7  (ViandeEI)\r\n",
      "\t\t\t\t 7 + 2 = 9  (ViandeEF)\r\n",
      "\t\t\t\t\t(T1-P1)+(P1-d) : interpretation -> ((PoissonEF-PoissonGAIN)-PoissonEIminusViandeEI)+(PoissonGAIN-PoissonGAINminusViandeGAIN)=ViandeEF\r\n",
      "\t\t\t\t 12 - 3 = 9  (ViandeEF)\r\n",
      "\t\t\t\t\tT1-d : interpretation -> PoissonEF-(PoissonGAINminusViandeGAIN+PoissonEIminusViandeEI)=ViandeEF\r\n",
      "\t\t\t 12 - 3 = 9  (ViandeEF)\r\n",
      "\t\t\t\tT1-d : interpretation -> PoissonEF-(PoissonGAINminusViandeGAIN+PoissonEIminusViandeEI)=ViandeEF\r\n",
      "\t\t 12 - 3 = 9  (ViandeEF)\r\n",
      "\t\t\tT1-d : interpretation -> PoissonEF-(PoissonGAINminusViandeGAIN+PoissonEIminusViandeEI)=ViandeEF\r\n",
      "\t 5 - 3 = 2  (ViandeGAIN)\r\n",
      "\t\t 12 - 5 = 7  (PoissonEI)\r\n",
      "\t\t\t 7 - 0 = 7  (ViandeEI)\r\n",
      "\t\t\t\t 7 + 2 = 9  (ViandeEF)\r\n",
      "\t\t\t\t\t(T1-P1)+(P1-d) : interpretation -> ((PoissonEF-PoissonGAIN)-PoissonEIminusViandeEI)+(PoissonGAIN-PoissonGAINminusViandeGAIN)=ViandeEF\r\n",
      "\t\t\t\t 12 - 3 = 9  (ViandeEF)\r\n",
      "\t\t\t\t\tT1-d : interpretation -> PoissonEF-(PoissonGAINminusViandeGAIN+PoissonEIminusViandeEI)=ViandeEF\r\n",
      "\t\t\t 12 - 3 = 9  (ViandeEF)\r\n",
      "\t\t\t\tT1-d : interpretation -> PoissonEF-(PoissonGAINminusViandeGAIN+PoissonEIminusViandeEI)=ViandeEF\r\n",
      "\t\t 12 - 3 = 9  (ViandeEF)\r\n",
      "\t\t\tT1-d : interpretation -> PoissonEF-(PoissonGAINminusViandeGAIN+PoissonEIminusViandeEI)=ViandeEF\r\n",
      "\t 12 - 3 = 9  (ViandeEF)\r\n",
      "\t\tT1-d : interpretation -> PoissonEF-(PoissonGAINminusViandeGAIN+PoissonEIminusViandeEI)=ViandeEF\r\n",
      "\n"
     ]
    }
   ],
   "source": [
    "autoSolver.TreePaths.scanTree()\n",
    "print(autoSolver.TreePaths.treeOutput)"
   ]
  },
  {
   "cell_type": "code",
   "execution_count": 143,
   "metadata": {
    "collapsed": false
   },
   "outputs": [
    {
     "name": "stdout",
     "output_type": "stream",
     "text": [
      "41 different paths have been discovered\n"
     ]
    }
   ],
   "source": [
    "print(str(autoSolver.TreePaths.pathsCount)+\" different paths have been discovered\" )"
   ]
  },
  {
   "cell_type": "markdown",
   "metadata": {},
   "source": [
    "Let's inspect the first path recorded in the treePaths"
   ]
  },
  {
   "cell_type": "code",
   "execution_count": 144,
   "metadata": {
    "collapsed": false
   },
   "outputs": [
    {
     "name": "stdout",
     "output_type": "stream",
     "text": [
      "(T1-P1)+(P1-d)\n",
      "((PoissonEF-PoissonGAIN)-PoissonEIminusViandeEI)+(PoissonGAIN-PoissonGAINminusViandeGAIN)=ViandeEF\n",
      "\n",
      "9\n",
      "True\n"
     ]
    }
   ],
   "source": [
    "aPath=autoSolver.TreePaths.pathList[0]\n",
    "print(aPath.formula)\n",
    "print(aPath.objectFormula)\n",
    "print(aPath.interpretationsSummary)\n",
    "print(aPath.valueFound)\n",
    "print(aPath.problemSolved)"
   ]
  },
  {
   "cell_type": "markdown",
   "metadata": {},
   "source": [
    "### 2.6.2 Other intructions"
   ]
  },
  {
   "cell_type": "markdown",
   "metadata": {},
   "source": [
    "solver.SCHEMAS and solver.INTERP are two other instructions.\n",
    "For example if the list of actions is [solver.SCHEM,solver.INTERP,solver.SOLVE], then the automatic solver will start with applying a schema, then applying a interpretation change, and finally will finish by a solving process as seen above. \n",
    "This list of instruction will find all the paths which has this kind of pattern."
   ]
  },
  {
   "cell_type": "code",
   "execution_count": 145,
   "metadata": {
    "collapsed": false
   },
   "outputs": [],
   "source": [
    "upD.startAsUnderstood()\n",
    "autoSolver2=Solver(upD,constraints)\n",
    "autoSolver2.generalSequentialSolver(listOfActions=[autoSolver2.SCHEMA,autoSolver2.INTERP,autoSolver2.SOLVER])"
   ]
  },
  {
   "cell_type": "markdown",
   "metadata": {},
   "source": [
    "Let's inspect a path"
   ]
  },
  {
   "cell_type": "code",
   "execution_count": 146,
   "metadata": {
    "collapsed": false
   },
   "outputs": [
    {
     "name": "stdout",
     "output_type": "stream",
     "text": [
      "P1-d\n",
      "PoissonEF-(PoissonGAINminusViandeGAIN+PoissonEIminusViandeEI)=ViandeEF\n",
      " # P1 interpreted as PoissonEF\n",
      "2\n",
      "True\n"
     ]
    }
   ],
   "source": [
    "autoSolver2.TreePaths.scanTree()\n",
    "aPath=autoSolver2.TreePaths.pathList[43]\n",
    "print(aPath.formula)\n",
    "print(aPath.objectFormula)\n",
    "print(aPath.interpretationsSummary)\n",
    "print(aPath.valueFound)\n",
    "print(aPath.problemSolved)"
   ]
  },
  {
   "cell_type": "markdown",
   "metadata": {},
   "source": [
    "# [3] Handle the simulated datas"
   ]
  },
  {
   "cell_type": "markdown",
   "metadata": {},
   "source": [
    "SimulatedDatas is a class used to store different treepath and eventually reduce some redondancies between the different paths."
   ]
  },
  {
   "cell_type": "code",
   "execution_count": 147,
   "metadata": {
    "collapsed": false
   },
   "outputs": [],
   "source": [
    "simulatedDatas=SimulatedDatas()\n",
    "simulatedDatas.addDataSet(solver1.TreePaths.pathList,\"pbm1\",\"Manual Solver\")\n",
    "simulatedDatas.addDataSet(autoSolver.TreePaths.pathList,\"pbm1\",\"Expert Solver\")\n",
    "simulatedDatas.addDataSet(autoSolver2.TreePaths.pathList,\"pbm1\",\"Another Solver\")"
   ]
  },
  {
   "cell_type": "markdown",
   "metadata": {},
   "source": [
    "simulatedDatas can print its datas in a CSV via **simulatedDatas.printCSV()** or in the console using **simulatedDatas.printLines()**"
   ]
  },
  {
   "cell_type": "code",
   "execution_count": 148,
   "metadata": {
    "collapsed": false
   },
   "outputs": [
    {
     "name": "stdout",
     "output_type": "stream",
     "text": [
      "('pbm1', 'Expert Solver', ['T1-d', True, 'PoissonEF-(PoissonGAINminusViandeGAIN+PoissonEIminusViandeEI)=ViandeEF', ''])\n",
      "('pbm1', 'Expert Solver', ['(T1-P1)+(P1-d)', True, '((PoissonEF-PoissonGAIN)-PoissonEIminusViandeEI)+(PoissonGAIN-PoissonGAINminusViandeGAIN)=ViandeEF', ''])\n",
      "('pbm1', 'Another Solver', ['(T1+P1)-d', True, '((PoissonEF-PoissonGAIN)+PoissonGAIN)-(PoissonGAINminusViandeGAIN+PoissonEIminusViandeEI)=ViandeEF', ' # T1 interpreted as PoissonEI'])\n",
      "('pbm1', 'Another Solver', ['(T1+P1)-d', True, '(PoissonEI+PoissonGAIN)-(PoissonGAINminusViandeGAIN+PoissonEIminusViandeEI)=ViandeEF', ' # T1 interpreted as PoissonEI'])\n",
      "('pbm1', 'Another Solver', ['P1', False, 'PoissonGAIN-PoissonGAINminusViandeGAIN=ViandeGAIN', ' # dEI interpreted as PoissonGAINminusViandeGAIN'])\n",
      "('pbm1', 'Another Solver', ['T1-(P1-d)', True, 'PoissonEF-((PoissonGAIN-ViandeGAIN)+PoissonEIminusViandeEI)=ViandeEF', ' # d interpreted as ViandeGAIN'])\n",
      "('pbm1', 'Another Solver', ['T1-(P1-d)', True, 'PoissonEF-((PoissonGAIN-(PoissonGAIN-PoissonGAINminusViandeGAIN))+PoissonEIminusViandeEI)=ViandeEF', ' # d interpreted as ViandeGAIN'])\n",
      "('pbm1', 'Another Solver', ['d', True, 'ViandeEF', ' # d interpreted as ViandeEF'])\n",
      "('pbm1', 'Another Solver', ['(T1-P1)-d', True, '((PoissonEF-PoissonGAIN)-PoissonEIminusViandeEI)+ViandeGAIN=ViandeEF', ' # -d interpreted as ViandeGAIN'])\n",
      "('pbm1', 'Another Solver', ['(T1-P1)-d', True, '((PoissonEF-PoissonGAIN)-PoissonEIminusViandeEI)+(PoissonGAIN-PoissonGAINminusViandeGAIN)=ViandeEF', ' # -d interpreted as ViandeGAIN'])\n",
      "('pbm1', 'Another Solver', ['P1-d', True, 'PoissonEF-(PoissonGAINminusViandeGAIN+PoissonEIminusViandeEI)=ViandeEF', ' # P1 interpreted as PoissonEF'])\n",
      "('pbm1', 'Another Solver', ['P1+(P1-d)', True, '(PoissonEI-PoissonEIminusViandeEI)+(PoissonGAIN-PoissonGAINminusViandeGAIN)=ViandeEF', ' # P1 interpreted as PoissonEI'])\n",
      "('pbm1', 'Another Solver', ['(T1-P1)+d', True, '((PoissonEF-PoissonGAIN)-PoissonEIminusViandeEI)+ViandeGAIN=ViandeEF', ' # d interpreted as ViandeGAIN'])\n",
      "('pbm1', 'Another Solver', ['(T1-P1)+d', True, '((PoissonEF-PoissonGAIN)-PoissonEIminusViandeEI)+(PoissonGAIN-PoissonGAINminusViandeGAIN)=ViandeEF', ' # d interpreted as ViandeGAIN'])\n",
      "('pbm1', 'Another Solver', ['T1+(P1-d)', True, '((PoissonEF-PoissonGAIN)-PoissonEIminusViandeEI)+(PoissonGAIN-PoissonGAINminusViandeGAIN)=ViandeEF', ' # T1 interpreted as PoissonEI'])\n",
      "('pbm1', 'Another Solver', ['T1+(P1-d)', True, '(PoissonEI-PoissonEIminusViandeEI)+(PoissonGAIN-PoissonGAINminusViandeGAIN)=ViandeEF', ' # T1 interpreted as PoissonEI'])\n",
      "('pbm1', 'Another Solver', ['T1', True, 'PoissonEF-PoissonEFminusViandeEF=ViandeEF', ' # dEI interpreted as PoissonEFminusViandeEF'])\n",
      "('pbm1', 'Another Solver', ['T1', True, 'PoissonEF-(PoissonGAINminusViandeGAIN+PoissonEIminusViandeEI)=ViandeEF', ' # dEI interpreted as PoissonEFminusViandeEF'])\n",
      "('pbm1', 'Another Solver', ['P1+((T1-P1)-d)', True, '((PoissonEF-PoissonGAIN)-PoissonEIminusViandeEI)+((PoissonEF-(PoissonEF-PoissonGAIN))-PoissonGAINminusViandeGAIN)=ViandeEF', ' # P1 interpreted as PoissonEI'])\n",
      "('pbm1', 'Another Solver', ['P1+((T1-P1)-d)', True, '(PoissonEI-PoissonEIminusViandeEI)+((PoissonEF-PoissonEI)-PoissonGAINminusViandeGAIN)=ViandeEF', ' # P1 interpreted as PoissonEI'])\n",
      "('pbm1', 'Another Solver', ['P1+((T1-P1)-d)', True, '(PoissonGAIN-PoissonGAINminusViandeGAIN)+((PoissonEF-PoissonGAIN)-((PoissonGAINminusViandeGAIN+PoissonEIminusViandeEI)-PoissonGAINminusViandeGAIN))=ViandeEF', ' # dEI interpreted as PoissonGAINminusViandeGAIN'])\n",
      "('pbm1', 'Another Solver', ['(T1-P1)+(d-((T1-P1)-P1))', True, '((PoissonEF-PoissonGAIN)-PoissonEIminusViandeEI)+(PoissonGAINminusViandeGAIN-((PoissonEF-PoissonGAIN)-PoissonEF))=ViandeEF', ' # P1 interpreted as PoissonEF'])\n",
      "('pbm1', 'Another Solver', ['T1-P1', False, 'PoissonEF-PoissonGAIN=PoissonEI', ''])\n",
      "('pbm1', 'Another Solver', ['T1-(P1+d)', True, 'PoissonEF-((PoissonGAIN-ViandeGAIN)+PoissonEIminusViandeEI)=ViandeEF', ' # -d interpreted as ViandeGAIN'])\n",
      "('pbm1', 'Another Solver', ['T1-(P1+d)', True, 'PoissonEF-((PoissonGAIN-(PoissonGAIN-PoissonGAINminusViandeGAIN))+PoissonEIminusViandeEI)=ViandeEF', ' # -d interpreted as ViandeGAIN'])\n",
      "('pbm1', 'Another Solver', ['((T1-P1)-d)+(P1-d)', True, '((PoissonEF-PoissonGAIN)-(PoissonGAINminusViandeGAIN-PoissonEFminusViandeEF))+(PoissonGAIN-PoissonGAINminusViandeGAIN)=ViandeEF', ' # dEI interpreted as PoissonEFminusViandeEF'])\n",
      "('pbm1', 'Another Solver', ['((T1-P1)-d)+(P1-d)', True, '((PoissonEF-PoissonGAIN)-(PoissonGAINminusViandeGAIN-(PoissonGAINminusViandeGAIN+PoissonEIminusViandeEI)))+(PoissonGAIN-PoissonGAINminusViandeGAIN)=ViandeEF', ' # dEI interpreted as PoissonEFminusViandeEF'])\n",
      "('pbm1', 'Another Solver', ['T1-d', True, 'PoissonEF-(PoissonGAINminusViandeGAIN+PoissonEIminusViandeEI)=ViandeEF', ''])\n",
      "('pbm1', 'Another Solver', ['T1-d', True, 'PoissonEF-PoissonEFminusViandeEF=ViandeEF', ' # d interpreted as PoissonEFminusViandeEF'])\n",
      "('pbm1', 'Another Solver', ['T1-d', True, 'PoissonEF-(PoissonGAINminusViandeGAIN+PoissonEIminusViandeEI)=ViandeEF', ' # d interpreted as PoissonEFminusViandeEF'])\n",
      "('pbm1', 'Another Solver', ['(T1-P1)+(P1-d)', True, '((PoissonEF-PoissonGAIN)-PoissonEIminusViandeEI)+(PoissonGAIN-(PoissonEFminusViandeEF-PoissonEIminusViandeEI))=ViandeEF', ' # d interpreted as PoissonEFminusViandeEF'])\n",
      "('pbm1', 'Another Solver', ['(T1-P1)+(P1-d)', True, '((PoissonEF-PoissonGAIN)-PoissonEIminusViandeEI)+(PoissonGAIN-PoissonGAINminusViandeGAIN)=ViandeEF', ''])\n",
      "('pbm1', 'Another Solver', ['(T1-P1)+(P1-d)', True, '((PoissonEF-PoissonGAIN)-PoissonEIminusViandeEI)+(PoissonGAIN-((PoissonGAINminusViandeGAIN+PoissonEIminusViandeEI)-PoissonEIminusViandeEI))=ViandeEF', ' # d interpreted as PoissonEFminusViandeEF'])\n"
     ]
    }
   ],
   "source": [
    "simulatedDatas.printLines()"
   ]
  }
 ],
 "metadata": {
  "celltoolbar": "Slideshow",
  "kernelspec": {
   "display_name": "Python 2",
   "language": "python",
   "name": "python2"
  },
  "language_info": {
   "codemirror_mode": {
    "name": "ipython",
    "version": 2
   },
   "file_extension": ".py",
   "mimetype": "text/x-python",
   "name": "python",
   "nbconvert_exporter": "python",
   "pygments_lexer": "ipython2",
   "version": "2.7.10"
  }
 },
 "nbformat": 4,
 "nbformat_minor": 0
}
