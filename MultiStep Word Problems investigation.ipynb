{
 "metadata": {
  "celltoolbar": "Slideshow",
  "name": "",
  "signature": "sha256:120977226c4c1c65e2a6c572eb7f8e099aea41037105d36cfa5ed1575c64be7f"
 },
 "nbformat": 3,
 "nbformat_minor": 0,
 "worksheets": [
  {
   "cells": [
    {
     "cell_type": "markdown",
     "metadata": {},
     "source": [
      "#### IMPORTS"
     ]
    },
    {
     "cell_type": "code",
     "collapsed": false,
     "input": [
      "import wpsolving.operations as operations\n",
      "from wpsolving.schemas import *\n",
      "from wpsolving.subjectRepresentations import *\n",
      "from wpsolving.textRepresentations import *\n",
      "from wpsolving.paths import *\n",
      "from wpsolving.dataManager import *\n",
      "import uuid\n",
      "import csv"
     ],
     "language": "python",
     "metadata": {
      "slideshow": {
       "slide_type": "-"
      }
     },
     "outputs": [],
     "prompt_number": 1
    },
    {
     "cell_type": "markdown",
     "metadata": {
      "slideshow": {
       "slide_type": "-"
      }
     },
     "source": [
      "#Declare the problem"
     ]
    },
    {
     "cell_type": "markdown",
     "metadata": {},
     "source": [
      "## Declare the mathematical structure of the problem"
     ]
    },
    {
     "cell_type": "code",
     "collapsed": false,
     "input": [
      "schema1=Schema(\"PoissonEF\",\"PoissonEI\",operations.addition,\"PoissonGAIN\",\"change\")\n",
      "schema2=Schema(\"ViandeEF\",\"ViandeEI\",operations.addition,\"ViandeGAIN\",\"change\")"
     ],
     "language": "python",
     "metadata": {},
     "outputs": [],
     "prompt_number": 2
    },
    {
     "cell_type": "markdown",
     "metadata": {},
     "source": [
      "Two schema describing the first relationships between the quantities are added"
     ]
    },
    {
     "cell_type": "code",
     "collapsed": false,
     "input": [
      "schema1.objects"
     ],
     "language": "python",
     "metadata": {},
     "outputs": [
      {
       "metadata": {},
       "output_type": "pyout",
       "prompt_number": 3,
       "text": [
        "{'q1': 'PoissonEI', 'q2': 'PoissonGAIN', 'qf': 'PoissonEF'}"
       ]
      }
     ],
     "prompt_number": 3
    },
    {
     "cell_type": "code",
     "collapsed": false,
     "input": [
      "struct=ProblemStructure()\n",
      "struct.addSchema(schema1)\n",
      "struct.addSchema(schema2)"
     ],
     "language": "python",
     "metadata": {},
     "outputs": [],
     "prompt_number": 4
    },
    {
     "cell_type": "markdown",
     "metadata": {},
     "source": [
      "We create the structure where schemas are added"
     ]
    },
    {
     "cell_type": "code",
     "collapsed": false,
     "input": [
      "struct.addBridgingSchemas(schema1,schema2)"
     ],
     "language": "python",
     "metadata": {},
     "outputs": [],
     "prompt_number": 5
    },
    {
     "cell_type": "markdown",
     "metadata": {},
     "source": [
      "And we create the schemas in order to create all the correspondances between the first two schemas"
     ]
    },
    {
     "cell_type": "code",
     "collapsed": false,
     "input": [
      "ls=struct.schemas\n",
      "for schem in ls:\n",
      "    print(schem.objects)"
     ],
     "language": "python",
     "metadata": {},
     "outputs": [
      {
       "output_type": "stream",
       "stream": "stdout",
       "text": [
        "{'q1': 'PoissonEI', 'q2': 'PoissonGAIN', 'qf': 'PoissonEF'}\n",
        "{'q1': 'ViandeEI', 'q2': 'ViandeGAIN', 'qf': 'ViandeEF'}\n",
        "{'q1': 'PoissonEI', 'q2': 'ViandeEI', 'qf': 'PoissonEIminusViandeEI'}\n",
        "{'q1': 'PoissonGAIN', 'q2': 'ViandeGAIN', 'qf': 'PoissonGAINminusViandeGAIN'}\n",
        "{'q1': 'PoissonEF', 'q2': 'ViandeEF', 'qf': 'PoissonEFminusViandeEF'}\n",
        "{'q1': 'PoissonEIminusViandeEI', 'q2': 'PoissonGAINminusViandeGAIN', 'qf': 'PoissonEFminusViandeEF'}\n"
       ]
      }
     ],
     "prompt_number": 6
    },
    {
     "cell_type": "code",
     "collapsed": false,
     "input": [
      "struct.updateObjectList()"
     ],
     "language": "python",
     "metadata": {},
     "outputs": [],
     "prompt_number": 7
    },
    {
     "cell_type": "code",
     "collapsed": false,
     "input": [
      "print(struct.objectSet)"
     ],
     "language": "python",
     "metadata": {},
     "outputs": [
      {
       "output_type": "stream",
       "stream": "stdout",
       "text": [
        "set(['PoissonEI', 'PoissonEF', 'PoissonEIminusViandeEI', 'PoissonGAINminusViandeGAIN', 'ViandeEF', 'ViandeGAIN', 'ViandeEI', 'PoissonEFminusViandeEF', 'PoissonGAIN'])\n"
       ]
      }
     ],
     "prompt_number": 8
    },
    {
     "cell_type": "markdown",
     "metadata": {},
     "source": [
      "## Declare the text informations provided in the problem\n",
      "#### The sentences"
     ]
    },
    {
     "cell_type": "code",
     "collapsed": false,
     "input": [
      "text=Text()\n",
      "text.addTextInformation(TextInformation(Representation(Quantity(\"PoissonGAIN\",\"P1\"),'Au supermarch\u00e9, le kilo de poisson a augment\u00e9 de 5 euros cette ann\u00e9e')))\n",
      "text.addTextInformation(TextInformation(Representation(Quantity(\"PoissonEF\",\"T1\"),'Un kilo de poisson coute maintenant 12 euros.')))\n",
      "text.addTextInformation(TextInformation(Representation(Quantity(\"PoissonEIminusViandeEI\",\"dEI\"),'Au d\u00e9but de l\\'ann\u00e9e, le kilo de viande coutait le m\u00eame prix que le kilo de poisson.')))\n",
      "text.addTextInformation(TextInformation(Representation(Quantity(\"PoissonGAINminusViandeGAIN\",\"d\"),'Le kilo de viande a augment\u00e9 de 3 euros de moins que le kilo de poisson')))"
     ],
     "language": "python",
     "metadata": {},
     "outputs": [],
     "prompt_number": 9
    },
    {
     "cell_type": "markdown",
     "metadata": {},
     "source": [
      "#### The Goal"
     ]
    },
    {
     "cell_type": "code",
     "collapsed": false,
     "input": [
      "text.setGoal(TextGoal(Goal('ViandeEF','Combien coute le kilo de viande maintenant?')))"
     ],
     "language": "python",
     "metadata": {},
     "outputs": [],
     "prompt_number": 10
    },
    {
     "cell_type": "markdown",
     "metadata": {},
     "source": [
      "#### The alternative representations"
     ]
    },
    {
     "cell_type": "code",
     "collapsed": true,
     "input": [
      "text.getTextInformation(0).addAlternativeRepresentation(Representation(Quantity(\"PoissonEI\",\"P1\"),'Au supermarch\u00e9, le kilo de poisson \u00e9tait de 5 euros'))\n",
      "text.getTextInformation(0).addAlternativeRepresentation(Representation(Quantity(\"PoissonEF\",\"P1\"),'Au supermarch\u00e9, le kilo de poisson coute 5 euros'))\n",
      "text.getTextInformation(1).addAlternativeRepresentation(Representation(Quantity(\"PoissonEI\",\"T1\"),'Un kilo de poisson \u00e9tait de 12 euros.'))\n",
      "text.getTextInformation(2).addAlternativeRepresentation(Representation(Quantity(\"PoissonEFminusViandeEF\",\"dEI\"),'Au la fin de l\\'ann\u00e9e, le kilo de viande coute le m\u00eame prix que le kilo de poisson.'))\n",
      "text.getTextInformation(2).addAlternativeRepresentation(Representation(Quantity(\"PoissonGAINminusViandeGAIN\",\"dEI\"),'Le kilo de viande a augment\u00e9 du m\u00eame prix que le kilo de poisson.'))\n",
      "text.getTextInformation(3).addAlternativeRepresentation(Representation(Quantity(\"ViandeGAIN\",\"d\"),'Le kilo de viande a augment\u00e9 de 3 euros'))\n",
      "text.getTextInformation(3).addAlternativeRepresentation(Representation(Quantity(\"ViandeGAIN\",\"-d\"),'Le kilo de viande a diminu\u00e9 de 3 euros'))\n",
      "text.getTextInformation(3).addAlternativeRepresentation(Representation(Quantity(\"PoissonEFminusViandeEF\",\"d\"),'Le kilo de viande vaut 3 euross de moins que le kilo de poisson'))\n",
      "text.getTextInformation(3).addAlternativeRepresentation(Representation(Quantity(\"ViandeEF\",\"d\"),'Le kilo coute 3 euros \u00e0 la fin'))"
     ],
     "language": "python",
     "metadata": {},
     "outputs": [],
     "prompt_number": 11
    },
    {
     "cell_type": "code",
     "collapsed": false,
     "input": [
      "textInfo=text.textInformations[3]\n",
      "for representation in textInfo.representations:\n",
      "    print(representation.quantity.object,representation.quantity.value)"
     ],
     "language": "python",
     "metadata": {},
     "outputs": [
      {
       "output_type": "stream",
       "stream": "stdout",
       "text": [
        "('PoissonGAINminusViandeGAIN', 'd')\n",
        "('ViandeGAIN', 'd')\n",
        "('ViandeGAIN', '-d')\n",
        "('PoissonEFminusViandeEF', 'd')\n",
        "('ViandeEF', 'd')\n"
       ]
      }
     ],
     "prompt_number": 12
    },
    {
     "cell_type": "markdown",
     "metadata": {},
     "source": [
      "### Create the problem"
     ]
    },
    {
     "cell_type": "code",
     "collapsed": false,
     "input": [
      "probleme1=Problem(struct,text)"
     ],
     "language": "python",
     "metadata": {},
     "outputs": [],
     "prompt_number": 13
    },
    {
     "cell_type": "markdown",
     "metadata": {},
     "source": [
      "Set the initial values"
     ]
    },
    {
     "cell_type": "code",
     "collapsed": false,
     "input": [
      "probleme1.setInitialValues({\"P1\":5,\"T1\":12,\"dEI\":0,\"d\":3,\"-d\":-3})"
     ],
     "language": "python",
     "metadata": {},
     "outputs": [],
     "prompt_number": 14
    },
    {
     "cell_type": "markdown",
     "metadata": {},
     "source": [
      "## Declare the solver"
     ]
    },
    {
     "cell_type": "markdown",
     "metadata": {},
     "source": [
      "Init the representation of the problem"
     ]
    },
    {
     "cell_type": "code",
     "collapsed": false,
     "input": [
      "upD=Updater(probleme1) # create the problem state\n",
      "upD.startAsUnderstood() # init the problem state"
     ],
     "language": "python",
     "metadata": {},
     "outputs": [],
     "prompt_number": 15
    },
    {
     "cell_type": "markdown",
     "metadata": {},
     "source": [
      "Define the behavioral constraint of the solvers"
     ]
    },
    {
     "cell_type": "code",
     "collapsed": false,
     "input": [
      "c1=IntervalConstraint(['EF','EI'],operations.superiorOrEqualTo0)\n",
      "c2=BehavioralConstraint(breakTheOldOne=True)\n",
      "constraints=[c1,c2]"
     ],
     "language": "python",
     "metadata": {},
     "outputs": [],
     "prompt_number": 16
    },
    {
     "cell_type": "markdown",
     "metadata": {},
     "source": [
      "Create the solvers"
     ]
    },
    {
     "cell_type": "code",
     "collapsed": false,
     "input": [
      "solver1=Solver(upD,constraints)\n",
      "listOfActions1=[solver1.SOLVER]# the solver is only asked to apply schemas until the problem is solved\n",
      "solver1.generalSequentialSolver(listOfActions1)"
     ],
     "language": "python",
     "metadata": {},
     "outputs": [],
     "prompt_number": 17
    },
    {
     "cell_type": "markdown",
     "metadata": {},
     "source": [
      "### generate the solution space"
     ]
    },
    {
     "cell_type": "code",
     "collapsed": false,
     "input": [
      "solver1.TreePaths.scanTree()\n",
      "print(solver1.TreePaths.treeOutput)"
     ],
     "language": "python",
     "metadata": {},
     "outputs": [
      {
       "output_type": "stream",
       "stream": "stdout",
       "text": [
        " 12 - 5 = 7  (PoissonEI)\r\n",
        "\t 7 - 0 = 7  (ViandeEI)\r\n",
        "\t\t 5 - 3 = 2  (ViandeGAIN)\r\n",
        "\t\t\t 7 + 2 = 9  (ViandeEF)\r\n",
        "\t\t\t\t(T1-P1)+(P1-d) : interpretation -> ((PoissonEF-PoissonGAIN)-PoissonEIminusViandeEI)+(PoissonGAIN-PoissonGAINminusViandeGAIN)=ViandeEF\r\n",
        "\t\t\t 3 + 0 = 3  (PoissonEFminusViandeEF)\r\n",
        "\t\t\t\t 7 + 2 = 9  (ViandeEF)\r\n",
        "\t\t\t\t\t(T1-P1)+(P1-d) : interpretation -> ((PoissonEF-PoissonGAIN)-PoissonEIminusViandeEI)+(PoissonGAIN-PoissonGAINminusViandeGAIN)=ViandeEF\r\n",
        "\t\t\t\t 12 - 3 = 9  (ViandeEF)\r\n",
        "\t\t\t\t\tT1-d : interpretation -> PoissonEF-(PoissonGAINminusViandeGAIN+PoissonEIminusViandeEI)=ViandeEF\r\n",
        "\t\t 3 + 0 = 3  (PoissonEFminusViandeEF)\r\n",
        "\t\t\t 5 - 3 = 2  (ViandeGAIN)\r\n",
        "\t\t\t\t 7 + 2 = 9  (ViandeEF)\r\n",
        "\t\t\t\t\t(T1-P1)+(P1-d) : interpretation -> ((PoissonEF-PoissonGAIN)-PoissonEIminusViandeEI)+(PoissonGAIN-PoissonGAINminusViandeGAIN)=ViandeEF\r\n",
        "\t\t\t\t 12 - 3 = 9  (ViandeEF)\r\n",
        "\t\t\t\t\tT1-d : interpretation -> PoissonEF-(PoissonGAINminusViandeGAIN+PoissonEIminusViandeEI)=ViandeEF\r\n",
        "\t\t\t 12 - 3 = 9  (ViandeEF)\r\n",
        "\t\t\t\tT1-d : interpretation -> PoissonEF-(PoissonGAINminusViandeGAIN+PoissonEIminusViandeEI)=ViandeEF\r\n",
        "\t 5 - 3 = 2  (ViandeGAIN)\r\n",
        "\t\t 7 - 0 = 7  (ViandeEI)\r\n",
        "\t\t\t 7 + 2 = 9  (ViandeEF)\r\n",
        "\t\t\t\t(T1-P1)+(P1-d) : interpretation -> ((PoissonEF-PoissonGAIN)-PoissonEIminusViandeEI)+(PoissonGAIN-PoissonGAINminusViandeGAIN)=ViandeEF\r\n",
        "\t\t\t 3 + 0 = 3  (PoissonEFminusViandeEF)\r\n",
        "\t\t\t\t 7 + 2 = 9  (ViandeEF)\r\n",
        "\t\t\t\t\t(T1-P1)+(P1-d) : interpretation -> ((PoissonEF-PoissonGAIN)-PoissonEIminusViandeEI)+(PoissonGAIN-PoissonGAINminusViandeGAIN)=ViandeEF\r\n",
        "\t\t\t\t 12 - 3 = 9  (ViandeEF)\r\n",
        "\t\t\t\t\tT1-d : interpretation -> PoissonEF-(PoissonGAINminusViandeGAIN+PoissonEIminusViandeEI)=ViandeEF\r\n",
        "\t\t 3 + 0 = 3  (PoissonEFminusViandeEF)\r\n",
        "\t\t\t 7 - 0 = 7  (ViandeEI)\r\n",
        "\t\t\t\t 7 + 2 = 9  (ViandeEF)\r\n",
        "\t\t\t\t\t(T1-P1)+(P1-d) : interpretation -> ((PoissonEF-PoissonGAIN)-PoissonEIminusViandeEI)+(PoissonGAIN-PoissonGAINminusViandeGAIN)=ViandeEF\r\n",
        "\t\t\t\t 12 - 3 = 9  (ViandeEF)\r\n",
        "\t\t\t\t\tT1-d : interpretation -> PoissonEF-(PoissonGAINminusViandeGAIN+PoissonEIminusViandeEI)=ViandeEF\r\n",
        "\t\t\t 12 - 3 = 9  (ViandeEF)\r\n",
        "\t\t\t\tT1-d : interpretation -> PoissonEF-(PoissonGAINminusViandeGAIN+PoissonEIminusViandeEI)=ViandeEF\r\n",
        "\t 3 + 0 = 3  (PoissonEFminusViandeEF)\r\n",
        "\t\t 7 - 0 = 7  (ViandeEI)\r\n",
        "\t\t\t 5 - 3 = 2  (ViandeGAIN)\r\n",
        "\t\t\t\t 7 + 2 = 9  (ViandeEF)\r\n",
        "\t\t\t\t\t(T1-P1)+(P1-d) : interpretation -> ((PoissonEF-PoissonGAIN)-PoissonEIminusViandeEI)+(PoissonGAIN-PoissonGAINminusViandeGAIN)=ViandeEF\r\n",
        "\t\t\t\t 12 - 3 = 9  (ViandeEF)\r\n",
        "\t\t\t\t\tT1-d : interpretation -> PoissonEF-(PoissonGAINminusViandeGAIN+PoissonEIminusViandeEI)=ViandeEF\r\n",
        "\t\t\t 12 - 3 = 9  (ViandeEF)\r\n",
        "\t\t\t\tT1-d : interpretation -> PoissonEF-(PoissonGAINminusViandeGAIN+PoissonEIminusViandeEI)=ViandeEF\r\n",
        "\t\t 5 - 3 = 2  (ViandeGAIN)\r\n",
        "\t\t\t 7 - 0 = 7  (ViandeEI)\r\n",
        "\t\t\t\t 7 + 2 = 9  (ViandeEF)\r\n",
        "\t\t\t\t\t(T1-P1)+(P1-d) : interpretation -> ((PoissonEF-PoissonGAIN)-PoissonEIminusViandeEI)+(PoissonGAIN-PoissonGAINminusViandeGAIN)=ViandeEF\r\n",
        "\t\t\t\t 12 - 3 = 9  (ViandeEF)\r\n",
        "\t\t\t\t\tT1-d : interpretation -> PoissonEF-(PoissonGAINminusViandeGAIN+PoissonEIminusViandeEI)=ViandeEF\r\n",
        "\t\t\t 12 - 3 = 9  (ViandeEF)\r\n",
        "\t\t\t\tT1-d : interpretation -> PoissonEF-(PoissonGAINminusViandeGAIN+PoissonEIminusViandeEI)=ViandeEF\r\n",
        "\t\t 12 - 3 = 9  (ViandeEF)\r\n",
        "\t\t\tT1-d : interpretation -> PoissonEF-(PoissonGAINminusViandeGAIN+PoissonEIminusViandeEI)=ViandeEF\r\n",
        " 5 - 3 = 2  (ViandeGAIN)\r\n",
        "\t 12 - 5 = 7  (PoissonEI)\r\n",
        "\t\t 7 - 0 = 7  (ViandeEI)\r\n",
        "\t\t\t 7 + 2 = 9  (ViandeEF)\r\n",
        "\t\t\t\t(T1-P1)+(P1-d) : interpretation -> ((PoissonEF-PoissonGAIN)-PoissonEIminusViandeEI)+(PoissonGAIN-PoissonGAINminusViandeGAIN)=ViandeEF\r\n",
        "\t\t\t 3 + 0 = 3  (PoissonEFminusViandeEF)\r\n",
        "\t\t\t\t 7 + 2 = 9  (ViandeEF)\r\n",
        "\t\t\t\t\t(T1-P1)+(P1-d) : interpretation -> ((PoissonEF-PoissonGAIN)-PoissonEIminusViandeEI)+(PoissonGAIN-PoissonGAINminusViandeGAIN)=ViandeEF\r\n",
        "\t\t\t\t 12 - 3 = 9  (ViandeEF)\r\n",
        "\t\t\t\t\tT1-d : interpretation -> PoissonEF-(PoissonGAINminusViandeGAIN+PoissonEIminusViandeEI)=ViandeEF\r\n",
        "\t\t 3 + 0 = 3  (PoissonEFminusViandeEF)\r\n",
        "\t\t\t 7 - 0 = 7  (ViandeEI)\r\n",
        "\t\t\t\t 7 + 2 = 9  (ViandeEF)\r\n",
        "\t\t\t\t\t(T1-P1)+(P1-d) : interpretation -> ((PoissonEF-PoissonGAIN)-PoissonEIminusViandeEI)+(PoissonGAIN-PoissonGAINminusViandeGAIN)=ViandeEF\r\n",
        "\t\t\t\t 12 - 3 = 9  (ViandeEF)\r\n",
        "\t\t\t\t\tT1-d : interpretation -> PoissonEF-(PoissonGAINminusViandeGAIN+PoissonEIminusViandeEI)=ViandeEF\r\n",
        "\t\t\t 12 - 3 = 9  (ViandeEF)\r\n",
        "\t\t\t\tT1-d : interpretation -> PoissonEF-(PoissonGAINminusViandeGAIN+PoissonEIminusViandeEI)=ViandeEF\r\n",
        "\t 3 + 0 = 3  (PoissonEFminusViandeEF)\r\n",
        "\t\t 12 - 5 = 7  (PoissonEI)\r\n",
        "\t\t\t 7 - 0 = 7  (ViandeEI)\r\n",
        "\t\t\t\t 7 + 2 = 9  (ViandeEF)\r\n",
        "\t\t\t\t\t(T1-P1)+(P1-d) : interpretation -> ((PoissonEF-PoissonGAIN)-PoissonEIminusViandeEI)+(PoissonGAIN-PoissonGAINminusViandeGAIN)=ViandeEF\r\n",
        "\t\t\t\t 12 - 3 = 9  (ViandeEF)\r\n",
        "\t\t\t\t\tT1-d : interpretation -> PoissonEF-(PoissonGAINminusViandeGAIN+PoissonEIminusViandeEI)=ViandeEF\r\n",
        "\t\t\t 12 - 3 = 9  (ViandeEF)\r\n",
        "\t\t\t\tT1-d : interpretation -> PoissonEF-(PoissonGAINminusViandeGAIN+PoissonEIminusViandeEI)=ViandeEF\r\n",
        "\t\t 12 - 3 = 9  (ViandeEF)\r\n",
        "\t\t\tT1-d : interpretation -> PoissonEF-(PoissonGAINminusViandeGAIN+PoissonEIminusViandeEI)=ViandeEF\r\n",
        " 3 + 0 = 3  (PoissonEFminusViandeEF)\r\n",
        "\t 12 - 5 = 7  (PoissonEI)\r\n",
        "\t\t 7 - 0 = 7  (ViandeEI)\r\n",
        "\t\t\t 5 - 3 = 2  (ViandeGAIN)\r\n",
        "\t\t\t\t 7 + 2 = 9  (ViandeEF)\r\n",
        "\t\t\t\t\t(T1-P1)+(P1-d) : interpretation -> ((PoissonEF-PoissonGAIN)-PoissonEIminusViandeEI)+(PoissonGAIN-PoissonGAINminusViandeGAIN)=ViandeEF\r\n",
        "\t\t\t\t 12 - 3 = 9  (ViandeEF)\r\n",
        "\t\t\t\t\tT1-d : interpretation -> PoissonEF-(PoissonGAINminusViandeGAIN+PoissonEIminusViandeEI)=ViandeEF\r\n",
        "\t\t\t 12 - 3 = 9  (ViandeEF)\r\n",
        "\t\t\t\tT1-d : interpretation -> PoissonEF-(PoissonGAINminusViandeGAIN+PoissonEIminusViandeEI)=ViandeEF\r\n",
        "\t\t 5 - 3 = 2  (ViandeGAIN)\r\n",
        "\t\t\t 7 - 0 = 7  (ViandeEI)\r\n",
        "\t\t\t\t 7 + 2 = 9  (ViandeEF)\r\n",
        "\t\t\t\t\t(T1-P1)+(P1-d) : interpretation -> ((PoissonEF-PoissonGAIN)-PoissonEIminusViandeEI)+(PoissonGAIN-PoissonGAINminusViandeGAIN)=ViandeEF\r\n",
        "\t\t\t\t 12 - 3 = 9  (ViandeEF)\r\n",
        "\t\t\t\t\tT1-d : interpretation -> PoissonEF-(PoissonGAINminusViandeGAIN+PoissonEIminusViandeEI)=ViandeEF\r\n",
        "\t\t\t 12 - 3 = 9  (ViandeEF)\r\n",
        "\t\t\t\tT1-d : interpretation -> PoissonEF-(PoissonGAINminusViandeGAIN+PoissonEIminusViandeEI)=ViandeEF\r\n",
        "\t\t 12 - 3 = 9  (ViandeEF)\r\n",
        "\t\t\tT1-d : interpretation -> PoissonEF-(PoissonGAINminusViandeGAIN+PoissonEIminusViandeEI)=ViandeEF\r\n",
        "\t 5 - 3 = 2  (ViandeGAIN)\r\n",
        "\t\t 12 - 5 = 7  (PoissonEI)\r\n",
        "\t\t\t 7 - 0 = 7  (ViandeEI)\r\n",
        "\t\t\t\t 7 + 2 = 9  (ViandeEF)\r\n",
        "\t\t\t\t\t(T1-P1)+(P1-d) : interpretation -> ((PoissonEF-PoissonGAIN)-PoissonEIminusViandeEI)+(PoissonGAIN-PoissonGAINminusViandeGAIN)=ViandeEF\r\n",
        "\t\t\t\t 12 - 3 = 9  (ViandeEF)\r\n",
        "\t\t\t\t\tT1-d : interpretation -> PoissonEF-(PoissonGAINminusViandeGAIN+PoissonEIminusViandeEI)=ViandeEF\r\n",
        "\t\t\t 12 - 3 = 9  (ViandeEF)\r\n",
        "\t\t\t\tT1-d : interpretation -> PoissonEF-(PoissonGAINminusViandeGAIN+PoissonEIminusViandeEI)=ViandeEF\r\n",
        "\t\t 12 - 3 = 9  (ViandeEF)\r\n",
        "\t\t\tT1-d : interpretation -> PoissonEF-(PoissonGAINminusViandeGAIN+PoissonEIminusViandeEI)=ViandeEF\r\n",
        "\t 12 - 3 = 9  (ViandeEF)\r\n",
        "\t\tT1-d : interpretation -> PoissonEF-(PoissonGAINminusViandeGAIN+PoissonEIminusViandeEI)=ViandeEF\r\n",
        "\n"
       ]
      }
     ],
     "prompt_number": 18
    },
    {
     "cell_type": "code",
     "collapsed": false,
     "input": [
      "print(str(solver1.TreePaths.pathsCount)+\" different paths have been discovered\" )"
     ],
     "language": "python",
     "metadata": {},
     "outputs": [
      {
       "output_type": "stream",
       "stream": "stdout",
       "text": [
        "41 different paths have been discovered\n"
       ]
      }
     ],
     "prompt_number": 19
    },
    {
     "cell_type": "markdown",
     "metadata": {},
     "source": [
      "### Inspect the datas "
     ]
    },
    {
     "cell_type": "code",
     "collapsed": false,
     "input": [
      "simulatedDatas=SimulatedDatas()\n",
      "simulatedDatas.addDataSet(solver1.TreePaths.pathList,\"problem1\",\"True Solver\")"
     ],
     "language": "python",
     "metadata": {},
     "outputs": [
      {
       "output_type": "stream",
       "stream": "stdout",
       "text": [
        "['T1-d', True, 'PoissonEF-(PoissonGAINminusViandeGAIN+PoissonEIminusViandeEI)=ViandeEF', '']\n",
        "['(T1-P1)+(P1-d)', True, '((PoissonEF-PoissonGAIN)-PoissonEIminusViandeEI)+(PoissonGAIN-PoissonGAINminusViandeGAIN)=ViandeEF', '']\n"
       ]
      }
     ],
     "prompt_number": 20
    },
    {
     "cell_type": "markdown",
     "metadata": {},
     "source": [
      "### Declare another solver and add it to the simulated Datas"
     ]
    },
    {
     "cell_type": "code",
     "collapsed": false,
     "input": [
      "c2=BehavioralConstraint(breakTheOldOne=False)\n",
      "constraints=[c1,c2]\n",
      "solver=Solver(upD,constraints)\n",
      "solver.generalSequentialSolver(listOfActions=[solver.SCHEMA,solver.INTERP,solver.SCHEMA,solver.INTERP,solver.SOLVER])\n",
      "solver.TreePaths.scanTree()\n",
      "simulatedDatas.addDataSet(solver.TreePaths.pathList,\"Tc4t\",\"Schem+Int+Schem+Int+Solve_NOBREAK\")"
     ],
     "language": "python",
     "metadata": {},
     "outputs": [
      {
       "output_type": "stream",
       "stream": "stdout",
       "text": [
        "['P1', True, 'PoissonEF-PoissonEFminusViandeEF=ViandeEF', ' # P1 interpreted as PoissonEF # dEI interpreted as PoissonEFminusViandeEF']\n",
        "['P1', True, 'PoissonEF-(PoissonGAINminusViandeGAIN+PoissonEIminusViandeEI)=ViandeEF', ' # P1 interpreted as PoissonEF # dEI interpreted as PoissonEFminusViandeEF']\n",
        "['P1', True, 'PoissonEF-PoissonEFminusViandeEF=ViandeEF', ' # dEI interpreted as PoissonEFminusViandeEF # P1 interpreted as PoissonEF']\n",
        "['P1', True, 'PoissonEF-(PoissonGAINminusViandeGAIN+PoissonEIminusViandeEI)=ViandeEF', ' # dEI interpreted as PoissonEFminusViandeEF # P1 interpreted as PoissonEF']\n",
        "['T1+d', True, '((PoissonEF-PoissonGAIN)-PoissonEIminusViandeEI)+ViandeGAIN=ViandeEF', ' # T1 interpreted as PoissonEI # d interpreted as ViandeGAIN']\n",
        "['T1+d', True, '((PoissonEF-PoissonGAIN)-PoissonEIminusViandeEI)+(PoissonGAIN-PoissonGAINminusViandeGAIN)=ViandeEF', ' # T1 interpreted as PoissonEI # d interpreted as ViandeGAIN']\n",
        "['T1+d', True, '((PoissonEF-PoissonGAIN)-PoissonEIminusViandeEI)+ViandeGAIN=ViandeEF', ' # d interpreted as ViandeGAIN # T1 interpreted as PoissonEI']\n",
        "['T1+d', True, '(PoissonEI-PoissonEIminusViandeEI)+(PoissonGAIN-PoissonGAINminusViandeGAIN)=ViandeEF', ' # T1 interpreted as PoissonEI # d interpreted as ViandeGAIN']\n",
        "['T1+d', True, '((PoissonEF-PoissonGAIN)-PoissonEIminusViandeEI)+(PoissonGAIN-PoissonGAINminusViandeGAIN)=ViandeEF', ' # d interpreted as ViandeGAIN # T1 interpreted as PoissonEI']\n",
        "['T1+d', True, '(PoissonEI-PoissonEIminusViandeEI)+(PoissonGAIN-PoissonGAINminusViandeGAIN)=ViandeEF', ' # d interpreted as ViandeGAIN # T1 interpreted as PoissonEI']\n",
        "['T1+d', True, '(PoissonEI-PoissonEIminusViandeEI)+ViandeGAIN=ViandeEF', ' # T1 interpreted as PoissonEI # d interpreted as ViandeGAIN']\n",
        "['d', True, 'ViandeEF', ' # d interpreted as ViandeEF']\n",
        "['(T1-P1)+P1', True, '((PoissonEF-PoissonGAIN)-PoissonEIminusViandeEI)+(PoissonGAIN-PoissonGAINminusViandeGAIN)=ViandeEF', ' # dEI interpreted as PoissonGAINminusViandeGAIN']\n",
        "['(T1-P1)+P1', True, '((PoissonEF-PoissonGAIN)-PoissonEIminusViandeEI)+(PoissonGAIN-PoissonGAINminusViandeGAIN)=ViandeEF', ' # dEI interpreted as PoissonGAINminusViandeGAIN # dEI interpreted as PoissonEIminusViandeEI']\n",
        "['(T1-P1)+d', True, '((PoissonEF-PoissonGAIN)-PoissonEIminusViandeEI)+ViandeGAIN=ViandeEF', ' # d interpreted as ViandeGAIN']\n",
        "['(T1-P1)+d', True, '((PoissonEF-PoissonGAIN)-PoissonEIminusViandeEI)+(PoissonGAIN-PoissonGAINminusViandeGAIN)=ViandeEF', ' # d interpreted as ViandeGAIN']\n",
        "['(T1-P1)+d', True, '((PoissonEF-PoissonGAIN)-PoissonEIminusViandeEI)+(PoissonGAIN-PoissonGAINminusViandeGAIN)=ViandeEF', ' # dEI interpreted as PoissonGAINminusViandeGAIN # d interpreted as ViandeGAIN']\n",
        "['(T1-P1)+d', True, '((PoissonEF-PoissonGAIN)-PoissonEIminusViandeEI)+ViandeGAIN=ViandeEF', ' # -d interpreted as ViandeGAIN # d interpreted as ViandeGAIN']\n",
        "['(T1-P1)+d', True, '((PoissonEF-PoissonGAIN)-PoissonEIminusViandeEI)+(PoissonGAIN-PoissonGAINminusViandeGAIN)=ViandeEF', ' # -d interpreted as ViandeGAIN # d interpreted as ViandeGAIN']\n",
        "['P1-d', True, 'PoissonEF-(PoissonGAINminusViandeGAIN+PoissonEIminusViandeEI)=ViandeEF', ' # P1 interpreted as PoissonEF']\n",
        "['P1-d', True, '((PoissonEF-PoissonGAIN)-PoissonEIminusViandeEI)+ViandeGAIN=ViandeEF', ' # P1 interpreted as PoissonEI # -d interpreted as ViandeGAIN']\n",
        "['P1-d', True, '((PoissonEF-PoissonGAIN)-PoissonEIminusViandeEI)+(PoissonGAIN-PoissonGAINminusViandeGAIN)=ViandeEF', ' # P1 interpreted as PoissonEI # -d interpreted as ViandeGAIN']\n",
        "['P1-d', True, 'PoissonEF-PoissonEFminusViandeEF=ViandeEF', ' # P1 interpreted as PoissonEF # d interpreted as PoissonEFminusViandeEF']\n",
        "['P1-d', True, 'PoissonEF-(PoissonGAINminusViandeGAIN+PoissonEIminusViandeEI)=ViandeEF', ' # P1 interpreted as PoissonEF # d interpreted as PoissonEFminusViandeEF']\n",
        "['P1-d', True, '((PoissonEF-PoissonGAIN)-PoissonEIminusViandeEI)+ViandeGAIN=ViandeEF', ' # -d interpreted as ViandeGAIN # P1 interpreted as PoissonEI']\n",
        "['P1-d', True, 'PoissonEF-PoissonEFminusViandeEF=ViandeEF', ' # d interpreted as PoissonEFminusViandeEF # P1 interpreted as PoissonEF']\n",
        "['P1-d', True, '(PoissonEI-PoissonEIminusViandeEI)+(PoissonGAIN-PoissonGAINminusViandeGAIN)=ViandeEF', ' # P1 interpreted as PoissonEI # -d interpreted as ViandeGAIN']\n",
        "['P1-d', True, '((PoissonEF-PoissonGAIN)-PoissonEIminusViandeEI)+(PoissonGAIN-PoissonGAINminusViandeGAIN)=ViandeEF', ' # -d interpreted as ViandeGAIN # P1 interpreted as PoissonEI']\n",
        "['P1-d', True, '(PoissonEI-PoissonEIminusViandeEI)+(PoissonGAIN-PoissonGAINminusViandeGAIN)=ViandeEF', ' # -d interpreted as ViandeGAIN # P1 interpreted as PoissonEI']\n",
        "['P1-d', True, '(PoissonEI-PoissonEIminusViandeEI)+ViandeGAIN=ViandeEF', ' # P1 interpreted as PoissonEI # -d interpreted as ViandeGAIN']\n",
        "['P1-d', True, 'PoissonEF-(PoissonGAINminusViandeGAIN+PoissonEIminusViandeEI)=ViandeEF', ' # d interpreted as PoissonEFminusViandeEF # P1 interpreted as PoissonEF']\n",
        "['P1+P1', True, '((PoissonEF-PoissonGAIN)-PoissonEIminusViandeEI)+(PoissonGAIN-PoissonGAINminusViandeGAIN)=ViandeEF', ' # P1 interpreted as PoissonEI # dEI interpreted as PoissonGAINminusViandeGAIN']\n",
        "['P1+P1', True, '((PoissonEF-PoissonGAIN)-PoissonEIminusViandeEI)+(PoissonGAIN-PoissonGAINminusViandeGAIN)=ViandeEF', ' # dEI interpreted as PoissonGAINminusViandeGAIN # P1 interpreted as PoissonEI']\n",
        "['P1+P1', True, '(PoissonEI-PoissonEIminusViandeEI)+(PoissonGAIN-PoissonGAINminusViandeGAIN)=ViandeEF', ' # P1 interpreted as PoissonEI # dEI interpreted as PoissonGAINminusViandeGAIN']\n",
        "['P1+P1', True, '(PoissonEI-PoissonEIminusViandeEI)+(PoissonGAIN-PoissonGAINminusViandeGAIN)=ViandeEF', ' # dEI interpreted as PoissonGAINminusViandeGAIN # P1 interpreted as PoissonEI']\n",
        "['T1+(P1-d)', True, '((PoissonEF-PoissonGAIN)-PoissonEIminusViandeEI)+(PoissonGAIN-PoissonGAINminusViandeGAIN)=ViandeEF', ' # P1 interpreted as PoissonEI # T1 interpreted as PoissonEI']\n",
        "['T1+(P1-d)', True, '((PoissonEF-PoissonGAIN)-PoissonEIminusViandeEI)+(PoissonGAIN-PoissonGAINminusViandeGAIN)=ViandeEF', ' # T1 interpreted as PoissonEI']\n",
        "['T1+(P1-d)', True, '(PoissonEI-PoissonEIminusViandeEI)+(PoissonGAIN-PoissonGAINminusViandeGAIN)=ViandeEF', ' # P1 interpreted as PoissonEI # T1 interpreted as PoissonEI']\n",
        "['T1+(P1-d)', True, '(PoissonEI-PoissonEIminusViandeEI)+(PoissonGAIN-PoissonGAINminusViandeGAIN)=ViandeEF', ' # T1 interpreted as PoissonEI']\n",
        "['T1', True, 'PoissonEF-PoissonEFminusViandeEF=ViandeEF', ' # dEI interpreted as PoissonEFminusViandeEF']\n",
        "['T1', True, 'PoissonEF-(PoissonGAINminusViandeGAIN+PoissonEIminusViandeEI)=ViandeEF', ' # dEI interpreted as PoissonEFminusViandeEF']\n",
        "['T1', True, 'PoissonEF-PoissonEFminusViandeEF=ViandeEF', ' # d interpreted as PoissonEFminusViandeEF # dEI interpreted as PoissonEFminusViandeEF']\n",
        "['T1', True, 'PoissonEF-(PoissonGAINminusViandeGAIN+PoissonEIminusViandeEI)=ViandeEF', ' # d interpreted as PoissonEFminusViandeEF # dEI interpreted as PoissonEFminusViandeEF']\n",
        "['T1+P1', True, '((PoissonEF-PoissonGAIN)-PoissonEIminusViandeEI)+(PoissonGAIN-PoissonGAINminusViandeGAIN)=ViandeEF', ' # T1 interpreted as PoissonEI # dEI interpreted as PoissonGAINminusViandeGAIN']\n",
        "['T1+P1', True, '((PoissonEF-PoissonGAIN)-PoissonEIminusViandeEI)+(PoissonGAIN-PoissonGAINminusViandeGAIN)=ViandeEF', ' # dEI interpreted as PoissonGAINminusViandeGAIN # T1 interpreted as PoissonEI']\n",
        "['T1+P1', True, '(PoissonEI-PoissonEIminusViandeEI)+(PoissonGAIN-PoissonGAINminusViandeGAIN)=ViandeEF', ' # T1 interpreted as PoissonEI # dEI interpreted as PoissonGAINminusViandeGAIN']\n",
        "['T1+P1', True, '(PoissonEI-PoissonEIminusViandeEI)+(PoissonGAIN-PoissonGAINminusViandeGAIN)=ViandeEF', ' # dEI interpreted as PoissonGAINminusViandeGAIN # T1 interpreted as PoissonEI']\n",
        "['(T1-P1)+(P1-d)', True, '((PoissonEF-PoissonGAIN)-PoissonEIminusViandeEI)+(PoissonGAIN-PoissonGAINminusViandeGAIN)=ViandeEF', ' # P1 interpreted as PoissonGAIN']\n",
        "['(T1-P1)+(P1-d)', True, '((PoissonEF-PoissonGAIN)-PoissonEIminusViandeEI)+(PoissonGAIN-PoissonGAINminusViandeGAIN)=ViandeEF', '']\n",
        "['(T1-P1)+(P1-d)', True, '((PoissonEF-PoissonGAIN)-PoissonEIminusViandeEI)+(PoissonGAIN-PoissonGAINminusViandeGAIN)=ViandeEF', ' # dEI interpreted as PoissonEIminusViandeEI']\n",
        "['(T1-P1)+(P1-d)', True, '((PoissonEF-PoissonGAIN)-PoissonEIminusViandeEI)+(PoissonGAIN-PoissonGAINminusViandeGAIN)=ViandeEF', ' # d interpreted as PoissonGAINminusViandeGAIN']\n",
        "['P1+d', True, '((PoissonEF-PoissonGAIN)-PoissonEIminusViandeEI)+ViandeGAIN=ViandeEF', ' # P1 interpreted as PoissonEI # d interpreted as ViandeGAIN']\n",
        "['P1+d', True, '((PoissonEF-PoissonGAIN)-PoissonEIminusViandeEI)+(PoissonGAIN-PoissonGAINminusViandeGAIN)=ViandeEF', ' # P1 interpreted as PoissonEI # d interpreted as ViandeGAIN']\n",
        "['P1+d', True, '((PoissonEF-PoissonGAIN)-PoissonEIminusViandeEI)+ViandeGAIN=ViandeEF', ' # d interpreted as ViandeGAIN # P1 interpreted as PoissonEI']\n",
        "['P1+d', True, '(PoissonEI-PoissonEIminusViandeEI)+(PoissonGAIN-PoissonGAINminusViandeGAIN)=ViandeEF', ' # P1 interpreted as PoissonEI # d interpreted as ViandeGAIN']\n",
        "['P1+d', True, '((PoissonEF-PoissonGAIN)-PoissonEIminusViandeEI)+(PoissonGAIN-PoissonGAINminusViandeGAIN)=ViandeEF', ' # d interpreted as ViandeGAIN # P1 interpreted as PoissonEI']\n",
        "['P1+d', True, '(PoissonEI-PoissonEIminusViandeEI)+(PoissonGAIN-PoissonGAINminusViandeGAIN)=ViandeEF', ' # d interpreted as ViandeGAIN # P1 interpreted as PoissonEI']\n",
        "['P1+d', True, '(PoissonEI-PoissonEIminusViandeEI)+ViandeGAIN=ViandeEF', ' # P1 interpreted as PoissonEI # d interpreted as ViandeGAIN']\n",
        "['P1+(P1-d)', True, '((PoissonEF-PoissonGAIN)-PoissonEIminusViandeEI)+(PoissonGAIN-PoissonGAINminusViandeGAIN)=ViandeEF', ' # P1 interpreted as PoissonEI # P1 interpreted as PoissonGAIN']\n",
        "['P1+(P1-d)', True, '((PoissonEF-PoissonGAIN)-PoissonEIminusViandeEI)+(PoissonGAIN-PoissonGAINminusViandeGAIN)=ViandeEF', ' # P1 interpreted as PoissonEI']\n",
        "['P1+(P1-d)', True, '((PoissonEF-PoissonGAIN)-PoissonEIminusViandeEI)+(PoissonGAIN-PoissonGAINminusViandeGAIN)=ViandeEF', ' # T1 interpreted as PoissonEI # P1 interpreted as PoissonEI']\n",
        "['P1+(P1-d)', True, '(PoissonEI-PoissonEIminusViandeEI)+(PoissonGAIN-PoissonGAINminusViandeGAIN)=ViandeEF', ' # P1 interpreted as PoissonEI']\n",
        "['P1+(P1-d)', True, '(PoissonEI-PoissonEIminusViandeEI)+(PoissonGAIN-PoissonGAINminusViandeGAIN)=ViandeEF', ' # T1 interpreted as PoissonEI # P1 interpreted as PoissonEI']\n",
        "['P1+(P1-d)', True, '(PoissonEI-PoissonEIminusViandeEI)+(PoissonGAIN-PoissonGAINminusViandeGAIN)=ViandeEF', ' # P1 interpreted as PoissonEI # P1 interpreted as PoissonGAIN']\n",
        "['(T1-P1)-d', True, '((PoissonEF-PoissonGAIN)-PoissonEIminusViandeEI)+ViandeGAIN=ViandeEF', ' # -d interpreted as ViandeGAIN']\n",
        "['(T1-P1)-d', True, '((PoissonEF-PoissonGAIN)-PoissonEIminusViandeEI)+(PoissonGAIN-PoissonGAINminusViandeGAIN)=ViandeEF', ' # -d interpreted as ViandeGAIN']\n",
        "['(T1-P1)-d', True, '((PoissonEF-PoissonGAIN)-PoissonEIminusViandeEI)+(PoissonGAIN-PoissonGAINminusViandeGAIN)=ViandeEF', ' # dEI interpreted as PoissonGAINminusViandeGAIN # -d interpreted as ViandeGAIN']\n",
        "['(T1-P1)-d', True, '((PoissonEF-PoissonGAIN)-PoissonEIminusViandeEI)+ViandeGAIN=ViandeEF', ' # d interpreted as ViandeGAIN # -d interpreted as ViandeGAIN']\n",
        "['(T1-P1)-d', True, '((PoissonEF-PoissonGAIN)-PoissonEIminusViandeEI)+(PoissonGAIN-PoissonGAINminusViandeGAIN)=ViandeEF', ' # d interpreted as ViandeGAIN # -d interpreted as ViandeGAIN']\n",
        "['T1-d', True, 'PoissonEF-(PoissonGAINminusViandeGAIN+PoissonEIminusViandeEI)=ViandeEF', '']\n",
        "['T1-d', True, 'PoissonEF-PoissonEFminusViandeEF=ViandeEF', ' # d interpreted as PoissonEFminusViandeEF']\n",
        "['T1-d', True, 'PoissonEF-(PoissonGAINminusViandeGAIN+PoissonEIminusViandeEI)=ViandeEF', ' # d interpreted as PoissonEFminusViandeEF']\n",
        "['T1-d', True, 'PoissonEF-(PoissonGAINminusViandeGAIN+PoissonEIminusViandeEI)=ViandeEF', ' # T1 interpreted as PoissonEF']\n",
        "['T1-d', True, '((PoissonEF-PoissonGAIN)-PoissonEIminusViandeEI)+ViandeGAIN=ViandeEF', ' # T1 interpreted as PoissonEI # -d interpreted as ViandeGAIN']\n",
        "['T1-d', True, '((PoissonEF-PoissonGAIN)-PoissonEIminusViandeEI)+(PoissonGAIN-PoissonGAINminusViandeGAIN)=ViandeEF', ' # T1 interpreted as PoissonEI # -d interpreted as ViandeGAIN']\n",
        "['T1-d', True, 'PoissonEF-PoissonEFminusViandeEF=ViandeEF', ' # dEI interpreted as PoissonEFminusViandeEF # d interpreted as PoissonEFminusViandeEF']\n",
        "['T1-d', True, 'PoissonEF-(PoissonGAINminusViandeGAIN+PoissonEIminusViandeEI)=ViandeEF', ' # d interpreted as PoissonGAINminusViandeGAIN']\n",
        "['T1-d', True, '((PoissonEF-PoissonGAIN)-PoissonEIminusViandeEI)+ViandeGAIN=ViandeEF', ' # -d interpreted as ViandeGAIN # T1 interpreted as PoissonEI']\n",
        "['T1-d', True, '(PoissonEI-PoissonEIminusViandeEI)+(PoissonGAIN-PoissonGAINminusViandeGAIN)=ViandeEF', ' # T1 interpreted as PoissonEI # -d interpreted as ViandeGAIN']\n",
        "['T1-d', True, '((PoissonEF-PoissonGAIN)-PoissonEIminusViandeEI)+(PoissonGAIN-PoissonGAINminusViandeGAIN)=ViandeEF', ' # -d interpreted as ViandeGAIN # T1 interpreted as PoissonEI']\n",
        "['T1-d', True, '(PoissonEI-PoissonEIminusViandeEI)+(PoissonGAIN-PoissonGAINminusViandeGAIN)=ViandeEF', ' # -d interpreted as ViandeGAIN # T1 interpreted as PoissonEI']\n",
        "['T1-d', True, '(PoissonEI-PoissonEIminusViandeEI)+ViandeGAIN=ViandeEF', ' # T1 interpreted as PoissonEI # -d interpreted as ViandeGAIN']\n",
        "['T1-d', True, 'PoissonEF-(PoissonGAINminusViandeGAIN+PoissonEIminusViandeEI)=ViandeEF', ' # dEI interpreted as PoissonEFminusViandeEF # d interpreted as PoissonEFminusViandeEF']\n"
       ]
      }
     ],
     "prompt_number": 22
    }
   ],
   "metadata": {}
  }
 ]
}