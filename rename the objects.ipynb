{
 "metadata": {
  "name": "",
  "signature": "sha256:903bd94f10c4a433ceaaaad403efd3dbbbe2cb017d66ccf8036621fad3c0d58f"
 },
 "nbformat": 3,
 "nbformat_minor": 0,
 "worksheets": [
  {
   "cells": [
    {
     "cell_type": "markdown",
     "metadata": {},
     "source": [
      "## create a new structure starting with a old one"
     ]
    },
    {
     "cell_type": "markdown",
     "metadata": {},
     "source": [
      "###imports"
     ]
    },
    {
     "cell_type": "code",
     "collapsed": false,
     "input": [
      "import lib.operations as operations\n",
      "from lib.schemas import *\n",
      "from lib.subjectRepresentations import *\n",
      "from lib.textRepresentations import *\n",
      "from lib.paths import *\n",
      "from lib.dataManager import *\n",
      "from lib.optionsFactory import *"
     ],
     "language": "python",
     "metadata": {},
     "outputs": [],
     "prompt_number": 1
    },
    {
     "cell_type": "markdown",
     "metadata": {},
     "source": [
      "### create the problem1"
     ]
    },
    {
     "cell_type": "code",
     "collapsed": false,
     "input": [
      "schema1=Schema(\"PoissonEF\",\"PoissonEI\",operations.addition,\"PoissonGAIN\",\"change\")\n",
      "schema2=Schema(\"ViandeEF\",\"ViandeEI\",operations.addition,\"ViandeGAIN\",\"change\")\n",
      "struct=ProblemStructure()\n",
      "struct.addSchema(schema1)\n",
      "struct.addSchema(schema2)\n",
      "struct.addBridgingSchemas(schema1,schema2)\n",
      "struct.updateObjectSet()\n",
      "\n",
      "text=Text()\n",
      "text.addTextInformation(TextInformation(Representation(Quantity(\"PoissonGAIN\",\"P1\"),'Au supermarch\u00e9, le kilo de poisson a augment\u00e9 de 5 euros cette ann\u00e9e')))\n",
      "text.addTextInformation(TextInformation(Representation(Quantity(\"PoissonEF\",\"T1\"),'Un kilo de poisson coute maintenant 12 euros.')))\n",
      "text.addTextInformation(TextInformation(Representation(Quantity(\"PoissonEIminusViandeEI\",\"dEI\"),'Au d\u00e9but de l\\'ann\u00e9e, le kilo de viande coutait le m\u00eame prix que le kilo de poisson.')))\n",
      "text.addTextInformation(TextInformation(Representation(Quantity(\"PoissonGAINminusViandeGAIN\",\"d\"),'Le kilo de viande a augment\u00e9 de 3 euros de moins que le kilo de poisson')))\n",
      "text.setGoal(TextGoal(Goal('ViandeEF','Combien coute le kilo de viande maintenant?')))\n",
      "\n",
      "text.getTextInformation(0).addAlternativeRepresentation(Representation(Quantity(\"PoissonEI\",\"P1\"),'Au supermarch\u00e9, le kilo de poisson \u00e9tait de 5 euros'))\n",
      "text.getTextInformation(0).addAlternativeRepresentation(Representation(Quantity(\"PoissonEF\",\"P1\"),'Au supermarch\u00e9, le kilo de poisson coute 5 euros'))\n",
      "text.getTextInformation(1).addAlternativeRepresentation(Representation(Quantity(\"PoissonEI\",\"T1\"),'Un kilo de poisson \u00e9tait de 12 euros.'))\n",
      "text.getTextInformation(2).addAlternativeRepresentation(Representation(Quantity(\"PoissonEFminusViandeEF\",\"dEI\"),'Au la fin de l\\'ann\u00e9e, le kilo de viande coute le m\u00eame prix que le kilo de poisson.'))\n",
      "text.getTextInformation(2).addAlternativeRepresentation(Representation(Quantity(\"PoissonGAINminusViandeGAIN\",\"dEI\"),'Le kilo de viande a augment\u00e9 du m\u00eame prix que le kilo de poisson.'))\n",
      "text.getTextInformation(3).addAlternativeRepresentation(Representation(Quantity(\"ViandeGAIN\",\"d\"),'Le kilo de viande a augment\u00e9 de 3 euros'))\n",
      "text.getTextInformation(3).addAlternativeRepresentation(Representation(Quantity(\"ViandeGAIN\",\"-d\"),'Le kilo de viande a diminu\u00e9 de 3 euros'))\n",
      "text.getTextInformation(3).addAlternativeRepresentation(Representation(Quantity(\"PoissonGAINminusViandeGAIN\",\"-d\"),'Le kilo de viande a augment\u00e9 de 3 euros de plus que le kilo de poisson'))\n",
      "text.getTextInformation(3).addAlternativeRepresentation(Representation(Quantity(\"PoissonEFminusViandeEF\",\"d\"),'Le kilo de viande vaut 3 euros de moins que le kilo de poisson'))\n",
      "text.getTextInformation(3).addAlternativeRepresentation(Representation(Quantity(\"PoissonEFminusViandeEF\",\"-d\"),'Le kilo de viande vaut 3 euros de plus que le kilo de poisson'))\n",
      "text.getTextInformation(3).addAlternativeRepresentation(Representation(Quantity(\"ViandeEF\",\"d\"),'Le kilo coute 3 euros \u00e0 la fin'))\n",
      "probleme1=Problem(struct,text)"
     ],
     "language": "python",
     "metadata": {},
     "outputs": [],
     "prompt_number": 2
    },
    {
     "cell_type": "markdown",
     "metadata": {},
     "source": [
      "## Deep copy of problem1"
     ]
    },
    {
     "cell_type": "code",
     "collapsed": false,
     "input": [
      "problem2=copy.deepcopy(probleme1)\n",
      "problem3=copy.deepcopy(probleme1)"
     ],
     "language": "python",
     "metadata": {},
     "outputs": [],
     "prompt_number": 3
    },
    {
     "cell_type": "markdown",
     "metadata": {},
     "source": [
      "### **`renameObjects` ** function"
     ]
    },
    {
     "cell_type": "code",
     "collapsed": false,
     "input": [
      "renameDic={'PoissonEF': 'PoissonEFsecond',\n",
      "           'PoissonEI': 'PoissonEIsecond', \n",
      "           'PoissonGAIN': 'PoissonGAINsecond',\n",
      "           'ViandeEF': 'ViandeEFsecond',\n",
      "           'ViandeEI': 'ViandeEIsecond', \n",
      "           'ViandeGAIN': 'ViandeGAINsecond',\n",
      "           'PoissonGAINminusViandeGAIN' : 'PoissonGAINminusViandeGAIN_second', \n",
      "           'PoissonEIminusViandeEI' : 'PoissonEIminusViandeEI_second', \n",
      "           'PoissonEFminusViandeEF' : 'PoissonEFminusViandeEF_second'  \n",
      "           }"
     ],
     "language": "python",
     "metadata": {},
     "outputs": [],
     "prompt_number": 4
    },
    {
     "cell_type": "code",
     "collapsed": false,
     "input": [
      "problem2.renameObjects(renameDic)\n",
      "print(problem2.structure.objectSet)"
     ],
     "language": "python",
     "metadata": {},
     "outputs": [
      {
       "output_type": "stream",
       "stream": "stdout",
       "text": [
        "set(['PoissonEFminusViandeEF_second', 'ViandeGAINsecond', 'ViandeEIsecond', 'PoissonGAINsecond', 'PoissonEFsecond', 'PoissonEIsecond', 'PoissonGAINminusViandeGAIN_second', 'ViandeEFsecond', 'PoissonEIminusViandeEI_second'])\n"
       ]
      }
     ],
     "prompt_number": 5
    },
    {
     "cell_type": "code",
     "collapsed": false,
     "input": [
      "for ti in problem2.text.textInformations:\n",
      "    for rep in ti.representations:\n",
      "        print(rep.quantity.object)"
     ],
     "language": "python",
     "metadata": {},
     "outputs": [
      {
       "output_type": "stream",
       "stream": "stdout",
       "text": [
        "PoissonGAINsecond\n",
        "PoissonEIsecond\n",
        "PoissonEFsecond\n",
        "PoissonEFsecond\n",
        "PoissonEIsecond\n",
        "PoissonEIminusViandeEI_second\n",
        "PoissonEFminusViandeEF_second\n",
        "PoissonGAINminusViandeGAIN_second\n",
        "PoissonGAINminusViandeGAIN_second\n",
        "ViandeGAINsecond\n",
        "ViandeGAINsecond\n",
        "PoissonGAINminusViandeGAIN_second\n",
        "PoissonEFminusViandeEF_second\n",
        "PoissonEFminusViandeEF_second\n",
        "ViandeEFsecond\n"
       ]
      }
     ],
     "prompt_number": 6
    },
    {
     "cell_type": "markdown",
     "metadata": {},
     "source": [
      "### **`renameKeywordObjects`** function"
     ]
    },
    {
     "cell_type": "code",
     "collapsed": false,
     "input": [
      "keydic={\"Poisson\":\"Morue\",\"Viande\":\"Cerf\"}\n",
      "problem3.renameKeywordObjects(keydic)"
     ],
     "language": "python",
     "metadata": {},
     "outputs": [],
     "prompt_number": 7
    },
    {
     "cell_type": "code",
     "collapsed": false,
     "input": [
      "print(problem3.structure.objectSet)"
     ],
     "language": "python",
     "metadata": {},
     "outputs": [
      {
       "output_type": "stream",
       "stream": "stdout",
       "text": [
        "set(['MorueGAINminusCerfGAIN', 'MorueEIminusCerfEI', 'CerfEI', 'MorueEI', 'MorueEFminusCerfEF', 'MorueEF', 'CerfEF', 'MorueGAIN', 'CerfGAIN'])\n"
       ]
      }
     ],
     "prompt_number": 8
    },
    {
     "cell_type": "code",
     "collapsed": false,
     "input": [
      "for s in problem3.structure.schemas:\n",
      "    print(s.objects)"
     ],
     "language": "python",
     "metadata": {},
     "outputs": [
      {
       "output_type": "stream",
       "stream": "stdout",
       "text": [
        "{'q1': 'MorueEI', 'q2': 'MorueGAIN', 'qf': 'MorueEF'}\n",
        "{'q1': 'CerfEI', 'q2': 'CerfGAIN', 'qf': 'CerfEF'}\n",
        "{'q1': 'MorueEI', 'q2': 'CerfEI', 'qf': 'MorueEIminusCerfEI'}\n",
        "{'q1': 'MorueGAIN', 'q2': 'CerfGAIN', 'qf': 'MorueGAINminusCerfGAIN'}\n",
        "{'q1': 'MorueEF', 'q2': 'CerfEF', 'qf': 'MorueEFminusCerfEF'}\n",
        "{'q1': 'MorueEIminusCerfEI', 'q2': 'MorueGAINminusCerfGAIN', 'qf': 'MorueEFminusCerfEF'}\n"
       ]
      }
     ],
     "prompt_number": 9
    },
    {
     "cell_type": "code",
     "collapsed": false,
     "input": [
      "for ti in problem3.text.textInformations:\n",
      "    for rep in ti.representations:\n",
      "        print(rep.quantity.object)"
     ],
     "language": "python",
     "metadata": {},
     "outputs": [
      {
       "output_type": "stream",
       "stream": "stdout",
       "text": [
        "MorueGAIN\n",
        "MorueEI\n",
        "MorueEF\n",
        "MorueEF\n",
        "MorueEI\n",
        "MorueEIminusCerfEI\n",
        "MorueEFminusCerfEF\n",
        "MorueGAINminusCerfGAIN\n",
        "MorueGAINminusCerfGAIN\n",
        "CerfGAIN\n",
        "CerfGAIN\n",
        "MorueGAINminusCerfGAIN\n",
        "MorueEFminusCerfEF\n",
        "MorueEFminusCerfEF\n",
        "CerfEF\n"
       ]
      }
     ],
     "prompt_number": 10
    },
    {
     "cell_type": "code",
     "collapsed": false,
     "input": [
      "problem3.setInitialValues({\"P1\":5,\"T1\":12,\"dEI\":0,\"d\":3,\"-d\":-3})\n",
      "problem3.name=\"Tc4t\""
     ],
     "language": "python",
     "metadata": {},
     "outputs": [],
     "prompt_number": 11
    },
    {
     "cell_type": "markdown",
     "metadata": {},
     "source": [
      "**Let see if the solving process still works**"
     ]
    },
    {
     "cell_type": "markdown",
     "metadata": {},
     "source": [
      "problem2"
     ]
    },
    {
     "cell_type": "code",
     "collapsed": false,
     "input": [
      "upD=Updater(problem2) \n",
      "upD.startAsUnderstood() \n",
      "c1=IntervalConstraint(['EF','EI'],operations.superiorOrEqualTo0) \n",
      "c2=BehavioralConstraint(breakTheOldOne=True)\n",
      "constraints=[c1,c2]\n",
      "autoSolver=Solver(upD,constraints)\n",
      "l=[autoSolver.SOLVER]\n",
      "autoSolver.generalSequentialSolver(listOfActions=l)\n",
      "autoSolver.TreePaths.scanTree()\n",
      "print(autoSolver.TreePaths.treeOutput)"
     ],
     "language": "python",
     "metadata": {},
     "outputs": [
      {
       "output_type": "stream",
       "stream": "stdout",
       "text": [
        " T1 - P1 = T1  (PoissonEIsecond)\r\n",
        "\t dEI - T1 = dEI  (ViandeEIsecond)\r\n",
        "\t\t d - P1 = d  (ViandeGAINsecond)\r\n",
        "\t\t\t dEI + d = dEId  (ViandeEFsecond)\r\n",
        "\t\t\t\t(dEI-(T1-P1))+(d-P1) : interpretation -> (PoissonEIminusViandeEI_second-(PoissonEFsecond-PoissonGAINsecond))+(PoissonGAINminusViandeGAIN_second-PoissonGAINsecond)=ViandeEFsecond\r\n",
        "\t\t\t dEI + d = dEId  (PoissonEFminusViandeEF_second)\r\n",
        "\t\t\t\t dEI + d = dEId  (ViandeEFsecond)\r\n",
        "\t\t\t\t\t(dEI-(T1-P1))+(d-P1) : interpretation -> (PoissonEIminusViandeEI_second-(PoissonEFsecond-PoissonGAINsecond))+(PoissonGAINminusViandeGAIN_second-PoissonGAINsecond)=ViandeEFsecond\r\n",
        "\t\t\t\t dEId - T1 = dEId  (ViandeEFsecond)\r\n",
        "\t\t\t\t\t(dEI+d)-T1 : interpretation -> (PoissonEIminusViandeEI_second+PoissonGAINminusViandeGAIN_second)-PoissonEFsecond=ViandeEFsecond\r\n",
        "\t\t dEI + d = dEId  (PoissonEFminusViandeEF_second)\r\n",
        "\t\t\t d - P1 = d  (ViandeGAINsecond)\r\n",
        "\t\t\t\t dEI + d = dEId  (ViandeEFsecond)\r\n",
        "\t\t\t\t\t(dEI-(T1-P1))+(d-P1) : interpretation -> (PoissonEIminusViandeEI_second-(PoissonEFsecond-PoissonGAINsecond))+(PoissonGAINminusViandeGAIN_second-PoissonGAINsecond)=ViandeEFsecond\r\n",
        "\t\t\t\t dEId - T1 = dEId  (ViandeEFsecond)\r\n",
        "\t\t\t\t\t(dEI+d)-T1 : interpretation -> (PoissonEIminusViandeEI_second+PoissonGAINminusViandeGAIN_second)-PoissonEFsecond=ViandeEFsecond\r\n",
        "\t\t\t dEId - T1 = dEId  (ViandeEFsecond)\r\n",
        "\t\t\t\t(dEI+d)-T1 : interpretation -> (PoissonEIminusViandeEI_second+PoissonGAINminusViandeGAIN_second)-PoissonEFsecond=ViandeEFsecond\r\n",
        "\t d - P1 = d  (ViandeGAINsecond)\r\n",
        "\t\t dEI - T1 = dEI  (ViandeEIsecond)\r\n",
        "\t\t\t dEI + d = dEId  (ViandeEFsecond)\r\n",
        "\t\t\t\t(dEI-(T1-P1))+(d-P1) : interpretation -> (PoissonEIminusViandeEI_second-(PoissonEFsecond-PoissonGAINsecond))+(PoissonGAINminusViandeGAIN_second-PoissonGAINsecond)=ViandeEFsecond\r\n",
        "\t\t\t dEI + d = dEId  (PoissonEFminusViandeEF_second)\r\n",
        "\t\t\t\t dEI + d = dEId  (ViandeEFsecond)\r\n",
        "\t\t\t\t\t(dEI-(T1-P1))+(d-P1) : interpretation -> (PoissonEIminusViandeEI_second-(PoissonEFsecond-PoissonGAINsecond))+(PoissonGAINminusViandeGAIN_second-PoissonGAINsecond)=ViandeEFsecond\r\n",
        "\t\t\t\t dEId - T1 = dEId  (ViandeEFsecond)\r\n",
        "\t\t\t\t\t(dEI+d)-T1 : interpretation -> (PoissonEIminusViandeEI_second+PoissonGAINminusViandeGAIN_second)-PoissonEFsecond=ViandeEFsecond\r\n",
        "\t\t dEI + d = dEId  (PoissonEFminusViandeEF_second)\r\n",
        "\t\t\t dEI - T1 = dEI  (ViandeEIsecond)\r\n",
        "\t\t\t\t dEI + d = dEId  (ViandeEFsecond)\r\n",
        "\t\t\t\t\t(dEI-(T1-P1))+(d-P1) : interpretation -> (PoissonEIminusViandeEI_second-(PoissonEFsecond-PoissonGAINsecond))+(PoissonGAINminusViandeGAIN_second-PoissonGAINsecond)=ViandeEFsecond\r\n",
        "\t\t\t\t dEId - T1 = dEId  (ViandeEFsecond)\r\n",
        "\t\t\t\t\t(dEI+d)-T1 : interpretation -> (PoissonEIminusViandeEI_second+PoissonGAINminusViandeGAIN_second)-PoissonEFsecond=ViandeEFsecond\r\n",
        "\t\t\t dEId - T1 = dEId  (ViandeEFsecond)\r\n",
        "\t\t\t\t(dEI+d)-T1 : interpretation -> (PoissonEIminusViandeEI_second+PoissonGAINminusViandeGAIN_second)-PoissonEFsecond=ViandeEFsecond\r\n",
        "\t dEI + d = dEId  (PoissonEFminusViandeEF_second)\r\n",
        "\t\t dEI - T1 = dEI  (ViandeEIsecond)\r\n",
        "\t\t\t d - P1 = d  (ViandeGAINsecond)\r\n",
        "\t\t\t\t dEI + d = dEId  (ViandeEFsecond)\r\n",
        "\t\t\t\t\t(dEI-(T1-P1))+(d-P1) : interpretation -> (PoissonEIminusViandeEI_second-(PoissonEFsecond-PoissonGAINsecond))+(PoissonGAINminusViandeGAIN_second-PoissonGAINsecond)=ViandeEFsecond\r\n",
        "\t\t\t\t dEId - T1 = dEId  (ViandeEFsecond)\r\n",
        "\t\t\t\t\t(dEI+d)-T1 : interpretation -> (PoissonEIminusViandeEI_second+PoissonGAINminusViandeGAIN_second)-PoissonEFsecond=ViandeEFsecond\r\n",
        "\t\t\t dEId - T1 = dEId  (ViandeEFsecond)\r\n",
        "\t\t\t\t(dEI+d)-T1 : interpretation -> (PoissonEIminusViandeEI_second+PoissonGAINminusViandeGAIN_second)-PoissonEFsecond=ViandeEFsecond\r\n",
        "\t\t d - P1 = d  (ViandeGAINsecond)\r\n",
        "\t\t\t dEI - T1 = dEI  (ViandeEIsecond)\r\n",
        "\t\t\t\t dEI + d = dEId  (ViandeEFsecond)\r\n",
        "\t\t\t\t\t(dEI-(T1-P1))+(d-P1) : interpretation -> (PoissonEIminusViandeEI_second-(PoissonEFsecond-PoissonGAINsecond))+(PoissonGAINminusViandeGAIN_second-PoissonGAINsecond)=ViandeEFsecond\r\n",
        "\t\t\t\t dEId - T1 = dEId  (ViandeEFsecond)\r\n",
        "\t\t\t\t\t(dEI+d)-T1 : interpretation -> (PoissonEIminusViandeEI_second+PoissonGAINminusViandeGAIN_second)-PoissonEFsecond=ViandeEFsecond\r\n",
        "\t\t\t dEId - T1 = dEId  (ViandeEFsecond)\r\n",
        "\t\t\t\t(dEI+d)-T1 : interpretation -> (PoissonEIminusViandeEI_second+PoissonGAINminusViandeGAIN_second)-PoissonEFsecond=ViandeEFsecond\r\n",
        "\t\t dEId - T1 = dEId  (ViandeEFsecond)\r\n",
        "\t\t\t(dEI+d)-T1 : interpretation -> (PoissonEIminusViandeEI_second+PoissonGAINminusViandeGAIN_second)-PoissonEFsecond=ViandeEFsecond\r\n",
        " d - P1 = d  (ViandeGAINsecond)\r\n",
        "\t T1 - P1 = T1  (PoissonEIsecond)\r\n",
        "\t\t dEI - T1 = dEI  (ViandeEIsecond)\r\n",
        "\t\t\t dEI + d = dEId  (ViandeEFsecond)\r\n",
        "\t\t\t\t(dEI-(T1-P1))+(d-P1) : interpretation -> (PoissonEIminusViandeEI_second-(PoissonEFsecond-PoissonGAINsecond))+(PoissonGAINminusViandeGAIN_second-PoissonGAINsecond)=ViandeEFsecond\r\n",
        "\t\t\t dEI + d = dEId  (PoissonEFminusViandeEF_second)\r\n",
        "\t\t\t\t dEI + d = dEId  (ViandeEFsecond)\r\n",
        "\t\t\t\t\t(dEI-(T1-P1))+(d-P1) : interpretation -> (PoissonEIminusViandeEI_second-(PoissonEFsecond-PoissonGAINsecond))+(PoissonGAINminusViandeGAIN_second-PoissonGAINsecond)=ViandeEFsecond\r\n",
        "\t\t\t\t dEId - T1 = dEId  (ViandeEFsecond)\r\n",
        "\t\t\t\t\t(dEI+d)-T1 : interpretation -> (PoissonEIminusViandeEI_second+PoissonGAINminusViandeGAIN_second)-PoissonEFsecond=ViandeEFsecond\r\n",
        "\t\t dEI + d = dEId  (PoissonEFminusViandeEF_second)\r\n",
        "\t\t\t dEI - T1 = dEI  (ViandeEIsecond)\r\n",
        "\t\t\t\t dEI + d = dEId  (ViandeEFsecond)\r\n",
        "\t\t\t\t\t(dEI-(T1-P1))+(d-P1) : interpretation -> (PoissonEIminusViandeEI_second-(PoissonEFsecond-PoissonGAINsecond))+(PoissonGAINminusViandeGAIN_second-PoissonGAINsecond)=ViandeEFsecond\r\n",
        "\t\t\t\t dEId - T1 = dEId  (ViandeEFsecond)\r\n",
        "\t\t\t\t\t(dEI+d)-T1 : interpretation -> (PoissonEIminusViandeEI_second+PoissonGAINminusViandeGAIN_second)-PoissonEFsecond=ViandeEFsecond\r\n",
        "\t\t\t dEId - T1 = dEId  (ViandeEFsecond)\r\n",
        "\t\t\t\t(dEI+d)-T1 : interpretation -> (PoissonEIminusViandeEI_second+PoissonGAINminusViandeGAIN_second)-PoissonEFsecond=ViandeEFsecond\r\n",
        "\t dEI + d = dEId  (PoissonEFminusViandeEF_second)\r\n",
        "\t\t T1 - P1 = T1  (PoissonEIsecond)\r\n",
        "\t\t\t dEI - T1 = dEI  (ViandeEIsecond)\r\n",
        "\t\t\t\t dEI + d = dEId  (ViandeEFsecond)\r\n",
        "\t\t\t\t\t(dEI-(T1-P1))+(d-P1) : interpretation -> (PoissonEIminusViandeEI_second-(PoissonEFsecond-PoissonGAINsecond))+(PoissonGAINminusViandeGAIN_second-PoissonGAINsecond)=ViandeEFsecond\r\n",
        "\t\t\t\t dEId - T1 = dEId  (ViandeEFsecond)\r\n",
        "\t\t\t\t\t(dEI+d)-T1 : interpretation -> (PoissonEIminusViandeEI_second+PoissonGAINminusViandeGAIN_second)-PoissonEFsecond=ViandeEFsecond\r\n",
        "\t\t\t dEId - T1 = dEId  (ViandeEFsecond)\r\n",
        "\t\t\t\t(dEI+d)-T1 : interpretation -> (PoissonEIminusViandeEI_second+PoissonGAINminusViandeGAIN_second)-PoissonEFsecond=ViandeEFsecond\r\n",
        "\t\t dEId - T1 = dEId  (ViandeEFsecond)\r\n",
        "\t\t\t(dEI+d)-T1 : interpretation -> (PoissonEIminusViandeEI_second+PoissonGAINminusViandeGAIN_second)-PoissonEFsecond=ViandeEFsecond\r\n",
        " dEI + d = dEId  (PoissonEFminusViandeEF_second)\r\n",
        "\t T1 - P1 = T1  (PoissonEIsecond)\r\n",
        "\t\t dEI - T1 = dEI  (ViandeEIsecond)\r\n",
        "\t\t\t d - P1 = d  (ViandeGAINsecond)\r\n",
        "\t\t\t\t dEI + d = dEId  (ViandeEFsecond)\r\n",
        "\t\t\t\t\t(dEI-(T1-P1))+(d-P1) : interpretation -> (PoissonEIminusViandeEI_second-(PoissonEFsecond-PoissonGAINsecond))+(PoissonGAINminusViandeGAIN_second-PoissonGAINsecond)=ViandeEFsecond\r\n",
        "\t\t\t\t dEId - T1 = dEId  (ViandeEFsecond)\r\n",
        "\t\t\t\t\t(dEI+d)-T1 : interpretation -> (PoissonEIminusViandeEI_second+PoissonGAINminusViandeGAIN_second)-PoissonEFsecond=ViandeEFsecond\r\n",
        "\t\t\t dEId - T1 = dEId  (ViandeEFsecond)\r\n",
        "\t\t\t\t(dEI+d)-T1 : interpretation -> (PoissonEIminusViandeEI_second+PoissonGAINminusViandeGAIN_second)-PoissonEFsecond=ViandeEFsecond\r\n",
        "\t\t d - P1 = d  (ViandeGAINsecond)\r\n",
        "\t\t\t dEI - T1 = dEI  (ViandeEIsecond)\r\n",
        "\t\t\t\t dEI + d = dEId  (ViandeEFsecond)\r\n",
        "\t\t\t\t\t(dEI-(T1-P1))+(d-P1) : interpretation -> (PoissonEIminusViandeEI_second-(PoissonEFsecond-PoissonGAINsecond))+(PoissonGAINminusViandeGAIN_second-PoissonGAINsecond)=ViandeEFsecond\r\n",
        "\t\t\t\t dEId - T1 = dEId  (ViandeEFsecond)\r\n",
        "\t\t\t\t\t(dEI+d)-T1 : interpretation -> (PoissonEIminusViandeEI_second+PoissonGAINminusViandeGAIN_second)-PoissonEFsecond=ViandeEFsecond\r\n",
        "\t\t\t dEId - T1 = dEId  (ViandeEFsecond)\r\n",
        "\t\t\t\t(dEI+d)-T1 : interpretation -> (PoissonEIminusViandeEI_second+PoissonGAINminusViandeGAIN_second)-PoissonEFsecond=ViandeEFsecond\r\n",
        "\t\t dEId - T1 = dEId  (ViandeEFsecond)\r\n",
        "\t\t\t(dEI+d)-T1 : interpretation -> (PoissonEIminusViandeEI_second+PoissonGAINminusViandeGAIN_second)-PoissonEFsecond=ViandeEFsecond\r\n",
        "\t d - P1 = d  (ViandeGAINsecond)\r\n",
        "\t\t T1 - P1 = T1  (PoissonEIsecond)\r\n",
        "\t\t\t dEI - T1 = dEI  (ViandeEIsecond)\r\n",
        "\t\t\t\t dEI + d = dEId  (ViandeEFsecond)\r\n",
        "\t\t\t\t\t(dEI-(T1-P1))+(d-P1) : interpretation -> (PoissonEIminusViandeEI_second-(PoissonEFsecond-PoissonGAINsecond))+(PoissonGAINminusViandeGAIN_second-PoissonGAINsecond)=ViandeEFsecond\r\n",
        "\t\t\t\t dEId - T1 = dEId  (ViandeEFsecond)\r\n",
        "\t\t\t\t\t(dEI+d)-T1 : interpretation -> (PoissonEIminusViandeEI_second+PoissonGAINminusViandeGAIN_second)-PoissonEFsecond=ViandeEFsecond\r\n",
        "\t\t\t dEId - T1 = dEId  (ViandeEFsecond)\r\n",
        "\t\t\t\t(dEI+d)-T1 : interpretation -> (PoissonEIminusViandeEI_second+PoissonGAINminusViandeGAIN_second)-PoissonEFsecond=ViandeEFsecond\r\n",
        "\t\t dEId - T1 = dEId  (ViandeEFsecond)\r\n",
        "\t\t\t(dEI+d)-T1 : interpretation -> (PoissonEIminusViandeEI_second+PoissonGAINminusViandeGAIN_second)-PoissonEFsecond=ViandeEFsecond\r\n",
        "\t dEId - T1 = dEId  (ViandeEFsecond)\r\n",
        "\t\t(dEI+d)-T1 : interpretation -> (PoissonEIminusViandeEI_second+PoissonGAINminusViandeGAIN_second)-PoissonEFsecond=ViandeEFsecond\r\n",
        "\n"
       ]
      }
     ],
     "prompt_number": 12
    },
    {
     "cell_type": "code",
     "collapsed": false,
     "input": [
      "problem3"
     ],
     "language": "python",
     "metadata": {},
     "outputs": [
      {
       "metadata": {},
       "output_type": "pyout",
       "prompt_number": 13,
       "text": [
        "<lib.subjectRepresentations.Problem instance at 0x000000000A36FEC8>"
       ]
      }
     ],
     "prompt_number": 13
    },
    {
     "cell_type": "code",
     "collapsed": false,
     "input": [
      "upD=Updater(problem3) \n",
      "upD.startAsUnderstood() \n",
      "c1=IntervalConstraint(['EF','EI'],operations.superiorOrEqualTo0) \n",
      "c2=BehavioralConstraint(breakTheOldOne=True)\n",
      "constraints=[c1,c2]\n",
      "autoSolver=Solver(upD,constraints)\n",
      "l=[autoSolver.SOLVER]\n",
      "autoSolver.generalSequentialSolver(listOfActions=l)\n",
      "autoSolver.TreePaths.scanTree()\n",
      "print(autoSolver.TreePaths.treeOutput)"
     ],
     "language": "python",
     "metadata": {},
     "outputs": [
      {
       "output_type": "stream",
       "stream": "stdout",
       "text": [
        " 12 - 5 = 7  (MorueEI)\r\n",
        "\t 7 - 0 = 7  (CerfEI)\r\n",
        "\t\t 5 - 3 = 2  (CerfGAIN)\r\n",
        "\t\t\t 7 + 2 = 9  (CerfEF)\r\n",
        "\t\t\t\t(T1-P1)+(P1-d) : interpretation -> ((MorueEF-MorueGAIN)-MorueEIminusCerfEI)+(MorueGAIN-MorueGAINminusCerfGAIN)=CerfEF\r\n",
        "\t\t\t 3 + 0 = 3  (MorueEFminusCerfEF)\r\n",
        "\t\t\t\t 7 + 2 = 9  (CerfEF)\r\n",
        "\t\t\t\t\t(T1-P1)+(P1-d) : interpretation -> ((MorueEF-MorueGAIN)-MorueEIminusCerfEI)+(MorueGAIN-MorueGAINminusCerfGAIN)=CerfEF\r\n",
        "\t\t\t\t 12 - 3 = 9  (CerfEF)\r\n",
        "\t\t\t\t\tT1-d : interpretation -> MorueEF-(MorueGAINminusCerfGAIN+MorueEIminusCerfEI)=CerfEF\r\n",
        "\t\t 3 + 0 = 3  (MorueEFminusCerfEF)\r\n",
        "\t\t\t 5 - 3 = 2  (CerfGAIN)\r\n",
        "\t\t\t\t 7 + 2 = 9  (CerfEF)\r\n",
        "\t\t\t\t\t(T1-P1)+(P1-d) : interpretation -> ((MorueEF-MorueGAIN)-MorueEIminusCerfEI)+(MorueGAIN-MorueGAINminusCerfGAIN)=CerfEF\r\n",
        "\t\t\t\t 12 - 3 = 9  (CerfEF)\r\n",
        "\t\t\t\t\tT1-d : interpretation -> MorueEF-(MorueGAINminusCerfGAIN+MorueEIminusCerfEI)=CerfEF\r\n",
        "\t\t\t 12 - 3 = 9  (CerfEF)\r\n",
        "\t\t\t\tT1-d : interpretation -> MorueEF-(MorueGAINminusCerfGAIN+MorueEIminusCerfEI)=CerfEF\r\n",
        "\t 5 - 3 = 2  (CerfGAIN)\r\n",
        "\t\t 7 - 0 = 7  (CerfEI)\r\n",
        "\t\t\t 7 + 2 = 9  (CerfEF)\r\n",
        "\t\t\t\t(T1-P1)+(P1-d) : interpretation -> ((MorueEF-MorueGAIN)-MorueEIminusCerfEI)+(MorueGAIN-MorueGAINminusCerfGAIN)=CerfEF\r\n",
        "\t\t\t 3 + 0 = 3  (MorueEFminusCerfEF)\r\n",
        "\t\t\t\t 7 + 2 = 9  (CerfEF)\r\n",
        "\t\t\t\t\t(T1-P1)+(P1-d) : interpretation -> ((MorueEF-MorueGAIN)-MorueEIminusCerfEI)+(MorueGAIN-MorueGAINminusCerfGAIN)=CerfEF\r\n",
        "\t\t\t\t 12 - 3 = 9  (CerfEF)\r\n",
        "\t\t\t\t\tT1-d : interpretation -> MorueEF-(MorueGAINminusCerfGAIN+MorueEIminusCerfEI)=CerfEF\r\n",
        "\t\t 3 + 0 = 3  (MorueEFminusCerfEF)\r\n",
        "\t\t\t 7 - 0 = 7  (CerfEI)\r\n",
        "\t\t\t\t 7 + 2 = 9  (CerfEF)\r\n",
        "\t\t\t\t\t(T1-P1)+(P1-d) : interpretation -> ((MorueEF-MorueGAIN)-MorueEIminusCerfEI)+(MorueGAIN-MorueGAINminusCerfGAIN)=CerfEF\r\n",
        "\t\t\t\t 12 - 3 = 9  (CerfEF)\r\n",
        "\t\t\t\t\tT1-d : interpretation -> MorueEF-(MorueGAINminusCerfGAIN+MorueEIminusCerfEI)=CerfEF\r\n",
        "\t\t\t 12 - 3 = 9  (CerfEF)\r\n",
        "\t\t\t\tT1-d : interpretation -> MorueEF-(MorueGAINminusCerfGAIN+MorueEIminusCerfEI)=CerfEF\r\n",
        "\t 3 + 0 = 3  (MorueEFminusCerfEF)\r\n",
        "\t\t 7 - 0 = 7  (CerfEI)\r\n",
        "\t\t\t 5 - 3 = 2  (CerfGAIN)\r\n",
        "\t\t\t\t 7 + 2 = 9  (CerfEF)\r\n",
        "\t\t\t\t\t(T1-P1)+(P1-d) : interpretation -> ((MorueEF-MorueGAIN)-MorueEIminusCerfEI)+(MorueGAIN-MorueGAINminusCerfGAIN)=CerfEF\r\n",
        "\t\t\t\t 12 - 3 = 9  (CerfEF)\r\n",
        "\t\t\t\t\tT1-d : interpretation -> MorueEF-(MorueGAINminusCerfGAIN+MorueEIminusCerfEI)=CerfEF\r\n",
        "\t\t\t 12 - 3 = 9  (CerfEF)\r\n",
        "\t\t\t\tT1-d : interpretation -> MorueEF-(MorueGAINminusCerfGAIN+MorueEIminusCerfEI)=CerfEF\r\n",
        "\t\t 5 - 3 = 2  (CerfGAIN)\r\n",
        "\t\t\t 7 - 0 = 7  (CerfEI)\r\n",
        "\t\t\t\t 7 + 2 = 9  (CerfEF)\r\n",
        "\t\t\t\t\t(T1-P1)+(P1-d) : interpretation -> ((MorueEF-MorueGAIN)-MorueEIminusCerfEI)+(MorueGAIN-MorueGAINminusCerfGAIN)=CerfEF\r\n",
        "\t\t\t\t 12 - 3 = 9  (CerfEF)\r\n",
        "\t\t\t\t\tT1-d : interpretation -> MorueEF-(MorueGAINminusCerfGAIN+MorueEIminusCerfEI)=CerfEF\r\n",
        "\t\t\t 12 - 3 = 9  (CerfEF)\r\n",
        "\t\t\t\tT1-d : interpretation -> MorueEF-(MorueGAINminusCerfGAIN+MorueEIminusCerfEI)=CerfEF\r\n",
        "\t\t 12 - 3 = 9  (CerfEF)\r\n",
        "\t\t\tT1-d : interpretation -> MorueEF-(MorueGAINminusCerfGAIN+MorueEIminusCerfEI)=CerfEF\r\n",
        " 5 - 3 = 2  (CerfGAIN)\r\n",
        "\t 12 - 5 = 7  (MorueEI)\r\n",
        "\t\t 7 - 0 = 7  (CerfEI)\r\n",
        "\t\t\t 7 + 2 = 9  (CerfEF)\r\n",
        "\t\t\t\t(T1-P1)+(P1-d) : interpretation -> ((MorueEF-MorueGAIN)-MorueEIminusCerfEI)+(MorueGAIN-MorueGAINminusCerfGAIN)=CerfEF\r\n",
        "\t\t\t 3 + 0 = 3  (MorueEFminusCerfEF)\r\n",
        "\t\t\t\t 7 + 2 = 9  (CerfEF)\r\n",
        "\t\t\t\t\t(T1-P1)+(P1-d) : interpretation -> ((MorueEF-MorueGAIN)-MorueEIminusCerfEI)+(MorueGAIN-MorueGAINminusCerfGAIN)=CerfEF\r\n",
        "\t\t\t\t 12 - 3 = 9  (CerfEF)\r\n",
        "\t\t\t\t\tT1-d : interpretation -> MorueEF-(MorueGAINminusCerfGAIN+MorueEIminusCerfEI)=CerfEF\r\n",
        "\t\t 3 + 0 = 3  (MorueEFminusCerfEF)\r\n",
        "\t\t\t 7 - 0 = 7  (CerfEI)\r\n",
        "\t\t\t\t 7 + 2 = 9  (CerfEF)\r\n",
        "\t\t\t\t\t(T1-P1)+(P1-d) : interpretation -> ((MorueEF-MorueGAIN)-MorueEIminusCerfEI)+(MorueGAIN-MorueGAINminusCerfGAIN)=CerfEF\r\n",
        "\t\t\t\t 12 - 3 = 9  (CerfEF)\r\n",
        "\t\t\t\t\tT1-d : interpretation -> MorueEF-(MorueGAINminusCerfGAIN+MorueEIminusCerfEI)=CerfEF\r\n",
        "\t\t\t 12 - 3 = 9  (CerfEF)\r\n",
        "\t\t\t\tT1-d : interpretation -> MorueEF-(MorueGAINminusCerfGAIN+MorueEIminusCerfEI)=CerfEF\r\n",
        "\t 3 + 0 = 3  (MorueEFminusCerfEF)\r\n",
        "\t\t 12 - 5 = 7  (MorueEI)\r\n",
        "\t\t\t 7 - 0 = 7  (CerfEI)\r\n",
        "\t\t\t\t 7 + 2 = 9  (CerfEF)\r\n",
        "\t\t\t\t\t(T1-P1)+(P1-d) : interpretation -> ((MorueEF-MorueGAIN)-MorueEIminusCerfEI)+(MorueGAIN-MorueGAINminusCerfGAIN)=CerfEF\r\n",
        "\t\t\t\t 12 - 3 = 9  (CerfEF)\r\n",
        "\t\t\t\t\tT1-d : interpretation -> MorueEF-(MorueGAINminusCerfGAIN+MorueEIminusCerfEI)=CerfEF\r\n",
        "\t\t\t 12 - 3 = 9  (CerfEF)\r\n",
        "\t\t\t\tT1-d : interpretation -> MorueEF-(MorueGAINminusCerfGAIN+MorueEIminusCerfEI)=CerfEF\r\n",
        "\t\t 12 - 3 = 9  (CerfEF)\r\n",
        "\t\t\tT1-d : interpretation -> MorueEF-(MorueGAINminusCerfGAIN+MorueEIminusCerfEI)=CerfEF\r\n",
        " 3 + 0 = 3  (MorueEFminusCerfEF)\r\n",
        "\t 12 - 5 = 7  (MorueEI)\r\n",
        "\t\t 7 - 0 = 7  (CerfEI)\r\n",
        "\t\t\t 5 - 3 = 2  (CerfGAIN)\r\n",
        "\t\t\t\t 7 + 2 = 9  (CerfEF)\r\n",
        "\t\t\t\t\t(T1-P1)+(P1-d) : interpretation -> ((MorueEF-MorueGAIN)-MorueEIminusCerfEI)+(MorueGAIN-MorueGAINminusCerfGAIN)=CerfEF\r\n",
        "\t\t\t\t 12 - 3 = 9  (CerfEF)\r\n",
        "\t\t\t\t\tT1-d : interpretation -> MorueEF-(MorueGAINminusCerfGAIN+MorueEIminusCerfEI)=CerfEF\r\n",
        "\t\t\t 12 - 3 = 9  (CerfEF)\r\n",
        "\t\t\t\tT1-d : interpretation -> MorueEF-(MorueGAINminusCerfGAIN+MorueEIminusCerfEI)=CerfEF\r\n",
        "\t\t 5 - 3 = 2  (CerfGAIN)\r\n",
        "\t\t\t 7 - 0 = 7  (CerfEI)\r\n",
        "\t\t\t\t 7 + 2 = 9  (CerfEF)\r\n",
        "\t\t\t\t\t(T1-P1)+(P1-d) : interpretation -> ((MorueEF-MorueGAIN)-MorueEIminusCerfEI)+(MorueGAIN-MorueGAINminusCerfGAIN)=CerfEF\r\n",
        "\t\t\t\t 12 - 3 = 9  (CerfEF)\r\n",
        "\t\t\t\t\tT1-d : interpretation -> MorueEF-(MorueGAINminusCerfGAIN+MorueEIminusCerfEI)=CerfEF\r\n",
        "\t\t\t 12 - 3 = 9  (CerfEF)\r\n",
        "\t\t\t\tT1-d : interpretation -> MorueEF-(MorueGAINminusCerfGAIN+MorueEIminusCerfEI)=CerfEF\r\n",
        "\t\t 12 - 3 = 9  (CerfEF)\r\n",
        "\t\t\tT1-d : interpretation -> MorueEF-(MorueGAINminusCerfGAIN+MorueEIminusCerfEI)=CerfEF\r\n",
        "\t 5 - 3 = 2  (CerfGAIN)\r\n",
        "\t\t 12 - 5 = 7  (MorueEI)\r\n",
        "\t\t\t 7 - 0 = 7  (CerfEI)\r\n",
        "\t\t\t\t 7 + 2 = 9  (CerfEF)\r\n",
        "\t\t\t\t\t(T1-P1)+(P1-d) : interpretation -> ((MorueEF-MorueGAIN)-MorueEIminusCerfEI)+(MorueGAIN-MorueGAINminusCerfGAIN)=CerfEF\r\n",
        "\t\t\t\t 12 - 3 = 9  (CerfEF)\r\n",
        "\t\t\t\t\tT1-d : interpretation -> MorueEF-(MorueGAINminusCerfGAIN+MorueEIminusCerfEI)=CerfEF\r\n",
        "\t\t\t 12 - 3 = 9  (CerfEF)\r\n",
        "\t\t\t\tT1-d : interpretation -> MorueEF-(MorueGAINminusCerfGAIN+MorueEIminusCerfEI)=CerfEF\r\n",
        "\t\t 12 - 3 = 9  (CerfEF)\r\n",
        "\t\t\tT1-d : interpretation -> MorueEF-(MorueGAINminusCerfGAIN+MorueEIminusCerfEI)=CerfEF\r\n",
        "\t 12 - 3 = 9  (CerfEF)\r\n",
        "\t\tT1-d : interpretation -> MorueEF-(MorueGAINminusCerfGAIN+MorueEIminusCerfEI)=CerfEF\r\n",
        "\n"
       ]
      }
     ],
     "prompt_number": 14
    },
    {
     "cell_type": "code",
     "collapsed": false,
     "input": [],
     "language": "python",
     "metadata": {},
     "outputs": [],
     "prompt_number": 14
    }
   ],
   "metadata": {}
  }
 ]
}